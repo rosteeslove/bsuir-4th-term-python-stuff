{
 "metadata": {
  "language_info": {
   "codemirror_mode": {
    "name": "ipython",
    "version": 3
   },
   "file_extension": ".py",
   "mimetype": "text/x-python",
   "name": "python",
   "nbconvert_exporter": "python",
   "pygments_lexer": "ipython3",
   "version": "3.8.8"
  },
  "orig_nbformat": 2,
  "kernelspec": {
   "name": "python388jvsc74a57bd0ce2db10f4ff34e0b876ddfba269948e5918580ad074a00f37d2b1d6068e9f6c7",
   "display_name": "Python 3.8.8 64-bit ('base': conda)"
  },
  "metadata": {
   "interpreter": {
    "hash": "ce2db10f4ff34e0b876ddfba269948e5918580ad074a00f37d2b1d6068e9f6c7"
   }
  }
 },
 "nbformat": 4,
 "nbformat_minor": 2,
 "cells": [
  {
   "source": [
    "# ТВиМС Задания 2 и 3\n",
    "\n",
    "## Вариант 14"
   ],
   "cell_type": "markdown",
   "metadata": {}
  },
  {
   "source": [
    "***"
   ],
   "cell_type": "markdown",
   "metadata": {}
  },
  {
   "cell_type": "code",
   "execution_count": 1,
   "metadata": {},
   "outputs": [],
   "source": [
    "import math\n",
    "import random\n",
    "import numpy as np\n",
    "import matplotlib.pyplot as plt\n",
    "\n",
    "from ipywidgets import interact, fixed"
   ]
  },
  {
   "cell_type": "code",
   "execution_count": 2,
   "metadata": {},
   "outputs": [],
   "source": [
    "plt.rcParams['figure.figsize'] = [12, 8]"
   ]
  },
  {
   "cell_type": "code",
   "execution_count": 3,
   "metadata": {},
   "outputs": [],
   "source": [
    "a = 0\n",
    "b = math.pi / 4"
   ]
  },
  {
   "cell_type": "code",
   "execution_count": 4,
   "metadata": {},
   "outputs": [],
   "source": [
    "def get_x():\n",
    "    return a + random.random()*(b-a)\n",
    "\n",
    "def y_func(x):\n",
    "    return math.tan(x)\n",
    "\n",
    "def get_y():\n",
    "    return y_func(get_x())"
   ]
  },
  {
   "cell_type": "code",
   "execution_count": 5,
   "metadata": {},
   "outputs": [],
   "source": [
    "def generate_varseries(n):\n",
    "    ys = []\n",
    "\n",
    "    for i in range(n):\n",
    "        ys.append(get_y())\n",
    "\n",
    "    ys.sort()\n",
    "    return ys"
   ]
  },
  {
   "source": [
    "## Задание 1:"
   ],
   "cell_type": "markdown",
   "metadata": {}
  },
  {
   "cell_type": "code",
   "execution_count": 6,
   "metadata": {},
   "outputs": [],
   "source": [
    "def histogram_data_alpha(a, b, vs, group_num, normalize=False):\n",
    "    \"\"\"Return data needed for type 1 histogram\n",
    "    as a list of tuples each being:\n",
    "    (a bin's left bound, a bin's occurrences count)\n",
    "    \n",
    "    Each bin's interval has its left bound included\n",
    "    and right excluded, e.g. [0, 1), [1, 2), [3, 4), ...\n",
    "    \"\"\"\n",
    "    group_width = (b - a) / group_num\n",
    "    hdata = [[a + i*group_width, 0] for i in range(group_num)]\n",
    "\n",
    "    index = 0\n",
    "    for v in vs:\n",
    "        if index == group_num-1 or v < hdata[index+1][0]:\n",
    "            hdata[index][1] += 1\n",
    "        else:\n",
    "            index += 1\n",
    "            hdata[index][1] += 1\n",
    "\n",
    "    if normalize:\n",
    "        for interval in hdata:\n",
    "            interval[1] /= len(vs)\n",
    "\n",
    "    return hdata"
   ]
  },
  {
   "cell_type": "code",
   "execution_count": 7,
   "metadata": {},
   "outputs": [],
   "source": [
    "def plot_histogram_alpha_and_polygon(a, b, n, group_num, normalize=False):\n",
    "    vs = generate_varseries(n)\n",
    "    hdata = histogram_data_alpha(a, b, vs, group_num, normalize=normalize)\n",
    "    ps = [(hdata[i][0] + hdata[i+1][0]) / 2 for i in range(len(hdata) - 1)]\n",
    "\n",
    "    plt.step([hd[0] for hd in hdata], [hd[1] for hd in hdata], where='post')\n",
    "    plt.scatter(ps, [hd[1] for hd in hdata[:-1]])\n",
    "    plt.plot(ps, [hd[1] for hd in hdata[:-1]])\n",
    "    plt.show()"
   ]
  },
  {
   "source": [
    "## Гистограмма. Равноинтервальный метод"
   ],
   "cell_type": "markdown",
   "metadata": {}
  },
  {
   "cell_type": "code",
   "execution_count": 8,
   "metadata": {},
   "outputs": [
    {
     "output_type": "display_data",
     "data": {
      "text/plain": "interactive(children=(IntSlider(value=500000, description='n', max=1000000, min=1), IntSlider(value=16, descri…",
      "application/vnd.jupyter.widget-view+json": {
       "version_major": 2,
       "version_minor": 0,
       "model_id": "6f8d960ce2644419ab59133278b4b634"
      }
     },
     "metadata": {}
    },
    {
     "output_type": "execute_result",
     "data": {
      "text/plain": [
       "<function __main__.plot_histogram_alpha_and_polygon(a, b, n, group_num, normalize=False)>"
      ]
     },
     "metadata": {},
     "execution_count": 8
    }
   ],
   "source": [
    "interact(plot_histogram_alpha_and_polygon, a=fixed(0), b=fixed(1), n=(1, 1000000), group_num=(1, 32), normalize=False)"
   ]
  },
  {
   "source": [
    "***"
   ],
   "cell_type": "markdown",
   "metadata": {}
  },
  {
   "source": [
    "## Задание 2:"
   ],
   "cell_type": "markdown",
   "metadata": {}
  },
  {
   "cell_type": "code",
   "execution_count": null,
   "metadata": {},
   "outputs": [],
   "source": []
  }
 ]
}