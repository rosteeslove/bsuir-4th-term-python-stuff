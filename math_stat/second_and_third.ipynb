{
 "metadata": {
  "language_info": {
   "codemirror_mode": {
    "name": "ipython",
    "version": 3
   },
   "file_extension": ".py",
   "mimetype": "text/x-python",
   "name": "python",
   "nbconvert_exporter": "python",
   "pygments_lexer": "ipython3",
   "version": "3.8.8"
  },
  "orig_nbformat": 2,
  "kernelspec": {
   "name": "python3",
   "display_name": "Python 3.8.8 64-bit ('base': conda)"
  },
  "metadata": {
   "interpreter": {
    "hash": "ce2db10f4ff34e0b876ddfba269948e5918580ad074a00f37d2b1d6068e9f6c7"
   }
  },
  "interpreter": {
   "hash": "ce2db10f4ff34e0b876ddfba269948e5918580ad074a00f37d2b1d6068e9f6c7"
  }
 },
 "nbformat": 4,
 "nbformat_minor": 2,
 "cells": [
  {
   "source": [
    "# ТВиМС Задания 2 и 3\n",
    "\n",
    "## Вариант 14"
   ],
   "cell_type": "markdown",
   "metadata": {}
  },
  {
   "source": [
    "***"
   ],
   "cell_type": "markdown",
   "metadata": {}
  },
  {
   "cell_type": "code",
   "execution_count": 1,
   "metadata": {},
   "outputs": [],
   "source": [
    "import math\n",
    "import random\n",
    "import numpy as np\n",
    "import matplotlib.pyplot as plt\n",
    "\n",
    "import base\n",
    "import hist\n",
    "import taskdata\n",
    "import extras\n",
    "\n",
    "from ipywidgets import interact, fixed"
   ]
  },
  {
   "cell_type": "code",
   "execution_count": 2,
   "metadata": {},
   "outputs": [],
   "source": [
    "plt.rcParams['figure.figsize'] = [12, 8]"
   ]
  },
  {
   "source": [
    "***"
   ],
   "cell_type": "markdown",
   "metadata": {}
  },
  {
   "source": [
    "## Аналитическое расчеты:\n",
    "\n",
    "![title](imgs/img2.jpg)"
   ],
   "cell_type": "markdown",
   "metadata": {}
  },
  {
   "cell_type": "code",
   "execution_count": 3,
   "metadata": {},
   "outputs": [],
   "source": [
    "# this function has everything for the task\n",
    "def plot_stuff(n, m, bincount_choice='auto', show_hist_=True, show_step=True, show_polygon=True, show_analytic=True, umode='default', nmode='плотность', cumulative=False, hist_func=None):\n",
    "    assert hist_func\n",
    "    if bincount_choice == 'auto':\n",
    "        m = extras.optimal_bin_count(n)\n",
    "\n",
    "    if umode == 'default':\n",
    "        if not cumulative:\n",
    "            nmode = 'плотность'\n",
    "        else:\n",
    "            nmode = 'частости'\n",
    "\n",
    "    # plotting analytic func:\n",
    "    if show_analytic:\n",
    "        domain = np.linspace(taskdata.y_a, taskdata.y_b, 1000)\n",
    "        if not cumulative:\n",
    "            func = taskdata.fy_deduced\n",
    "            label = 'аналитическая функция плотности'\n",
    "        else:\n",
    "            func = taskdata.Fy_deduced\n",
    "            label = 'аналитическая функция распределения'\n",
    "        analytic_ps = [func(y) for y in domain]\n",
    "        plt.plot(domain, analytic_ps, label=label)\n",
    "\n",
    "    vs = base.generate_varseries(taskdata.get_y, n)\n",
    "    hdata = hist_func(vs, m, mode=nmode)\n",
    "\n",
    "    # plotting histogram:\n",
    "    if show_hist_:\n",
    "        hist.plot_hist_w_mode(vs, m, nmode, cumulative=cumulative)\n",
    "    if show_step:\n",
    "        hist.plot_orig_histogram(hdata, cumulative=cumulative)\n",
    "\n",
    "    # plotting frequency polygon:\n",
    "    if show_polygon:\n",
    "        hist.plot_polygon(hdata, cumulative=cumulative)\n",
    "\n",
    "    plt.legend()\n",
    "    plt.show()"
   ]
  },
  {
   "source": [
    "***"
   ],
   "cell_type": "markdown",
   "metadata": {}
  },
  {
   "source": [
    "## Задание 2:"
   ],
   "cell_type": "markdown",
   "metadata": {}
  },
  {
   "cell_type": "code",
   "execution_count": 4,
   "metadata": {},
   "outputs": [
    {
     "output_type": "display_data",
     "data": {
      "text/plain": "interactive(children=(IntSlider(value=500000, description='n', max=1000000, min=1), IntSlider(value=500000, de…",
      "application/vnd.jupyter.widget-view+json": {
       "version_major": 2,
       "version_minor": 0,
       "model_id": "fb191731044240489537eb4539ffd4e0"
      }
     },
     "metadata": {}
    },
    {
     "output_type": "execute_result",
     "data": {
      "text/plain": [
       "<function __main__.plot_stuff(n, m, bincount_choice='auto', show_hist_=True, show_step=True, show_polygon=True, show_analytic=True, umode='default', nmode='плотность', cumulative=False, hist_func=None)>"
      ]
     },
     "metadata": {},
     "execution_count": 4
    }
   ],
   "source": [
    "interact(plot_stuff, n=(1, 1000000), m=(1, 1000000), bincount_choice=['auto', 'manual'], show_hist_=[True, False], show_step=[True, False], show_polygon=[True, False], show_analytic=[True, False], nmode=['частоты', 'частости', 'плотность'], cumulative=[True, False], umode=['default', 'custom'], hist_func=fixed(hist.equalbin))"
   ]
  },
  {
   "source": [
    "***"
   ],
   "cell_type": "markdown",
   "metadata": {}
  },
  {
   "source": [
    "## Задание 3:"
   ],
   "cell_type": "markdown",
   "metadata": {}
  },
  {
   "cell_type": "code",
   "execution_count": 5,
   "metadata": {},
   "outputs": [
    {
     "output_type": "display_data",
     "data": {
      "text/plain": "interactive(children=(IntSlider(value=500001, description='n', max=1000000, min=2), IntSlider(value=500000, de…",
      "application/vnd.jupyter.widget-view+json": {
       "version_major": 2,
       "version_minor": 0,
       "model_id": "c1de61fe100541eea75563b0b1bffec9"
      }
     },
     "metadata": {}
    },
    {
     "output_type": "execute_result",
     "data": {
      "text/plain": [
       "<function __main__.plot_stuff(n, m, bincount_choice='auto', show_hist_=True, show_step=True, show_polygon=True, show_analytic=True, umode='default', nmode='плотность', cumulative=False, hist_func=None)>"
      ]
     },
     "metadata": {},
     "execution_count": 5
    }
   ],
   "source": [
    "interact(plot_stuff, n=(2, 1000000), m=(1, 1000000), bincount_choice=['auto', 'manual'], show_hist_=[True, False], show_step=[True, False], show_polygon=[True, False], show_analytic=[True, False], nmode=['частоты', 'частости', 'плотность'], cumulative=[True, False], umode=['default', 'custom'], hist_func=fixed(hist.equalvar))"
   ]
  }
 ]
}