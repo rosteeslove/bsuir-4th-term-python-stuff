{
 "metadata": {
  "language_info": {
   "codemirror_mode": {
    "name": "ipython",
    "version": 3
   },
   "file_extension": ".py",
   "mimetype": "text/x-python",
   "name": "python",
   "nbconvert_exporter": "python",
   "pygments_lexer": "ipython3",
   "version": "3.8.8"
  },
  "orig_nbformat": 2,
  "kernelspec": {
   "name": "python388jvsc74a57bd0ce2db10f4ff34e0b876ddfba269948e5918580ad074a00f37d2b1d6068e9f6c7",
   "display_name": "Python 3.8.8 64-bit ('base': conda)"
  },
  "metadata": {
   "interpreter": {
    "hash": "ce2db10f4ff34e0b876ddfba269948e5918580ad074a00f37d2b1d6068e9f6c7"
   }
  }
 },
 "nbformat": 4,
 "nbformat_minor": 2,
 "cells": [
  {
   "source": [
    "# ТВиМС Задание 4\n",
    "\n",
    "## Вариант 14\n",
    "\n",
    "Проверка статистических гипотез.\n",
    "Критерии согласия Пирсона, Колмогорова, Мизеса."
   ],
   "cell_type": "markdown",
   "metadata": {}
  },
  {
   "cell_type": "code",
   "execution_count": 1,
   "metadata": {},
   "outputs": [],
   "source": [
    "import math\n",
    "import random\n",
    "import numpy as np\n",
    "import matplotlib.pyplot as plt\n",
    "\n",
    "from ipywidgets import interact"
   ]
  },
  {
   "cell_type": "code",
   "execution_count": 2,
   "metadata": {},
   "outputs": [],
   "source": [
    "plt.rcParams['figure.figsize'] = [12, 8]"
   ]
  },
  {
   "cell_type": "code",
   "execution_count": 3,
   "metadata": {},
   "outputs": [],
   "source": [
    "a = 0\n",
    "b = math.pi / 4"
   ]
  },
  {
   "cell_type": "code",
   "execution_count": 4,
   "metadata": {},
   "outputs": [],
   "source": [
    "def get_x():\n",
    "    return  + random.random()*(b-a)\n",
    "\n",
    "def y_func(x):\n",
    "    return math.tan(x)\n",
    "\n",
    "def get_y():\n",
    "    return y_func(get_x())"
   ]
  },
  {
   "cell_type": "code",
   "execution_count": 5,
   "metadata": {},
   "outputs": [],
   "source": [
    "def generate_varseries(n):\n",
    "    ys = []\n",
    "\n",
    "    for i in range(n):\n",
    "        ys.append(get_y())\n",
    "\n",
    "    ys.sort()\n",
    "    return ys"
   ]
  },
  {
   "cell_type": "code",
   "execution_count": 6,
   "metadata": {},
   "outputs": [],
   "source": [
    "def Fy_deduced(y):\n",
    "    if y < 0:\n",
    "        return 0\n",
    "    elif y > 1:\n",
    "        return 1\n",
    "    else:\n",
    "        return 4 / math.pi * math.atan(y)\n",
    "\n",
    "def fy_deduced(y):\n",
    "    if y < 0 or y > 1:\n",
    "        return 0\n",
    "    else:\n",
    "        return 4 / (math.pi * (1 + y**2))"
   ]
  },
  {
   "source": [
    "***"
   ],
   "cell_type": "markdown",
   "metadata": {}
  },
  {
   "cell_type": "code",
   "execution_count": 7,
   "metadata": {},
   "outputs": [],
   "source": [
    "# (copied from second_and_third.ipynb with slight modifications)\n",
    "def histogram_data_beta(a, b, vs, group_num, normalize=True):\n",
    "    \"\"\"Return data needed for type 2 histogram\n",
    "    as a list of tuples each being:\n",
    "    (a bin's left bound, a bin's occurrences count)\n",
    "    \n",
    "    Each bin's interval has its left bound included\n",
    "    and right excluded, e.g. [0, 1), [1, 2), [3, 4), ...\n",
    "\n",
    "    Примечание: работает только для НСВ с почти-лишь-только-один-раз-встречающимися\n",
    "    элементами вариационного ряда (здесь вар-ряд = выборка из-за *высокой степени\n",
    "    уникальности* элементов выборки, т.е. элементы списка 'vs' могут повторяться,\n",
    "    но это очень маловероятно, если число b-a неотрицательного порядка/\n",
    "    однозначного отрицательного порядка - порядок условно от -9 до 10+)\n",
    "    \"\"\"\n",
    "    bin_capacity = len(vs) // group_num + (1 if len(vs) % group_num != 0 else 0)\n",
    "\n",
    "    hdata = [[a, 0]]\n",
    "    for i in range(len(vs)):\n",
    "        hdata[-1][1] += 1\n",
    "        last_bin_empty = False\n",
    "\n",
    "        # if the last bin is full:\n",
    "        if hdata[-1][1] == bin_capacity:\n",
    "            # calculate its right bound:\n",
    "            if i == len(vs) - 1:\n",
    "                right_bound = b\n",
    "            else:\n",
    "                right_bound = (vs[i] + vs[i+1]) / 2\n",
    "\n",
    "            # add a new empty bin:\n",
    "            hdata.append([right_bound, 0])\n",
    "            last_bin_empty = True\n",
    "\n",
    "    if last_bin_empty:\n",
    "        del hdata[-1]\n",
    "\n",
    "    if normalize:\n",
    "        square = 0\n",
    "        for i in range(len(hdata) - 1):\n",
    "            # calculating local density and updating square:\n",
    "            hdata[i][1] = hdata[i][1] / (hdata[i+1][0] - hdata[i][0])\n",
    "            square += hdata[i][1] * (hdata[i+1][0] - hdata[i][0])\n",
    "        \n",
    "        hdata[-1][1] = hdata[-1][1] / (b - hdata[-1][0])\n",
    "        square += hdata[-1][1] * (b - hdata[-1][0])\n",
    "\n",
    "        for hd in hdata:\n",
    "            hd[1] /= square\n",
    "    else:\n",
    "        for hd in hdata:\n",
    "            hd[1] /= len(vs)\n",
    "\n",
    "    hdata.append([b, hdata[-1][1]])\n",
    "            \n",
    "    return hdata"
   ]
  },
  {
   "source": [
    "***"
   ],
   "cell_type": "markdown",
   "metadata": {}
  },
  {
   "source": [
    "### Критерий согласия Пирсона"
   ],
   "cell_type": "markdown",
   "metadata": {}
  },
  {
   "cell_type": "code",
   "execution_count": 8,
   "metadata": {},
   "outputs": [],
   "source": [
    "def xi_squared_criteria(a, b, n, group_num, f_hypothesis):\n",
    "    vs = generate_varseries(n)\n",
    "    hdata = histogram_data_beta(a, b, vs, group_num, normalize=False) # equiprobable histogram data*\n",
    "\n",
    "    # * - the method above with normalize=False returns the probablilities of varseries element\n",
    "    # being in each bin/ interval, i.e. the same value (for equiprobable histogram), except\n",
    "    # maybe for the last bin/ interval;\n",
    "    # the sum of hd[1] for hd in hdata should add up to 1.\n",
    "\n",
    "    hypothesis_ys = [Fy_deduced(hdata[i+1][0]) - Fy_deduced(hdata[i][0])\n",
    "                     for i in range(group_num)] # getting analytic probabilities for each bin / interval\n",
    "    histogram_ys = [hd[1] for hd in hdata[:-1]] # getting empirical probabilities for each bin / interval\n",
    "\n",
    "    # checking this weird condition from bsuir docs:\n",
    "    assert abs(1 - sum(hypothesis_ys)) <= 0.01\n",
    "\n",
    "    # calculating the xi squared:\n",
    "    summands = []\n",
    "    for i in range(group_num):\n",
    "        summand = ((histogram_ys[i] - hypothesis_ys[i])**2\n",
    "                   / (hypothesis_ys[i]))\n",
    "        summands.append(summand)\n",
    "\n",
    "    xi_squared = n*sum(summands)\n",
    "    return xi_squared"
   ]
  },
  {
   "cell_type": "code",
   "execution_count": 9,
   "metadata": {},
   "outputs": [
    {
     "output_type": "stream",
     "name": "stdout",
     "text": [
      "17.65901571328073\n17.895637860269158\n24.14125384151354\n21.231676725656243\n11.46974269885964\n15.570645337205963\n17.159993945641656\n10.250574308028408\n10.32644431131127\n25.824940975831908\n19.556306012449\n28.98112281213363\n12.867270389373036\n6.9627101492242245\n15.786097719808085\n18.611433868546484\n9.914714790332997\n17.385568101296382\n18.926994090244943\n10.798308235317396\n"
     ]
    }
   ],
   "source": [
    "# test xi_squared 20 times\n",
    "\n",
    "for i in range(20):\n",
    "    xi = xi_squared_criteria(0, 1, 200, 16, fy_deduced)\n",
    "    print(xi)"
   ]
  },
  {
   "cell_type": "code",
   "execution_count": 10,
   "metadata": {},
   "outputs": [],
   "source": [
    "# xi-table data for k = 16:\n",
    "\n",
    "xi_090 = 23.542\n",
    "xi_095 = 26.296\n",
    "xi_099 = 32.000"
   ]
  },
  {
   "cell_type": "code",
   "execution_count": 11,
   "metadata": {},
   "outputs": [
    {
     "output_type": "stream",
     "name": "stdout",
     "text": [
      "Observed xi squared is less than xi squared 0.90 in 90.14% of cases.\n",
      "Observed xi squared is less than xi squared 0.95 in 94.443% of cases.\n",
      "Observed xi squared is less than xi squared 0.99 in 98.473% of cases.\n"
     ]
    }
   ],
   "source": [
    "# how often empirical xi squared is less than xi squared 0.90?\n",
    "\n",
    "sample_num = 100_000\n",
    "answer = 0\n",
    "for _ in range(sample_num):\n",
    "    xi = xi_squared_criteria(0, 1, 200, 16, fy_deduced)\n",
    "    if xi < xi_090:\n",
    "        answer += 1\n",
    "\n",
    "answer /= sample_num\n",
    "print(f'Observed xi squared is less than xi squared 0.90 in {answer*100}% of cases.')\n",
    "\n",
    "# how often empirical xi squared is less than xi squared 0.95?\n",
    "answer = 0\n",
    "for _ in range(sample_num):\n",
    "    xi = xi_squared_criteria(0, 1, 200, 16, fy_deduced)\n",
    "    if xi < xi_095:\n",
    "        answer += 1\n",
    "\n",
    "answer /= sample_num\n",
    "print(f'Observed xi squared is less than xi squared 0.95 in {answer*100}% of cases.')\n",
    "\n",
    "# how often empirical xi squared is less than xi squared 0.99?\n",
    "answer = 0\n",
    "for _ in range(sample_num):\n",
    "    xi = xi_squared_criteria(0, 1, 200, 16, fy_deduced)\n",
    "    if xi < xi_099:\n",
    "        answer += 1\n",
    "\n",
    "answer /= sample_num\n",
    "print(f'Observed xi squared is less than xi squared 0.99 in {answer*100}% of cases.')"
   ]
  },
  {
   "cell_type": "code",
   "execution_count": 12,
   "metadata": {
    "tags": []
   },
   "outputs": [
    {
     "output_type": "display_data",
     "data": {
      "text/plain": "<Figure size 864x576 with 1 Axes>",
      "image/svg+xml": "<?xml version=\"1.0\" encoding=\"utf-8\" standalone=\"no\"?>\n<!DOCTYPE svg PUBLIC \"-//W3C//DTD SVG 1.1//EN\"\n  \"http://www.w3.org/Graphics/SVG/1.1/DTD/svg11.dtd\">\n<!-- Created with matplotlib (https://matplotlib.org/) -->\n<svg height=\"465.958125pt\" version=\"1.1\" viewBox=\"0 0 706.903125 465.958125\" width=\"706.903125pt\" xmlns=\"http://www.w3.org/2000/svg\" xmlns:xlink=\"http://www.w3.org/1999/xlink\">\n <metadata>\n  <rdf:RDF xmlns:cc=\"http://creativecommons.org/ns#\" xmlns:dc=\"http://purl.org/dc/elements/1.1/\" xmlns:rdf=\"http://www.w3.org/1999/02/22-rdf-syntax-ns#\">\n   <cc:Work>\n    <dc:type rdf:resource=\"http://purl.org/dc/dcmitype/StillImage\"/>\n    <dc:date>2021-05-31T12:24:40.371094</dc:date>\n    <dc:format>image/svg+xml</dc:format>\n    <dc:creator>\n     <cc:Agent>\n      <dc:title>Matplotlib v3.3.4, https://matplotlib.org/</dc:title>\n     </cc:Agent>\n    </dc:creator>\n   </cc:Work>\n  </rdf:RDF>\n </metadata>\n <defs>\n  <style type=\"text/css\">*{stroke-linecap:butt;stroke-linejoin:round;}</style>\n </defs>\n <g id=\"figure_1\">\n  <g id=\"patch_1\">\n   <path d=\"M 0 465.958125 \nL 706.903125 465.958125 \nL 706.903125 0 \nL 0 0 \nz\n\" style=\"fill:none;\"/>\n  </g>\n  <g id=\"axes_1\">\n   <g id=\"patch_2\">\n    <path d=\"M 30.103125 442.08 \nL 699.703125 442.08 \nL 699.703125 7.2 \nL 30.103125 7.2 \nz\n\" style=\"fill:#ffffff;\"/>\n   </g>\n   <g id=\"patch_3\">\n    <path clip-path=\"url(#p9f44b36d8e)\" d=\"M 60.539489 442.08 \nL 75.75767 442.08 \nL 75.75767 441.7176 \nL 60.539489 441.7176 \nz\n\" style=\"fill:#1f77b4;\"/>\n   </g>\n   <g id=\"patch_4\">\n    <path clip-path=\"url(#p9f44b36d8e)\" d=\"M 75.75767 442.08 \nL 90.975852 442.08 \nL 90.975852 438.876643 \nL 75.75767 438.876643 \nz\n\" style=\"fill:#1f77b4;\"/>\n   </g>\n   <g id=\"patch_5\">\n    <path clip-path=\"url(#p9f44b36d8e)\" d=\"M 90.975852 442.08 \nL 106.194034 442.08 \nL 106.194034 428.891229 \nL 90.975852 428.891229 \nz\n\" style=\"fill:#1f77b4;\"/>\n   </g>\n   <g id=\"patch_6\">\n    <path clip-path=\"url(#p9f44b36d8e)\" d=\"M 106.194034 442.08 \nL 121.412216 442.08 \nL 121.412216 407.069571 \nL 106.194034 407.069571 \nz\n\" style=\"fill:#1f77b4;\"/>\n   </g>\n   <g id=\"patch_7\">\n    <path clip-path=\"url(#p9f44b36d8e)\" d=\"M 121.412216 442.08 \nL 136.630398 442.08 \nL 136.630398 373.003971 \nL 121.412216 373.003971 \nz\n\" style=\"fill:#1f77b4;\"/>\n   </g>\n   <g id=\"patch_8\">\n    <path clip-path=\"url(#p9f44b36d8e)\" d=\"M 136.630398 442.08 \nL 151.84858 442.08 \nL 151.84858 329.380071 \nL 136.630398 329.380071 \nz\n\" style=\"fill:#1f77b4;\"/>\n   </g>\n   <g id=\"patch_9\">\n    <path clip-path=\"url(#p9f44b36d8e)\" d=\"M 151.84858 442.08 \nL 167.066761 442.08 \nL 167.066761 280.734343 \nL 151.84858 280.734343 \nz\n\" style=\"fill:#1f77b4;\"/>\n   </g>\n   <g id=\"patch_10\">\n    <path clip-path=\"url(#p9f44b36d8e)\" d=\"M 167.066761 442.08 \nL 182.284943 442.08 \nL 182.284943 233.725886 \nL 167.066761 233.725886 \nz\n\" style=\"fill:#1f77b4;\"/>\n   </g>\n   <g id=\"patch_11\">\n    <path clip-path=\"url(#p9f44b36d8e)\" d=\"M 182.284943 442.08 \nL 197.503125 442.08 \nL 197.503125 189.467786 \nL 182.284943 189.467786 \nz\n\" style=\"fill:#1f77b4;\"/>\n   </g>\n   <g id=\"patch_12\">\n    <path clip-path=\"url(#p9f44b36d8e)\" d=\"M 197.503125 442.08 \nL 212.721307 442.08 \nL 212.721307 151.881729 \nL 197.503125 151.881729 \nz\n\" style=\"fill:#1f77b4;\"/>\n   </g>\n   <g id=\"patch_13\">\n    <path clip-path=\"url(#p9f44b36d8e)\" d=\"M 212.721307 442.08 \nL 227.939489 442.08 \nL 227.939489 119.841686 \nL 212.721307 119.841686 \nz\n\" style=\"fill:#1f77b4;\"/>\n   </g>\n   <g id=\"patch_14\">\n    <path clip-path=\"url(#p9f44b36d8e)\" d=\"M 227.939489 442.08 \nL 243.15767 442.08 \nL 243.15767 95.237314 \nL 227.939489 95.237314 \nz\n\" style=\"fill:#1f77b4;\"/>\n   </g>\n   <g id=\"patch_15\">\n    <path clip-path=\"url(#p9f44b36d8e)\" d=\"M 243.15767 442.08 \nL 258.375852 442.08 \nL 258.375852 76.748443 \nL 243.15767 76.748443 \nz\n\" style=\"fill:#1f77b4;\"/>\n   </g>\n   <g id=\"patch_16\">\n    <path clip-path=\"url(#p9f44b36d8e)\" d=\"M 258.375852 442.08 \nL 273.594034 442.08 \nL 273.594034 62.407757 \nL 258.375852 62.407757 \nz\n\" style=\"fill:#1f77b4;\"/>\n   </g>\n   <g id=\"patch_17\">\n    <path clip-path=\"url(#p9f44b36d8e)\" d=\"M 273.594034 442.08 \nL 288.812216 442.08 \nL 288.812216 52.150543 \nL 273.594034 52.150543 \nz\n\" style=\"fill:#1f77b4;\"/>\n   </g>\n   <g id=\"patch_18\">\n    <path clip-path=\"url(#p9f44b36d8e)\" d=\"M 288.812216 442.08 \nL 304.030398 442.08 \nL 304.030398 44.850771 \nL 288.812216 44.850771 \nz\n\" style=\"fill:#1f77b4;\"/>\n   </g>\n   <g id=\"patch_19\">\n    <path clip-path=\"url(#p9f44b36d8e)\" d=\"M 304.030398 442.08 \nL 319.24858 442.08 \nL 319.24858 39.427714 \nL 304.030398 39.427714 \nz\n\" style=\"fill:#1f77b4;\"/>\n   </g>\n   <g id=\"patch_20\">\n    <path clip-path=\"url(#p9f44b36d8e)\" d=\"M 319.24858 442.08 \nL 334.466761 442.08 \nL 334.466761 36.127286 \nL 319.24858 36.127286 \nz\n\" style=\"fill:#1f77b4;\"/>\n   </g>\n   <g id=\"patch_21\">\n    <path clip-path=\"url(#p9f44b36d8e)\" d=\"M 334.466761 442.08 \nL 349.684943 442.08 \nL 349.684943 33.532243 \nL 334.466761 33.532243 \nz\n\" style=\"fill:#1f77b4;\"/>\n   </g>\n   <g id=\"patch_22\">\n    <path clip-path=\"url(#p9f44b36d8e)\" d=\"M 349.684943 442.08 \nL 364.903125 442.08 \nL 364.903125 31.810843 \nL 349.684943 31.810843 \nz\n\" style=\"fill:#1f77b4;\"/>\n   </g>\n   <g id=\"patch_23\">\n    <path clip-path=\"url(#p9f44b36d8e)\" d=\"M 364.903125 442.08 \nL 380.121307 442.08 \nL 380.121307 30.613629 \nL 364.903125 30.613629 \nz\n\" style=\"fill:#1f77b4;\"/>\n   </g>\n   <g id=\"patch_24\">\n    <path clip-path=\"url(#p9f44b36d8e)\" d=\"M 380.121307 442.08 \nL 395.339489 442.08 \nL 395.339489 29.927657 \nL 380.121307 29.927657 \nz\n\" style=\"fill:#1f77b4;\"/>\n   </g>\n   <g id=\"patch_25\">\n    <path clip-path=\"url(#p9f44b36d8e)\" d=\"M 395.339489 442.08 \nL 410.55767 442.08 \nL 410.55767 29.2158 \nL 395.339489 29.2158 \nz\n\" style=\"fill:#1f77b4;\"/>\n   </g>\n   <g id=\"patch_26\">\n    <path clip-path=\"url(#p9f44b36d8e)\" d=\"M 410.55767 442.08 \nL 425.775852 442.08 \nL 425.775852 28.730443 \nL 410.55767 28.730443 \nz\n\" style=\"fill:#1f77b4;\"/>\n   </g>\n   <g id=\"patch_27\">\n    <path clip-path=\"url(#p9f44b36d8e)\" d=\"M 425.775852 442.08 \nL 440.994034 442.08 \nL 440.994034 28.5363 \nL 425.775852 28.5363 \nz\n\" style=\"fill:#1f77b4;\"/>\n   </g>\n   <g id=\"patch_28\">\n    <path clip-path=\"url(#p9f44b36d8e)\" d=\"M 440.994034 442.08 \nL 456.212216 442.08 \nL 456.212216 28.348629 \nL 440.994034 28.348629 \nz\n\" style=\"fill:#1f77b4;\"/>\n   </g>\n   <g id=\"patch_29\">\n    <path clip-path=\"url(#p9f44b36d8e)\" d=\"M 456.212216 442.08 \nL 471.430398 442.08 \nL 471.430398 28.2192 \nL 456.212216 28.2192 \nz\n\" style=\"fill:#1f77b4;\"/>\n   </g>\n   <g id=\"patch_30\">\n    <path clip-path=\"url(#p9f44b36d8e)\" d=\"M 471.430398 442.08 \nL 486.64858 442.08 \nL 486.64858 28.141543 \nL 471.430398 28.141543 \nz\n\" style=\"fill:#1f77b4;\"/>\n   </g>\n   <g id=\"patch_31\">\n    <path clip-path=\"url(#p9f44b36d8e)\" d=\"M 486.64858 442.08 \nL 501.866761 442.08 \nL 501.866761 28.057414 \nL 486.64858 28.057414 \nz\n\" style=\"fill:#1f77b4;\"/>\n   </g>\n   <g id=\"patch_32\">\n    <path clip-path=\"url(#p9f44b36d8e)\" d=\"M 501.866761 442.08 \nL 517.084943 442.08 \nL 517.084943 28.025057 \nL 501.866761 28.025057 \nz\n\" style=\"fill:#1f77b4;\"/>\n   </g>\n   <g id=\"patch_33\">\n    <path clip-path=\"url(#p9f44b36d8e)\" d=\"M 517.084943 442.08 \nL 532.303125 442.08 \nL 532.303125 27.9927 \nL 517.084943 27.9927 \nz\n\" style=\"fill:#1f77b4;\"/>\n   </g>\n   <g id=\"patch_34\">\n    <path clip-path=\"url(#p9f44b36d8e)\" d=\"M 532.303125 442.08 \nL 547.521307 442.08 \nL 547.521307 27.953871 \nL 532.303125 27.953871 \nz\n\" style=\"fill:#1f77b4;\"/>\n   </g>\n   <g id=\"patch_35\">\n    <path clip-path=\"url(#p9f44b36d8e)\" d=\"M 547.521307 442.08 \nL 562.739489 442.08 \nL 562.739489 27.940929 \nL 547.521307 27.940929 \nz\n\" style=\"fill:#1f77b4;\"/>\n   </g>\n   <g id=\"patch_36\">\n    <path clip-path=\"url(#p9f44b36d8e)\" d=\"M 562.739489 442.08 \nL 577.95767 442.08 \nL 577.95767 27.934457 \nL 562.739489 27.934457 \nz\n\" style=\"fill:#1f77b4;\"/>\n   </g>\n   <g id=\"patch_37\">\n    <path clip-path=\"url(#p9f44b36d8e)\" d=\"M 577.95767 442.08 \nL 593.175852 442.08 \nL 593.175852 27.921514 \nL 577.95767 27.921514 \nz\n\" style=\"fill:#1f77b4;\"/>\n   </g>\n   <g id=\"patch_38\">\n    <path clip-path=\"url(#p9f44b36d8e)\" d=\"M 593.175852 442.08 \nL 608.394034 442.08 \nL 608.394034 27.921514 \nL 593.175852 27.921514 \nz\n\" style=\"fill:#1f77b4;\"/>\n   </g>\n   <g id=\"patch_39\">\n    <path clip-path=\"url(#p9f44b36d8e)\" d=\"M 608.394034 442.08 \nL 623.612216 442.08 \nL 623.612216 27.921514 \nL 608.394034 27.921514 \nz\n\" style=\"fill:#1f77b4;\"/>\n   </g>\n   <g id=\"patch_40\">\n    <path clip-path=\"url(#p9f44b36d8e)\" d=\"M 623.612216 442.08 \nL 638.830398 442.08 \nL 638.830398 27.921514 \nL 623.612216 27.921514 \nz\n\" style=\"fill:#1f77b4;\"/>\n   </g>\n   <g id=\"patch_41\">\n    <path clip-path=\"url(#p9f44b36d8e)\" d=\"M 638.830398 442.08 \nL 654.04858 442.08 \nL 654.04858 27.921514 \nL 638.830398 27.921514 \nz\n\" style=\"fill:#1f77b4;\"/>\n   </g>\n   <g id=\"patch_42\">\n    <path clip-path=\"url(#p9f44b36d8e)\" d=\"M 654.04858 442.08 \nL 669.266761 442.08 \nL 669.266761 27.908571 \nL 654.04858 27.908571 \nz\n\" style=\"fill:#1f77b4;\"/>\n   </g>\n   <g id=\"PathCollection_1\">\n    <defs>\n     <path d=\"M 0 -5.477226 \nL -1.229714 -1.692556 \nL -5.209151 -1.692556 \nL -1.989719 0.646499 \nL -3.219432 4.431169 \nL -0 2.092114 \nL 3.219432 4.431169 \nL 1.989719 0.646499 \nL 5.209151 -1.692556 \nL 1.229714 -1.692556 \nz\n\" id=\"mdf1db7a086\" style=\"stroke:#ff0000;\"/>\n    </defs>\n    <g clip-path=\"url(#p9f44b36d8e)\">\n     <use style=\"fill:#ff0000;stroke:#ff0000;\" x=\"265.611685\" xlink:href=\"#mdf1db7a086\" y=\"69.325714\"/>\n     <use style=\"fill:#ff0000;stroke:#ff0000;\" x=\"291.400182\" xlink:href=\"#mdf1db7a086\" y=\"48.617143\"/>\n     <use style=\"fill:#ff0000;stroke:#ff0000;\" x=\"344.812521\" xlink:href=\"#mdf1db7a086\" y=\"32.050286\"/>\n    </g>\n   </g>\n   <g id=\"matplotlib.axis_1\">\n    <g id=\"xtick_1\">\n     <g id=\"line2d_1\">\n      <defs>\n       <path d=\"M 0 0 \nL 0 3.5 \n\" id=\"mdda207b2aa\" style=\"stroke:#000000;stroke-width:0.8;\"/>\n      </defs>\n      <g>\n       <use style=\"stroke:#000000;stroke-width:0.8;\" x=\"45.164052\" xlink:href=\"#mdda207b2aa\" y=\"442.08\"/>\n      </g>\n     </g>\n     <g id=\"text_1\">\n      <!-- 0 -->\n      <g transform=\"translate(41.982802 456.678437)scale(0.1 -0.1)\">\n       <defs>\n        <path d=\"M 31.78125 66.40625 \nQ 24.171875 66.40625 20.328125 58.90625 \nQ 16.5 51.421875 16.5 36.375 \nQ 16.5 21.390625 20.328125 13.890625 \nQ 24.171875 6.390625 31.78125 6.390625 \nQ 39.453125 6.390625 43.28125 13.890625 \nQ 47.125 21.390625 47.125 36.375 \nQ 47.125 51.421875 43.28125 58.90625 \nQ 39.453125 66.40625 31.78125 66.40625 \nz\nM 31.78125 74.21875 \nQ 44.046875 74.21875 50.515625 64.515625 \nQ 56.984375 54.828125 56.984375 36.375 \nQ 56.984375 17.96875 50.515625 8.265625 \nQ 44.046875 -1.421875 31.78125 -1.421875 \nQ 19.53125 -1.421875 13.0625 8.265625 \nQ 6.59375 17.96875 6.59375 36.375 \nQ 6.59375 54.828125 13.0625 64.515625 \nQ 19.53125 74.21875 31.78125 74.21875 \nz\n\" id=\"DejaVuSans-48\"/>\n       </defs>\n       <use xlink:href=\"#DejaVuSans-48\"/>\n      </g>\n     </g>\n    </g>\n    <g id=\"xtick_2\">\n     <g id=\"line2d_2\">\n      <g>\n       <use style=\"stroke:#000000;stroke-width:0.8;\" x=\"138.804199\" xlink:href=\"#mdda207b2aa\" y=\"442.08\"/>\n      </g>\n     </g>\n     <g id=\"text_2\">\n      <!-- 10 -->\n      <g transform=\"translate(132.441699 456.678437)scale(0.1 -0.1)\">\n       <defs>\n        <path d=\"M 12.40625 8.296875 \nL 28.515625 8.296875 \nL 28.515625 63.921875 \nL 10.984375 60.40625 \nL 10.984375 69.390625 \nL 28.421875 72.90625 \nL 38.28125 72.90625 \nL 38.28125 8.296875 \nL 54.390625 8.296875 \nL 54.390625 0 \nL 12.40625 0 \nz\n\" id=\"DejaVuSans-49\"/>\n       </defs>\n       <use xlink:href=\"#DejaVuSans-49\"/>\n       <use x=\"63.623047\" xlink:href=\"#DejaVuSans-48\"/>\n      </g>\n     </g>\n    </g>\n    <g id=\"xtick_3\">\n     <g id=\"line2d_3\">\n      <g>\n       <use style=\"stroke:#000000;stroke-width:0.8;\" x=\"232.444345\" xlink:href=\"#mdda207b2aa\" y=\"442.08\"/>\n      </g>\n     </g>\n     <g id=\"text_3\">\n      <!-- 20 -->\n      <g transform=\"translate(226.081845 456.678437)scale(0.1 -0.1)\">\n       <defs>\n        <path d=\"M 19.1875 8.296875 \nL 53.609375 8.296875 \nL 53.609375 0 \nL 7.328125 0 \nL 7.328125 8.296875 \nQ 12.9375 14.109375 22.625 23.890625 \nQ 32.328125 33.6875 34.8125 36.53125 \nQ 39.546875 41.84375 41.421875 45.53125 \nQ 43.3125 49.21875 43.3125 52.78125 \nQ 43.3125 58.59375 39.234375 62.25 \nQ 35.15625 65.921875 28.609375 65.921875 \nQ 23.96875 65.921875 18.8125 64.3125 \nQ 13.671875 62.703125 7.8125 59.421875 \nL 7.8125 69.390625 \nQ 13.765625 71.78125 18.9375 73 \nQ 24.125 74.21875 28.421875 74.21875 \nQ 39.75 74.21875 46.484375 68.546875 \nQ 53.21875 62.890625 53.21875 53.421875 \nQ 53.21875 48.921875 51.53125 44.890625 \nQ 49.859375 40.875 45.40625 35.40625 \nQ 44.1875 33.984375 37.640625 27.21875 \nQ 31.109375 20.453125 19.1875 8.296875 \nz\n\" id=\"DejaVuSans-50\"/>\n       </defs>\n       <use xlink:href=\"#DejaVuSans-50\"/>\n       <use x=\"63.623047\" xlink:href=\"#DejaVuSans-48\"/>\n      </g>\n     </g>\n    </g>\n    <g id=\"xtick_4\">\n     <g id=\"line2d_4\">\n      <g>\n       <use style=\"stroke:#000000;stroke-width:0.8;\" x=\"326.084492\" xlink:href=\"#mdda207b2aa\" y=\"442.08\"/>\n      </g>\n     </g>\n     <g id=\"text_4\">\n      <!-- 30 -->\n      <g transform=\"translate(319.721992 456.678437)scale(0.1 -0.1)\">\n       <defs>\n        <path d=\"M 40.578125 39.3125 \nQ 47.65625 37.796875 51.625 33 \nQ 55.609375 28.21875 55.609375 21.1875 \nQ 55.609375 10.40625 48.1875 4.484375 \nQ 40.765625 -1.421875 27.09375 -1.421875 \nQ 22.515625 -1.421875 17.65625 -0.515625 \nQ 12.796875 0.390625 7.625 2.203125 \nL 7.625 11.71875 \nQ 11.71875 9.328125 16.59375 8.109375 \nQ 21.484375 6.890625 26.8125 6.890625 \nQ 36.078125 6.890625 40.9375 10.546875 \nQ 45.796875 14.203125 45.796875 21.1875 \nQ 45.796875 27.640625 41.28125 31.265625 \nQ 36.765625 34.90625 28.71875 34.90625 \nL 20.21875 34.90625 \nL 20.21875 43.015625 \nL 29.109375 43.015625 \nQ 36.375 43.015625 40.234375 45.921875 \nQ 44.09375 48.828125 44.09375 54.296875 \nQ 44.09375 59.90625 40.109375 62.90625 \nQ 36.140625 65.921875 28.71875 65.921875 \nQ 24.65625 65.921875 20.015625 65.03125 \nQ 15.375 64.15625 9.8125 62.3125 \nL 9.8125 71.09375 \nQ 15.4375 72.65625 20.34375 73.4375 \nQ 25.25 74.21875 29.59375 74.21875 \nQ 40.828125 74.21875 47.359375 69.109375 \nQ 53.90625 64.015625 53.90625 55.328125 \nQ 53.90625 49.265625 50.4375 45.09375 \nQ 46.96875 40.921875 40.578125 39.3125 \nz\n\" id=\"DejaVuSans-51\"/>\n       </defs>\n       <use xlink:href=\"#DejaVuSans-51\"/>\n       <use x=\"63.623047\" xlink:href=\"#DejaVuSans-48\"/>\n      </g>\n     </g>\n    </g>\n    <g id=\"xtick_5\">\n     <g id=\"line2d_5\">\n      <g>\n       <use style=\"stroke:#000000;stroke-width:0.8;\" x=\"419.724638\" xlink:href=\"#mdda207b2aa\" y=\"442.08\"/>\n      </g>\n     </g>\n     <g id=\"text_5\">\n      <!-- 40 -->\n      <g transform=\"translate(413.362138 456.678437)scale(0.1 -0.1)\">\n       <defs>\n        <path d=\"M 37.796875 64.3125 \nL 12.890625 25.390625 \nL 37.796875 25.390625 \nz\nM 35.203125 72.90625 \nL 47.609375 72.90625 \nL 47.609375 25.390625 \nL 58.015625 25.390625 \nL 58.015625 17.1875 \nL 47.609375 17.1875 \nL 47.609375 0 \nL 37.796875 0 \nL 37.796875 17.1875 \nL 4.890625 17.1875 \nL 4.890625 26.703125 \nz\n\" id=\"DejaVuSans-52\"/>\n       </defs>\n       <use xlink:href=\"#DejaVuSans-52\"/>\n       <use x=\"63.623047\" xlink:href=\"#DejaVuSans-48\"/>\n      </g>\n     </g>\n    </g>\n    <g id=\"xtick_6\">\n     <g id=\"line2d_6\">\n      <g>\n       <use style=\"stroke:#000000;stroke-width:0.8;\" x=\"513.364785\" xlink:href=\"#mdda207b2aa\" y=\"442.08\"/>\n      </g>\n     </g>\n     <g id=\"text_6\">\n      <!-- 50 -->\n      <g transform=\"translate(507.002285 456.678437)scale(0.1 -0.1)\">\n       <defs>\n        <path d=\"M 10.796875 72.90625 \nL 49.515625 72.90625 \nL 49.515625 64.59375 \nL 19.828125 64.59375 \nL 19.828125 46.734375 \nQ 21.96875 47.46875 24.109375 47.828125 \nQ 26.265625 48.1875 28.421875 48.1875 \nQ 40.625 48.1875 47.75 41.5 \nQ 54.890625 34.8125 54.890625 23.390625 \nQ 54.890625 11.625 47.5625 5.09375 \nQ 40.234375 -1.421875 26.90625 -1.421875 \nQ 22.3125 -1.421875 17.546875 -0.640625 \nQ 12.796875 0.140625 7.71875 1.703125 \nL 7.71875 11.625 \nQ 12.109375 9.234375 16.796875 8.0625 \nQ 21.484375 6.890625 26.703125 6.890625 \nQ 35.15625 6.890625 40.078125 11.328125 \nQ 45.015625 15.765625 45.015625 23.390625 \nQ 45.015625 31 40.078125 35.4375 \nQ 35.15625 39.890625 26.703125 39.890625 \nQ 22.75 39.890625 18.8125 39.015625 \nQ 14.890625 38.140625 10.796875 36.28125 \nz\n\" id=\"DejaVuSans-53\"/>\n       </defs>\n       <use xlink:href=\"#DejaVuSans-53\"/>\n       <use x=\"63.623047\" xlink:href=\"#DejaVuSans-48\"/>\n      </g>\n     </g>\n    </g>\n    <g id=\"xtick_7\">\n     <g id=\"line2d_7\">\n      <g>\n       <use style=\"stroke:#000000;stroke-width:0.8;\" x=\"607.004931\" xlink:href=\"#mdda207b2aa\" y=\"442.08\"/>\n      </g>\n     </g>\n     <g id=\"text_7\">\n      <!-- 60 -->\n      <g transform=\"translate(600.642431 456.678437)scale(0.1 -0.1)\">\n       <defs>\n        <path d=\"M 33.015625 40.375 \nQ 26.375 40.375 22.484375 35.828125 \nQ 18.609375 31.296875 18.609375 23.390625 \nQ 18.609375 15.53125 22.484375 10.953125 \nQ 26.375 6.390625 33.015625 6.390625 \nQ 39.65625 6.390625 43.53125 10.953125 \nQ 47.40625 15.53125 47.40625 23.390625 \nQ 47.40625 31.296875 43.53125 35.828125 \nQ 39.65625 40.375 33.015625 40.375 \nz\nM 52.59375 71.296875 \nL 52.59375 62.3125 \nQ 48.875 64.0625 45.09375 64.984375 \nQ 41.3125 65.921875 37.59375 65.921875 \nQ 27.828125 65.921875 22.671875 59.328125 \nQ 17.53125 52.734375 16.796875 39.40625 \nQ 19.671875 43.65625 24.015625 45.921875 \nQ 28.375 48.1875 33.59375 48.1875 \nQ 44.578125 48.1875 50.953125 41.515625 \nQ 57.328125 34.859375 57.328125 23.390625 \nQ 57.328125 12.15625 50.6875 5.359375 \nQ 44.046875 -1.421875 33.015625 -1.421875 \nQ 20.359375 -1.421875 13.671875 8.265625 \nQ 6.984375 17.96875 6.984375 36.375 \nQ 6.984375 53.65625 15.1875 63.9375 \nQ 23.390625 74.21875 37.203125 74.21875 \nQ 40.921875 74.21875 44.703125 73.484375 \nQ 48.484375 72.75 52.59375 71.296875 \nz\n\" id=\"DejaVuSans-54\"/>\n       </defs>\n       <use xlink:href=\"#DejaVuSans-54\"/>\n       <use x=\"63.623047\" xlink:href=\"#DejaVuSans-48\"/>\n      </g>\n     </g>\n    </g>\n   </g>\n   <g id=\"matplotlib.axis_2\">\n    <g id=\"ytick_1\">\n     <g id=\"line2d_8\">\n      <defs>\n       <path d=\"M 0 0 \nL -3.5 0 \n\" id=\"m198a10649c\" style=\"stroke:#000000;stroke-width:0.8;\"/>\n      </defs>\n      <g>\n       <use style=\"stroke:#000000;stroke-width:0.8;\" x=\"30.103125\" xlink:href=\"#m198a10649c\" y=\"442.08\"/>\n      </g>\n     </g>\n     <g id=\"text_8\">\n      <!-- 0.0 -->\n      <g transform=\"translate(7.2 445.879219)scale(0.1 -0.1)\">\n       <defs>\n        <path d=\"M 10.6875 12.40625 \nL 21 12.40625 \nL 21 0 \nL 10.6875 0 \nz\n\" id=\"DejaVuSans-46\"/>\n       </defs>\n       <use xlink:href=\"#DejaVuSans-48\"/>\n       <use x=\"63.623047\" xlink:href=\"#DejaVuSans-46\"/>\n       <use x=\"95.410156\" xlink:href=\"#DejaVuSans-48\"/>\n      </g>\n     </g>\n    </g>\n    <g id=\"ytick_2\">\n     <g id=\"line2d_9\">\n      <g>\n       <use style=\"stroke:#000000;stroke-width:0.8;\" x=\"30.103125\" xlink:href=\"#m198a10649c\" y=\"359.245714\"/>\n      </g>\n     </g>\n     <g id=\"text_9\">\n      <!-- 0.2 -->\n      <g transform=\"translate(7.2 363.044933)scale(0.1 -0.1)\">\n       <use xlink:href=\"#DejaVuSans-48\"/>\n       <use x=\"63.623047\" xlink:href=\"#DejaVuSans-46\"/>\n       <use x=\"95.410156\" xlink:href=\"#DejaVuSans-50\"/>\n      </g>\n     </g>\n    </g>\n    <g id=\"ytick_3\">\n     <g id=\"line2d_10\">\n      <g>\n       <use style=\"stroke:#000000;stroke-width:0.8;\" x=\"30.103125\" xlink:href=\"#m198a10649c\" y=\"276.411429\"/>\n      </g>\n     </g>\n     <g id=\"text_10\">\n      <!-- 0.4 -->\n      <g transform=\"translate(7.2 280.210647)scale(0.1 -0.1)\">\n       <use xlink:href=\"#DejaVuSans-48\"/>\n       <use x=\"63.623047\" xlink:href=\"#DejaVuSans-46\"/>\n       <use x=\"95.410156\" xlink:href=\"#DejaVuSans-52\"/>\n      </g>\n     </g>\n    </g>\n    <g id=\"ytick_4\">\n     <g id=\"line2d_11\">\n      <g>\n       <use style=\"stroke:#000000;stroke-width:0.8;\" x=\"30.103125\" xlink:href=\"#m198a10649c\" y=\"193.577143\"/>\n      </g>\n     </g>\n     <g id=\"text_11\">\n      <!-- 0.6 -->\n      <g transform=\"translate(7.2 197.376362)scale(0.1 -0.1)\">\n       <use xlink:href=\"#DejaVuSans-48\"/>\n       <use x=\"63.623047\" xlink:href=\"#DejaVuSans-46\"/>\n       <use x=\"95.410156\" xlink:href=\"#DejaVuSans-54\"/>\n      </g>\n     </g>\n    </g>\n    <g id=\"ytick_5\">\n     <g id=\"line2d_12\">\n      <g>\n       <use style=\"stroke:#000000;stroke-width:0.8;\" x=\"30.103125\" xlink:href=\"#m198a10649c\" y=\"110.742857\"/>\n      </g>\n     </g>\n     <g id=\"text_12\">\n      <!-- 0.8 -->\n      <g transform=\"translate(7.2 114.542076)scale(0.1 -0.1)\">\n       <defs>\n        <path d=\"M 31.78125 34.625 \nQ 24.75 34.625 20.71875 30.859375 \nQ 16.703125 27.09375 16.703125 20.515625 \nQ 16.703125 13.921875 20.71875 10.15625 \nQ 24.75 6.390625 31.78125 6.390625 \nQ 38.8125 6.390625 42.859375 10.171875 \nQ 46.921875 13.96875 46.921875 20.515625 \nQ 46.921875 27.09375 42.890625 30.859375 \nQ 38.875 34.625 31.78125 34.625 \nz\nM 21.921875 38.8125 \nQ 15.578125 40.375 12.03125 44.71875 \nQ 8.5 49.078125 8.5 55.328125 \nQ 8.5 64.0625 14.71875 69.140625 \nQ 20.953125 74.21875 31.78125 74.21875 \nQ 42.671875 74.21875 48.875 69.140625 \nQ 55.078125 64.0625 55.078125 55.328125 \nQ 55.078125 49.078125 51.53125 44.71875 \nQ 48 40.375 41.703125 38.8125 \nQ 48.828125 37.15625 52.796875 32.3125 \nQ 56.78125 27.484375 56.78125 20.515625 \nQ 56.78125 9.90625 50.3125 4.234375 \nQ 43.84375 -1.421875 31.78125 -1.421875 \nQ 19.734375 -1.421875 13.25 4.234375 \nQ 6.78125 9.90625 6.78125 20.515625 \nQ 6.78125 27.484375 10.78125 32.3125 \nQ 14.796875 37.15625 21.921875 38.8125 \nz\nM 18.3125 54.390625 \nQ 18.3125 48.734375 21.84375 45.5625 \nQ 25.390625 42.390625 31.78125 42.390625 \nQ 38.140625 42.390625 41.71875 45.5625 \nQ 45.3125 48.734375 45.3125 54.390625 \nQ 45.3125 60.0625 41.71875 63.234375 \nQ 38.140625 66.40625 31.78125 66.40625 \nQ 25.390625 66.40625 21.84375 63.234375 \nQ 18.3125 60.0625 18.3125 54.390625 \nz\n\" id=\"DejaVuSans-56\"/>\n       </defs>\n       <use xlink:href=\"#DejaVuSans-48\"/>\n       <use x=\"63.623047\" xlink:href=\"#DejaVuSans-46\"/>\n       <use x=\"95.410156\" xlink:href=\"#DejaVuSans-56\"/>\n      </g>\n     </g>\n    </g>\n    <g id=\"ytick_6\">\n     <g id=\"line2d_13\">\n      <g>\n       <use style=\"stroke:#000000;stroke-width:0.8;\" x=\"30.103125\" xlink:href=\"#m198a10649c\" y=\"27.908571\"/>\n      </g>\n     </g>\n     <g id=\"text_13\">\n      <!-- 1.0 -->\n      <g transform=\"translate(7.2 31.70779)scale(0.1 -0.1)\">\n       <use xlink:href=\"#DejaVuSans-49\"/>\n       <use x=\"63.623047\" xlink:href=\"#DejaVuSans-46\"/>\n       <use x=\"95.410156\" xlink:href=\"#DejaVuSans-48\"/>\n      </g>\n     </g>\n    </g>\n   </g>\n   <g id=\"patch_43\">\n    <path d=\"M 30.103125 442.08 \nL 30.103125 7.2 \n\" style=\"fill:none;stroke:#000000;stroke-linecap:square;stroke-linejoin:miter;stroke-width:0.8;\"/>\n   </g>\n   <g id=\"patch_44\">\n    <path d=\"M 699.703125 442.08 \nL 699.703125 7.2 \n\" style=\"fill:none;stroke:#000000;stroke-linecap:square;stroke-linejoin:miter;stroke-width:0.8;\"/>\n   </g>\n   <g id=\"patch_45\">\n    <path d=\"M 30.103125 442.08 \nL 699.703125 442.08 \n\" style=\"fill:none;stroke:#000000;stroke-linecap:square;stroke-linejoin:miter;stroke-width:0.8;\"/>\n   </g>\n   <g id=\"patch_46\">\n    <path d=\"M 30.103125 7.2 \nL 699.703125 7.2 \n\" style=\"fill:none;stroke:#000000;stroke-linecap:square;stroke-linejoin:miter;stroke-width:0.8;\"/>\n   </g>\n  </g>\n </g>\n <defs>\n  <clipPath id=\"p9f44b36d8e\">\n   <rect height=\"434.88\" width=\"669.6\" x=\"30.103125\" y=\"7.2\"/>\n  </clipPath>\n </defs>\n</svg>\n",
      "image/png": "[encoded data removed]"
     },
     "metadata": {
      "needs_background": "light"
     }
    }
   ],
   "source": [
    "sample_num = 64_000\n",
    "\n",
    "xis_vs = [xi_squared_criteria(0, 1, 200, 16, fy_deduced) for _ in range(sample_num)]\n",
    "plt.hist(xis_vs, bins=40, cumulative=True, density=True, zorder=-1)\n",
    "\n",
    "plt.scatter([xi_090, xi_095, xi_099], [0.90, 0.95, 0.99], color='red', marker='*', s=120)\n",
    "\n",
    "plt.show()"
   ]
  },
  {
   "source": [
    "***"
   ],
   "cell_type": "markdown",
   "metadata": {}
  },
  {
   "source": [
    "### Критерий согласия Колмогорова"
   ],
   "cell_type": "markdown",
   "metadata": {}
  },
  {
   "source": [
    "def max_deviation(a, b, vs, Fy_analytic):\n",
    "    xs = np.linspace(a, b, 1000)\n",
    "    yas = [Fy_analytic(x) for x in xs] # analytic ys\n",
    "    yes = [0]*len(xs) # empirical ys\n",
    "\n",
    "    # calculating empirical:\n",
    "    current_i = 0\n",
    "    for (i, x) in enumerate(xs):\n",
    "        while current_i < len(vs) and x > vs[current_i]:\n",
    "            current_i += 1\n",
    "        yes[i] = current_i/len(vs)\n",
    "\n",
    "    yes = np.array(yes)\n",
    "    diffs = np.abs(yas - yes) # getting the deviations between analytic and empirical\n",
    "    \n",
    "    return max(diffs)"
   ],
   "cell_type": "code",
   "metadata": {},
   "execution_count": 13,
   "outputs": []
  },
  {
   "cell_type": "code",
   "execution_count": 14,
   "metadata": {},
   "outputs": [],
   "source": [
    "def kolmogorov_lambda_criteria(a, b, n, Fy_analytic):\n",
    "    vs = generate_varseries(n)\n",
    "    md = max_deviation(a, b, vs, Fy_analytic)\n",
    "\n",
    "    return math.sqrt(n)*md"
   ]
  },
  {
   "cell_type": "code",
   "execution_count": 15,
   "metadata": {},
   "outputs": [
    {
     "output_type": "stream",
     "name": "stdout",
     "text": [
      "0.6070167167790795\n0.8182071941262695\n0.7265727050634674\n0.803105391934102\n1.1528116772693038\n0.9823445849947414\n1.056842539640351\n0.6793770410866041\n0.641199927208011\n0.5890124275915001\n0.5647896997143296\n1.2504532951622231\n0.7884144068742669\n0.5987767699594692\n0.36222641023599905\n0.8354220200834725\n0.7064340876543974\n0.6191463498560296\n0.5338653502963926\n0.7606241661938278\n"
     ]
    }
   ],
   "source": [
    "# testing Kolmogorov criteria 20 times:\n",
    "\n",
    "for _ in range(20):\n",
    "    kc = kolmogorov_lambda_criteria(0, 1, 30, Fy_deduced)\n",
    "    print(kc)"
   ]
  },
  {
   "cell_type": "code",
   "execution_count": 16,
   "metadata": {},
   "outputs": [],
   "source": [
    "# Kolmogorov table data:\n",
    "\n",
    "klambda_090 = 1.22\n",
    "klambda_095 = 1.36\n",
    "klambda_099 = 1.63"
   ]
  },
  {
   "cell_type": "code",
   "execution_count": 17,
   "metadata": {},
   "outputs": [
    {
     "output_type": "stream",
     "name": "stdout",
     "text": [
      "Observed lambda is less than lambda 0.90 in 90.95% of cases.\n",
      "Observed lambda is less than lambda 0.95 in 95.66% of cases.\n",
      "Observed lambda is less than lambda 0.99 in 98.92% of cases.\n"
     ]
    }
   ],
   "source": [
    "# how often empirical lambda is less than lambda 0.90?\n",
    "\n",
    "sample_num = 10_000\n",
    "answer = 0\n",
    "for _ in range(sample_num):\n",
    "    klambda = kolmogorov_lambda_criteria(0, 1, 200, Fy_deduced)\n",
    "    if klambda < klambda_090:\n",
    "        answer += 1\n",
    "\n",
    "answer /= sample_num\n",
    "print(f'Observed lambda is less than lambda 0.90 in {answer*100}% of cases.')\n",
    "\n",
    "# how often empirical lambda is less than lambda 0.95?\n",
    "answer = 0\n",
    "for _ in range(sample_num):\n",
    "    klambda = kolmogorov_lambda_criteria(0, 1, 200, Fy_deduced)\n",
    "    if klambda < klambda_095:\n",
    "        answer += 1\n",
    "\n",
    "answer /= sample_num\n",
    "print(f'Observed lambda is less than lambda 0.95 in {answer*100}% of cases.')\n",
    "\n",
    "# how often empirical lambda is less than lambda 0.99?\n",
    "answer = 0\n",
    "for _ in range(sample_num):\n",
    "    klambda = kolmogorov_lambda_criteria(0, 1, 200, Fy_deduced)\n",
    "    if klambda < klambda_099:\n",
    "        answer += 1\n",
    "\n",
    "answer /= sample_num\n",
    "print(f'Observed lambda is less than lambda 0.99 in {answer*100}% of cases.')"
   ]
  },
  {
   "cell_type": "code",
   "execution_count": 18,
   "metadata": {},
   "outputs": [
    {
     "output_type": "display_data",
     "data": {
      "text/plain": "<Figure size 864x576 with 1 Axes>",
      "image/svg+xml": "<?xml version=\"1.0\" encoding=\"utf-8\" standalone=\"no\"?>\n<!DOCTYPE svg PUBLIC \"-//W3C//DTD SVG 1.1//EN\"\n  \"http://www.w3.org/Graphics/SVG/1.1/DTD/svg11.dtd\">\n<!-- Created with matplotlib (https://matplotlib.org/) -->\n<svg height=\"465.958125pt\" version=\"1.1\" viewBox=\"0 0 706.903125 465.958125\" width=\"706.903125pt\" xmlns=\"http://www.w3.org/2000/svg\" xmlns:xlink=\"http://www.w3.org/1999/xlink\">\n <metadata>\n  <rdf:RDF xmlns:cc=\"http://creativecommons.org/ns#\" xmlns:dc=\"http://purl.org/dc/elements/1.1/\" xmlns:rdf=\"http://www.w3.org/1999/02/22-rdf-syntax-ns#\">\n   <cc:Work>\n    <dc:type rdf:resource=\"http://purl.org/dc/dcmitype/StillImage\"/>\n    <dc:date>2021-05-31T12:26:50.204577</dc:date>\n    <dc:format>image/svg+xml</dc:format>\n    <dc:creator>\n     <cc:Agent>\n      <dc:title>Matplotlib v3.3.4, https://matplotlib.org/</dc:title>\n     </cc:Agent>\n    </dc:creator>\n   </cc:Work>\n  </rdf:RDF>\n </metadata>\n <defs>\n  <style type=\"text/css\">*{stroke-linecap:butt;stroke-linejoin:round;}</style>\n </defs>\n <g id=\"figure_1\">\n  <g id=\"patch_1\">\n   <path d=\"M 0 465.958125 \nL 706.903125 465.958125 \nL 706.903125 0 \nL 0 0 \nz\n\" style=\"fill:none;\"/>\n  </g>\n  <g id=\"axes_1\">\n   <g id=\"patch_2\">\n    <path d=\"M 30.103125 442.08 \nL 699.703125 442.08 \nL 699.703125 7.2 \nL 30.103125 7.2 \nz\n\" style=\"fill:#ffffff;\"/>\n   </g>\n   <g id=\"patch_3\">\n    <path clip-path=\"url(#pab87c128dc)\" d=\"M 60.539489 442.08 \nL 75.75767 442.08 \nL 75.75767 442.060586 \nL 60.539489 442.060586 \nz\n\" style=\"fill:#1f77b4;\"/>\n   </g>\n   <g id=\"patch_4\">\n    <path clip-path=\"url(#pab87c128dc)\" d=\"M 75.75767 442.08 \nL 90.975852 442.08 \nL 90.975852 441.607586 \nL 75.75767 441.607586 \nz\n\" style=\"fill:#1f77b4;\"/>\n   </g>\n   <g id=\"patch_5\">\n    <path clip-path=\"url(#pab87c128dc)\" d=\"M 90.975852 442.08 \nL 106.194034 442.08 \nL 106.194034 438.404229 \nL 90.975852 438.404229 \nz\n\" style=\"fill:#1f77b4;\"/>\n   </g>\n   <g id=\"patch_6\">\n    <path clip-path=\"url(#pab87c128dc)\" d=\"M 106.194034 442.08 \nL 121.412216 442.08 \nL 121.412216 428.923586 \nL 106.194034 428.923586 \nz\n\" style=\"fill:#1f77b4;\"/>\n   </g>\n   <g id=\"patch_7\">\n    <path clip-path=\"url(#pab87c128dc)\" d=\"M 121.412216 442.08 \nL 136.630398 442.08 \nL 136.630398 410.0529 \nL 121.412216 410.0529 \nz\n\" style=\"fill:#1f77b4;\"/>\n   </g>\n   <g id=\"patch_8\">\n    <path clip-path=\"url(#pab87c128dc)\" d=\"M 136.630398 442.08 \nL 151.84858 442.08 \nL 151.84858 381.416829 \nL 136.630398 381.416829 \nz\n\" style=\"fill:#1f77b4;\"/>\n   </g>\n   <g id=\"patch_9\">\n    <path clip-path=\"url(#pab87c128dc)\" d=\"M 151.84858 442.08 \nL 167.066761 442.08 \nL 167.066761 347.0859 \nL 151.84858 347.0859 \nz\n\" style=\"fill:#1f77b4;\"/>\n   </g>\n   <g id=\"patch_10\">\n    <path clip-path=\"url(#pab87c128dc)\" d=\"M 167.066761 442.08 \nL 182.284943 442.08 \nL 182.284943 308.1732 \nL 167.066761 308.1732 \nz\n\" style=\"fill:#1f77b4;\"/>\n   </g>\n   <g id=\"patch_11\">\n    <path clip-path=\"url(#pab87c128dc)\" d=\"M 182.284943 442.08 \nL 197.503125 442.08 \nL 197.503125 268.011514 \nL 182.284943 268.011514 \nz\n\" style=\"fill:#1f77b4;\"/>\n   </g>\n   <g id=\"patch_12\">\n    <path clip-path=\"url(#pab87c128dc)\" d=\"M 197.503125 442.08 \nL 212.721307 442.08 \nL 212.721307 230.626071 \nL 197.503125 230.626071 \nz\n\" style=\"fill:#1f77b4;\"/>\n   </g>\n   <g id=\"patch_13\">\n    <path clip-path=\"url(#pab87c128dc)\" d=\"M 212.721307 442.08 \nL 227.939489 442.08 \nL 227.939489 195.589757 \nL 212.721307 195.589757 \nz\n\" style=\"fill:#1f77b4;\"/>\n   </g>\n   <g id=\"patch_14\">\n    <path clip-path=\"url(#pab87c128dc)\" d=\"M 227.939489 442.08 \nL 243.15767 442.08 \nL 243.15767 164.106257 \nL 227.939489 164.106257 \nz\n\" style=\"fill:#1f77b4;\"/>\n   </g>\n   <g id=\"patch_15\">\n    <path clip-path=\"url(#pab87c128dc)\" d=\"M 243.15767 442.08 \nL 258.375852 442.08 \nL 258.375852 137.579871 \nL 243.15767 137.579871 \nz\n\" style=\"fill:#1f77b4;\"/>\n   </g>\n   <g id=\"patch_16\">\n    <path clip-path=\"url(#pab87c128dc)\" d=\"M 258.375852 442.08 \nL 273.594034 442.08 \nL 273.594034 115.130486 \nL 258.375852 115.130486 \nz\n\" style=\"fill:#1f77b4;\"/>\n   </g>\n   <g id=\"patch_17\">\n    <path clip-path=\"url(#pab87c128dc)\" d=\"M 273.594034 442.08 \nL 288.812216 442.08 \nL 288.812216 96.195086 \nL 273.594034 96.195086 \nz\n\" style=\"fill:#1f77b4;\"/>\n   </g>\n   <g id=\"patch_18\">\n    <path clip-path=\"url(#pab87c128dc)\" d=\"M 288.812216 442.08 \nL 304.030398 442.08 \nL 304.030398 80.5407 \nL 288.812216 80.5407 \nz\n\" style=\"fill:#1f77b4;\"/>\n   </g>\n   <g id=\"patch_19\">\n    <path clip-path=\"url(#pab87c128dc)\" d=\"M 304.030398 442.08 \nL 319.24858 442.08 \nL 319.24858 68.199686 \nL 304.030398 68.199686 \nz\n\" style=\"fill:#1f77b4;\"/>\n   </g>\n   <g id=\"patch_20\">\n    <path clip-path=\"url(#pab87c128dc)\" d=\"M 319.24858 442.08 \nL 334.466761 442.08 \nL 334.466761 58.220743 \nL 319.24858 58.220743 \nz\n\" style=\"fill:#1f77b4;\"/>\n   </g>\n   <g id=\"patch_21\">\n    <path clip-path=\"url(#pab87c128dc)\" d=\"M 334.466761 442.08 \nL 349.684943 442.08 \nL 349.684943 50.3256 \nL 334.466761 50.3256 \nz\n\" style=\"fill:#1f77b4;\"/>\n   </g>\n   <g id=\"patch_22\">\n    <path clip-path=\"url(#pab87c128dc)\" d=\"M 349.684943 442.08 \nL 364.903125 442.08 \nL 364.903125 44.287757 \nL 349.684943 44.287757 \nz\n\" style=\"fill:#1f77b4;\"/>\n   </g>\n   <g id=\"patch_23\">\n    <path clip-path=\"url(#pab87c128dc)\" d=\"M 364.903125 442.08 \nL 380.121307 442.08 \nL 380.121307 39.693043 \nL 364.903125 39.693043 \nz\n\" style=\"fill:#1f77b4;\"/>\n   </g>\n   <g id=\"patch_24\">\n    <path clip-path=\"url(#pab87c128dc)\" d=\"M 380.121307 442.08 \nL 395.339489 442.08 \nL 395.339489 36.114343 \nL 380.121307 36.114343 \nz\n\" style=\"fill:#1f77b4;\"/>\n   </g>\n   <g id=\"patch_25\">\n    <path clip-path=\"url(#pab87c128dc)\" d=\"M 395.339489 442.08 \nL 410.55767 442.08 \nL 410.55767 33.758743 \nL 395.339489 33.758743 \nz\n\" style=\"fill:#1f77b4;\"/>\n   </g>\n   <g id=\"patch_26\">\n    <path clip-path=\"url(#pab87c128dc)\" d=\"M 410.55767 442.08 \nL 425.775852 442.08 \nL 425.775852 32.076171 \nL 410.55767 32.076171 \nz\n\" style=\"fill:#1f77b4;\"/>\n   </g>\n   <g id=\"patch_27\">\n    <path clip-path=\"url(#pab87c128dc)\" d=\"M 425.775852 442.08 \nL 440.994034 442.08 \nL 440.994034 30.736586 \nL 425.775852 30.736586 \nz\n\" style=\"fill:#1f77b4;\"/>\n   </g>\n   <g id=\"patch_28\">\n    <path clip-path=\"url(#pab87c128dc)\" d=\"M 440.994034 442.08 \nL 456.212216 442.08 \nL 456.212216 29.765871 \nL 440.994034 29.765871 \nz\n\" style=\"fill:#1f77b4;\"/>\n   </g>\n   <g id=\"patch_29\">\n    <path clip-path=\"url(#pab87c128dc)\" d=\"M 456.212216 442.08 \nL 471.430398 442.08 \nL 471.430398 29.196386 \nL 456.212216 29.196386 \nz\n\" style=\"fill:#1f77b4;\"/>\n   </g>\n   <g id=\"patch_30\">\n    <path clip-path=\"url(#pab87c128dc)\" d=\"M 471.430398 442.08 \nL 486.64858 442.08 \nL 486.64858 28.730443 \nL 471.430398 28.730443 \nz\n\" style=\"fill:#1f77b4;\"/>\n   </g>\n   <g id=\"patch_31\">\n    <path clip-path=\"url(#pab87c128dc)\" d=\"M 486.64858 442.08 \nL 501.866761 442.08 \nL 501.866761 28.426286 \nL 486.64858 28.426286 \nz\n\" style=\"fill:#1f77b4;\"/>\n   </g>\n   <g id=\"patch_32\">\n    <path clip-path=\"url(#pab87c128dc)\" d=\"M 501.866761 442.08 \nL 517.084943 442.08 \nL 517.084943 28.206257 \nL 501.866761 28.206257 \nz\n\" style=\"fill:#1f77b4;\"/>\n   </g>\n   <g id=\"patch_33\">\n    <path clip-path=\"url(#pab87c128dc)\" d=\"M 517.084943 442.08 \nL 532.303125 442.08 \nL 532.303125 28.102714 \nL 517.084943 28.102714 \nz\n\" style=\"fill:#1f77b4;\"/>\n   </g>\n   <g id=\"patch_34\">\n    <path clip-path=\"url(#pab87c128dc)\" d=\"M 532.303125 442.08 \nL 547.521307 442.08 \nL 547.521307 27.999171 \nL 532.303125 27.999171 \nz\n\" style=\"fill:#1f77b4;\"/>\n   </g>\n   <g id=\"patch_35\">\n    <path clip-path=\"url(#pab87c128dc)\" d=\"M 547.521307 442.08 \nL 562.739489 442.08 \nL 562.739489 27.966814 \nL 547.521307 27.966814 \nz\n\" style=\"fill:#1f77b4;\"/>\n   </g>\n   <g id=\"patch_36\">\n    <path clip-path=\"url(#pab87c128dc)\" d=\"M 562.739489 442.08 \nL 577.95767 442.08 \nL 577.95767 27.940929 \nL 562.739489 27.940929 \nz\n\" style=\"fill:#1f77b4;\"/>\n   </g>\n   <g id=\"patch_37\">\n    <path clip-path=\"url(#pab87c128dc)\" d=\"M 577.95767 442.08 \nL 593.175852 442.08 \nL 593.175852 27.934457 \nL 577.95767 27.934457 \nz\n\" style=\"fill:#1f77b4;\"/>\n   </g>\n   <g id=\"patch_38\">\n    <path clip-path=\"url(#pab87c128dc)\" d=\"M 593.175852 442.08 \nL 608.394034 442.08 \nL 608.394034 27.921514 \nL 593.175852 27.921514 \nz\n\" style=\"fill:#1f77b4;\"/>\n   </g>\n   <g id=\"patch_39\">\n    <path clip-path=\"url(#pab87c128dc)\" d=\"M 608.394034 442.08 \nL 623.612216 442.08 \nL 623.612216 27.915043 \nL 608.394034 27.915043 \nz\n\" style=\"fill:#1f77b4;\"/>\n   </g>\n   <g id=\"patch_40\">\n    <path clip-path=\"url(#pab87c128dc)\" d=\"M 623.612216 442.08 \nL 638.830398 442.08 \nL 638.830398 27.915043 \nL 623.612216 27.915043 \nz\n\" style=\"fill:#1f77b4;\"/>\n   </g>\n   <g id=\"patch_41\">\n    <path clip-path=\"url(#pab87c128dc)\" d=\"M 638.830398 442.08 \nL 654.04858 442.08 \nL 654.04858 27.915043 \nL 638.830398 27.915043 \nz\n\" style=\"fill:#1f77b4;\"/>\n   </g>\n   <g id=\"patch_42\">\n    <path clip-path=\"url(#pab87c128dc)\" d=\"M 654.04858 442.08 \nL 669.266761 442.08 \nL 669.266761 27.908571 \nL 654.04858 27.908571 \nz\n\" style=\"fill:#1f77b4;\"/>\n   </g>\n   <g id=\"PathCollection_1\">\n    <defs>\n     <path d=\"M 0 -5.477226 \nL -1.229714 -1.692556 \nL -5.209151 -1.692556 \nL -1.989719 0.646499 \nL -3.219432 4.431169 \nL -0 2.092114 \nL 3.219432 4.431169 \nL 1.989719 0.646499 \nL 5.209151 -1.692556 \nL 1.229714 -1.692556 \nz\n\" id=\"mdc62ec9182\" style=\"stroke:#ff0000;\"/>\n    </defs>\n    <g clip-path=\"url(#pab87c128dc)\">\n     <use style=\"fill:#ff0000;stroke:#ff0000;\" x=\"322.000316\" xlink:href=\"#mdc62ec9182\" y=\"69.325714\"/>\n     <use style=\"fill:#ff0000;stroke:#ff0000;\" x=\"359.787483\" xlink:href=\"#mdc62ec9182\" y=\"48.617143\"/>\n     <use style=\"fill:#ff0000;stroke:#ff0000;\" x=\"432.662735\" xlink:href=\"#mdc62ec9182\" y=\"32.050286\"/>\n    </g>\n   </g>\n   <g id=\"matplotlib.axis_1\">\n    <g id=\"xtick_1\">\n     <g id=\"line2d_1\">\n      <defs>\n       <path d=\"M 0 0 \nL 0 3.5 \n\" id=\"mf3d82ba0bf\" style=\"stroke:#000000;stroke-width:0.8;\"/>\n      </defs>\n      <g>\n       <use style=\"stroke:#000000;stroke-width:0.8;\" x=\"127.666312\" xlink:href=\"#mf3d82ba0bf\" y=\"442.08\"/>\n      </g>\n     </g>\n     <g id=\"text_1\">\n      <!-- 0.5 -->\n      <g transform=\"translate(119.714749 456.678437)scale(0.1 -0.1)\">\n       <defs>\n        <path d=\"M 31.78125 66.40625 \nQ 24.171875 66.40625 20.328125 58.90625 \nQ 16.5 51.421875 16.5 36.375 \nQ 16.5 21.390625 20.328125 13.890625 \nQ 24.171875 6.390625 31.78125 6.390625 \nQ 39.453125 6.390625 43.28125 13.890625 \nQ 47.125 21.390625 47.125 36.375 \nQ 47.125 51.421875 43.28125 58.90625 \nQ 39.453125 66.40625 31.78125 66.40625 \nz\nM 31.78125 74.21875 \nQ 44.046875 74.21875 50.515625 64.515625 \nQ 56.984375 54.828125 56.984375 36.375 \nQ 56.984375 17.96875 50.515625 8.265625 \nQ 44.046875 -1.421875 31.78125 -1.421875 \nQ 19.53125 -1.421875 13.0625 8.265625 \nQ 6.59375 17.96875 6.59375 36.375 \nQ 6.59375 54.828125 13.0625 64.515625 \nQ 19.53125 74.21875 31.78125 74.21875 \nz\n\" id=\"DejaVuSans-48\"/>\n        <path d=\"M 10.6875 12.40625 \nL 21 12.40625 \nL 21 0 \nL 10.6875 0 \nz\n\" id=\"DejaVuSans-46\"/>\n        <path d=\"M 10.796875 72.90625 \nL 49.515625 72.90625 \nL 49.515625 64.59375 \nL 19.828125 64.59375 \nL 19.828125 46.734375 \nQ 21.96875 47.46875 24.109375 47.828125 \nQ 26.265625 48.1875 28.421875 48.1875 \nQ 40.625 48.1875 47.75 41.5 \nQ 54.890625 34.8125 54.890625 23.390625 \nQ 54.890625 11.625 47.5625 5.09375 \nQ 40.234375 -1.421875 26.90625 -1.421875 \nQ 22.3125 -1.421875 17.546875 -0.640625 \nQ 12.796875 0.140625 7.71875 1.703125 \nL 7.71875 11.625 \nQ 12.109375 9.234375 16.796875 8.0625 \nQ 21.484375 6.890625 26.703125 6.890625 \nQ 35.15625 6.890625 40.078125 11.328125 \nQ 45.015625 15.765625 45.015625 23.390625 \nQ 45.015625 31 40.078125 35.4375 \nQ 35.15625 39.890625 26.703125 39.890625 \nQ 22.75 39.890625 18.8125 39.015625 \nQ 14.890625 38.140625 10.796875 36.28125 \nz\n\" id=\"DejaVuSans-53\"/>\n       </defs>\n       <use xlink:href=\"#DejaVuSans-48\"/>\n       <use x=\"63.623047\" xlink:href=\"#DejaVuSans-46\"/>\n       <use x=\"95.410156\" xlink:href=\"#DejaVuSans-53\"/>\n      </g>\n     </g>\n    </g>\n    <g id=\"xtick_2\">\n     <g id=\"line2d_2\">\n      <g>\n       <use style=\"stroke:#000000;stroke-width:0.8;\" x=\"262.620481\" xlink:href=\"#mf3d82ba0bf\" y=\"442.08\"/>\n      </g>\n     </g>\n     <g id=\"text_2\">\n      <!-- 1.0 -->\n      <g transform=\"translate(254.668919 456.678437)scale(0.1 -0.1)\">\n       <defs>\n        <path d=\"M 12.40625 8.296875 \nL 28.515625 8.296875 \nL 28.515625 63.921875 \nL 10.984375 60.40625 \nL 10.984375 69.390625 \nL 28.421875 72.90625 \nL 38.28125 72.90625 \nL 38.28125 8.296875 \nL 54.390625 8.296875 \nL 54.390625 0 \nL 12.40625 0 \nz\n\" id=\"DejaVuSans-49\"/>\n       </defs>\n       <use xlink:href=\"#DejaVuSans-49\"/>\n       <use x=\"63.623047\" xlink:href=\"#DejaVuSans-46\"/>\n       <use x=\"95.410156\" xlink:href=\"#DejaVuSans-48\"/>\n      </g>\n     </g>\n    </g>\n    <g id=\"xtick_3\">\n     <g id=\"line2d_3\">\n      <g>\n       <use style=\"stroke:#000000;stroke-width:0.8;\" x=\"397.574651\" xlink:href=\"#mf3d82ba0bf\" y=\"442.08\"/>\n      </g>\n     </g>\n     <g id=\"text_3\">\n      <!-- 1.5 -->\n      <g transform=\"translate(389.623088 456.678437)scale(0.1 -0.1)\">\n       <use xlink:href=\"#DejaVuSans-49\"/>\n       <use x=\"63.623047\" xlink:href=\"#DejaVuSans-46\"/>\n       <use x=\"95.410156\" xlink:href=\"#DejaVuSans-53\"/>\n      </g>\n     </g>\n    </g>\n    <g id=\"xtick_4\">\n     <g id=\"line2d_4\">\n      <g>\n       <use style=\"stroke:#000000;stroke-width:0.8;\" x=\"532.52882\" xlink:href=\"#mf3d82ba0bf\" y=\"442.08\"/>\n      </g>\n     </g>\n     <g id=\"text_4\">\n      <!-- 2.0 -->\n      <g transform=\"translate(524.577258 456.678437)scale(0.1 -0.1)\">\n       <defs>\n        <path d=\"M 19.1875 8.296875 \nL 53.609375 8.296875 \nL 53.609375 0 \nL 7.328125 0 \nL 7.328125 8.296875 \nQ 12.9375 14.109375 22.625 23.890625 \nQ 32.328125 33.6875 34.8125 36.53125 \nQ 39.546875 41.84375 41.421875 45.53125 \nQ 43.3125 49.21875 43.3125 52.78125 \nQ 43.3125 58.59375 39.234375 62.25 \nQ 35.15625 65.921875 28.609375 65.921875 \nQ 23.96875 65.921875 18.8125 64.3125 \nQ 13.671875 62.703125 7.8125 59.421875 \nL 7.8125 69.390625 \nQ 13.765625 71.78125 18.9375 73 \nQ 24.125 74.21875 28.421875 74.21875 \nQ 39.75 74.21875 46.484375 68.546875 \nQ 53.21875 62.890625 53.21875 53.421875 \nQ 53.21875 48.921875 51.53125 44.890625 \nQ 49.859375 40.875 45.40625 35.40625 \nQ 44.1875 33.984375 37.640625 27.21875 \nQ 31.109375 20.453125 19.1875 8.296875 \nz\n\" id=\"DejaVuSans-50\"/>\n       </defs>\n       <use xlink:href=\"#DejaVuSans-50\"/>\n       <use x=\"63.623047\" xlink:href=\"#DejaVuSans-46\"/>\n       <use x=\"95.410156\" xlink:href=\"#DejaVuSans-48\"/>\n      </g>\n     </g>\n    </g>\n    <g id=\"xtick_5\">\n     <g id=\"line2d_5\">\n      <g>\n       <use style=\"stroke:#000000;stroke-width:0.8;\" x=\"667.48299\" xlink:href=\"#mf3d82ba0bf\" y=\"442.08\"/>\n      </g>\n     </g>\n     <g id=\"text_5\">\n      <!-- 2.5 -->\n      <g transform=\"translate(659.531427 456.678437)scale(0.1 -0.1)\">\n       <use xlink:href=\"#DejaVuSans-50\"/>\n       <use x=\"63.623047\" xlink:href=\"#DejaVuSans-46\"/>\n       <use x=\"95.410156\" xlink:href=\"#DejaVuSans-53\"/>\n      </g>\n     </g>\n    </g>\n   </g>\n   <g id=\"matplotlib.axis_2\">\n    <g id=\"ytick_1\">\n     <g id=\"line2d_6\">\n      <defs>\n       <path d=\"M 0 0 \nL -3.5 0 \n\" id=\"m140f74e7f4\" style=\"stroke:#000000;stroke-width:0.8;\"/>\n      </defs>\n      <g>\n       <use style=\"stroke:#000000;stroke-width:0.8;\" x=\"30.103125\" xlink:href=\"#m140f74e7f4\" y=\"442.08\"/>\n      </g>\n     </g>\n     <g id=\"text_6\">\n      <!-- 0.0 -->\n      <g transform=\"translate(7.2 445.879219)scale(0.1 -0.1)\">\n       <use xlink:href=\"#DejaVuSans-48\"/>\n       <use x=\"63.623047\" xlink:href=\"#DejaVuSans-46\"/>\n       <use x=\"95.410156\" xlink:href=\"#DejaVuSans-48\"/>\n      </g>\n     </g>\n    </g>\n    <g id=\"ytick_2\">\n     <g id=\"line2d_7\">\n      <g>\n       <use style=\"stroke:#000000;stroke-width:0.8;\" x=\"30.103125\" xlink:href=\"#m140f74e7f4\" y=\"359.245714\"/>\n      </g>\n     </g>\n     <g id=\"text_7\">\n      <!-- 0.2 -->\n      <g transform=\"translate(7.2 363.044933)scale(0.1 -0.1)\">\n       <use xlink:href=\"#DejaVuSans-48\"/>\n       <use x=\"63.623047\" xlink:href=\"#DejaVuSans-46\"/>\n       <use x=\"95.410156\" xlink:href=\"#DejaVuSans-50\"/>\n      </g>\n     </g>\n    </g>\n    <g id=\"ytick_3\">\n     <g id=\"line2d_8\">\n      <g>\n       <use style=\"stroke:#000000;stroke-width:0.8;\" x=\"30.103125\" xlink:href=\"#m140f74e7f4\" y=\"276.411429\"/>\n      </g>\n     </g>\n     <g id=\"text_8\">\n      <!-- 0.4 -->\n      <g transform=\"translate(7.2 280.210647)scale(0.1 -0.1)\">\n       <defs>\n        <path d=\"M 37.796875 64.3125 \nL 12.890625 25.390625 \nL 37.796875 25.390625 \nz\nM 35.203125 72.90625 \nL 47.609375 72.90625 \nL 47.609375 25.390625 \nL 58.015625 25.390625 \nL 58.015625 17.1875 \nL 47.609375 17.1875 \nL 47.609375 0 \nL 37.796875 0 \nL 37.796875 17.1875 \nL 4.890625 17.1875 \nL 4.890625 26.703125 \nz\n\" id=\"DejaVuSans-52\"/>\n       </defs>\n       <use xlink:href=\"#DejaVuSans-48\"/>\n       <use x=\"63.623047\" xlink:href=\"#DejaVuSans-46\"/>\n       <use x=\"95.410156\" xlink:href=\"#DejaVuSans-52\"/>\n      </g>\n     </g>\n    </g>\n    <g id=\"ytick_4\">\n     <g id=\"line2d_9\">\n      <g>\n       <use style=\"stroke:#000000;stroke-width:0.8;\" x=\"30.103125\" xlink:href=\"#m140f74e7f4\" y=\"193.577143\"/>\n      </g>\n     </g>\n     <g id=\"text_9\">\n      <!-- 0.6 -->\n      <g transform=\"translate(7.2 197.376362)scale(0.1 -0.1)\">\n       <defs>\n        <path d=\"M 33.015625 40.375 \nQ 26.375 40.375 22.484375 35.828125 \nQ 18.609375 31.296875 18.609375 23.390625 \nQ 18.609375 15.53125 22.484375 10.953125 \nQ 26.375 6.390625 33.015625 6.390625 \nQ 39.65625 6.390625 43.53125 10.953125 \nQ 47.40625 15.53125 47.40625 23.390625 \nQ 47.40625 31.296875 43.53125 35.828125 \nQ 39.65625 40.375 33.015625 40.375 \nz\nM 52.59375 71.296875 \nL 52.59375 62.3125 \nQ 48.875 64.0625 45.09375 64.984375 \nQ 41.3125 65.921875 37.59375 65.921875 \nQ 27.828125 65.921875 22.671875 59.328125 \nQ 17.53125 52.734375 16.796875 39.40625 \nQ 19.671875 43.65625 24.015625 45.921875 \nQ 28.375 48.1875 33.59375 48.1875 \nQ 44.578125 48.1875 50.953125 41.515625 \nQ 57.328125 34.859375 57.328125 23.390625 \nQ 57.328125 12.15625 50.6875 5.359375 \nQ 44.046875 -1.421875 33.015625 -1.421875 \nQ 20.359375 -1.421875 13.671875 8.265625 \nQ 6.984375 17.96875 6.984375 36.375 \nQ 6.984375 53.65625 15.1875 63.9375 \nQ 23.390625 74.21875 37.203125 74.21875 \nQ 40.921875 74.21875 44.703125 73.484375 \nQ 48.484375 72.75 52.59375 71.296875 \nz\n\" id=\"DejaVuSans-54\"/>\n       </defs>\n       <use xlink:href=\"#DejaVuSans-48\"/>\n       <use x=\"63.623047\" xlink:href=\"#DejaVuSans-46\"/>\n       <use x=\"95.410156\" xlink:href=\"#DejaVuSans-54\"/>\n      </g>\n     </g>\n    </g>\n    <g id=\"ytick_5\">\n     <g id=\"line2d_10\">\n      <g>\n       <use style=\"stroke:#000000;stroke-width:0.8;\" x=\"30.103125\" xlink:href=\"#m140f74e7f4\" y=\"110.742857\"/>\n      </g>\n     </g>\n     <g id=\"text_10\">\n      <!-- 0.8 -->\n      <g transform=\"translate(7.2 114.542076)scale(0.1 -0.1)\">\n       <defs>\n        <path d=\"M 31.78125 34.625 \nQ 24.75 34.625 20.71875 30.859375 \nQ 16.703125 27.09375 16.703125 20.515625 \nQ 16.703125 13.921875 20.71875 10.15625 \nQ 24.75 6.390625 31.78125 6.390625 \nQ 38.8125 6.390625 42.859375 10.171875 \nQ 46.921875 13.96875 46.921875 20.515625 \nQ 46.921875 27.09375 42.890625 30.859375 \nQ 38.875 34.625 31.78125 34.625 \nz\nM 21.921875 38.8125 \nQ 15.578125 40.375 12.03125 44.71875 \nQ 8.5 49.078125 8.5 55.328125 \nQ 8.5 64.0625 14.71875 69.140625 \nQ 20.953125 74.21875 31.78125 74.21875 \nQ 42.671875 74.21875 48.875 69.140625 \nQ 55.078125 64.0625 55.078125 55.328125 \nQ 55.078125 49.078125 51.53125 44.71875 \nQ 48 40.375 41.703125 38.8125 \nQ 48.828125 37.15625 52.796875 32.3125 \nQ 56.78125 27.484375 56.78125 20.515625 \nQ 56.78125 9.90625 50.3125 4.234375 \nQ 43.84375 -1.421875 31.78125 -1.421875 \nQ 19.734375 -1.421875 13.25 4.234375 \nQ 6.78125 9.90625 6.78125 20.515625 \nQ 6.78125 27.484375 10.78125 32.3125 \nQ 14.796875 37.15625 21.921875 38.8125 \nz\nM 18.3125 54.390625 \nQ 18.3125 48.734375 21.84375 45.5625 \nQ 25.390625 42.390625 31.78125 42.390625 \nQ 38.140625 42.390625 41.71875 45.5625 \nQ 45.3125 48.734375 45.3125 54.390625 \nQ 45.3125 60.0625 41.71875 63.234375 \nQ 38.140625 66.40625 31.78125 66.40625 \nQ 25.390625 66.40625 21.84375 63.234375 \nQ 18.3125 60.0625 18.3125 54.390625 \nz\n\" id=\"DejaVuSans-56\"/>\n       </defs>\n       <use xlink:href=\"#DejaVuSans-48\"/>\n       <use x=\"63.623047\" xlink:href=\"#DejaVuSans-46\"/>\n       <use x=\"95.410156\" xlink:href=\"#DejaVuSans-56\"/>\n      </g>\n     </g>\n    </g>\n    <g id=\"ytick_6\">\n     <g id=\"line2d_11\">\n      <g>\n       <use style=\"stroke:#000000;stroke-width:0.8;\" x=\"30.103125\" xlink:href=\"#m140f74e7f4\" y=\"27.908571\"/>\n      </g>\n     </g>\n     <g id=\"text_11\">\n      <!-- 1.0 -->\n      <g transform=\"translate(7.2 31.70779)scale(0.1 -0.1)\">\n       <use xlink:href=\"#DejaVuSans-49\"/>\n       <use x=\"63.623047\" xlink:href=\"#DejaVuSans-46\"/>\n       <use x=\"95.410156\" xlink:href=\"#DejaVuSans-48\"/>\n      </g>\n     </g>\n    </g>\n   </g>\n   <g id=\"patch_43\">\n    <path d=\"M 30.103125 442.08 \nL 30.103125 7.2 \n\" style=\"fill:none;stroke:#000000;stroke-linecap:square;stroke-linejoin:miter;stroke-width:0.8;\"/>\n   </g>\n   <g id=\"patch_44\">\n    <path d=\"M 699.703125 442.08 \nL 699.703125 7.2 \n\" style=\"fill:none;stroke:#000000;stroke-linecap:square;stroke-linejoin:miter;stroke-width:0.8;\"/>\n   </g>\n   <g id=\"patch_45\">\n    <path d=\"M 30.103125 442.08 \nL 699.703125 442.08 \n\" style=\"fill:none;stroke:#000000;stroke-linecap:square;stroke-linejoin:miter;stroke-width:0.8;\"/>\n   </g>\n   <g id=\"patch_46\">\n    <path d=\"M 30.103125 7.2 \nL 699.703125 7.2 \n\" style=\"fill:none;stroke:#000000;stroke-linecap:square;stroke-linejoin:miter;stroke-width:0.8;\"/>\n   </g>\n  </g>\n </g>\n <defs>\n  <clipPath id=\"pab87c128dc\">\n   <rect height=\"434.88\" width=\"669.6\" x=\"30.103125\" y=\"7.2\"/>\n  </clipPath>\n </defs>\n</svg>\n",
      "image/png": "[encoded data removed]"
     },
     "metadata": {
      "needs_background": "light"
     }
    }
   ],
   "source": [
    "sample_num = 64_000\n",
    "\n",
    "klambda_vs = [kolmogorov_lambda_criteria(0, 1, 200, Fy_deduced) for _ in range(sample_num)]\n",
    "plt.hist(klambda_vs, bins=40, cumulative=True, density=True, zorder=-1)\n",
    "\n",
    "plt.scatter([klambda_090, klambda_095, klambda_099], [0.90, 0.95, 0.99], color='red', marker='*', s=120)\n",
    "\n",
    "plt.show()"
   ]
  },
  {
   "source": [
    "***"
   ],
   "cell_type": "markdown",
   "metadata": {}
  },
  {
   "source": [
    "### Критерий согласия Мизеса"
   ],
   "cell_type": "markdown",
   "metadata": {}
  },
  {
   "cell_type": "code",
   "execution_count": 19,
   "metadata": {},
   "outputs": [],
   "source": [
    "def mises_omega(a, b, n, Fy_analytic):\n",
    "    vs = generate_varseries(n)\n",
    "\n",
    "    n_omega_squared = 0\n",
    "    n_omega_squared += 1/(12*n)\n",
    "\n",
    "    for (i, v) in enumerate(vs):\n",
    "        n_omega_squared += (Fy_analytic(v) - (i-0.5)/n)**2\n",
    "\n",
    "    return n_omega_squared"
   ]
  },
  {
   "cell_type": "code",
   "execution_count": 20,
   "metadata": {},
   "outputs": [
    {
     "output_type": "stream",
     "name": "stdout",
     "text": [
      "0.1394134128460919\n0.18357972776881287\n0.09774563783841778\n0.23394662932508448\n0.03776656117884915\n0.08110736621410157\n0.1709700423288356\n0.10140358823353274\n0.10926925053513918\n0.4993797650243165\n0.16309360418577593\n0.06280933034061197\n0.07403673544871321\n0.5717786340822529\n0.2663397235041846\n0.12143889296052664\n0.13917612073961821\n0.2528216114071285\n0.30133921051035967\n0.044126279856094235\n"
     ]
    }
   ],
   "source": [
    "# testing Mises criteria 20 times:\n",
    "\n",
    "for _ in range(20):\n",
    "    mo = mises_omega(0, 1, 30, Fy_deduced)\n",
    "    print(mo)"
   ]
  },
  {
   "cell_type": "code",
   "execution_count": 21,
   "metadata": {},
   "outputs": [],
   "source": [
    "# Mises table data:\n",
    "\n",
    "momega_090 = 0.347\n",
    "momega_095 = 0.461\n",
    "momega_099 = 0.744"
   ]
  },
  {
   "cell_type": "code",
   "execution_count": 24,
   "metadata": {},
   "outputs": [
    {
     "output_type": "stream",
     "name": "stdout",
     "text": [
      "Observed omega is less than omega 0.90 in 89.381% of cases.\n",
      "Observed omega is less than omega 0.95 in 94.423% of cases.\n",
      "Observed omega is less than omega 0.99 in 98.934% of cases.\n"
     ]
    }
   ],
   "source": [
    "# how often empirical omega is less than omega 0.90?\n",
    "\n",
    "sample_num = 100_000\n",
    "answer = 0\n",
    "for _ in range(sample_num):\n",
    "    momega = mises_omega(0, 1, 200, Fy_deduced)\n",
    "    if momega < momega_090:\n",
    "        answer += 1\n",
    "\n",
    "answer /= sample_num\n",
    "print(f'Observed omega is less than omega 0.90 in {answer*100}% of cases.')\n",
    "\n",
    "# how often empirical omega is less than omega 0.95?\n",
    "answer = 0\n",
    "for _ in range(sample_num):\n",
    "    momega = mises_omega(0, 1, 200, Fy_deduced)\n",
    "    if momega < momega_095:\n",
    "        answer += 1\n",
    "\n",
    "answer /= sample_num\n",
    "print(f'Observed omega is less than omega 0.95 in {answer*100}% of cases.')\n",
    "\n",
    "# how often empirical omega is less than omega 0.99?\n",
    "answer = 0\n",
    "for _ in range(sample_num):\n",
    "    momega = mises_omega(0, 1, 200, Fy_deduced)\n",
    "    if momega < momega_099:\n",
    "        answer += 1\n",
    "\n",
    "answer /= sample_num\n",
    "print(f'Observed omega is less than omega 0.99 in {answer*100}% of cases.')"
   ]
  },
  {
   "cell_type": "code",
   "execution_count": 23,
   "metadata": {},
   "outputs": [
    {
     "output_type": "display_data",
     "data": {
      "text/plain": "<Figure size 864x576 with 1 Axes>",
      "image/svg+xml": "<?xml version=\"1.0\" encoding=\"utf-8\" standalone=\"no\"?>\n<!DOCTYPE svg PUBLIC \"-//W3C//DTD SVG 1.1//EN\"\n  \"http://www.w3.org/Graphics/SVG/1.1/DTD/svg11.dtd\">\n<!-- Created with matplotlib (https://matplotlib.org/) -->\n<svg height=\"465.958125pt\" version=\"1.1\" viewBox=\"0 0 706.903125 465.958125\" width=\"706.903125pt\" xmlns=\"http://www.w3.org/2000/svg\" xmlns:xlink=\"http://www.w3.org/1999/xlink\">\n <metadata>\n  <rdf:RDF xmlns:cc=\"http://creativecommons.org/ns#\" xmlns:dc=\"http://purl.org/dc/elements/1.1/\" xmlns:rdf=\"http://www.w3.org/1999/02/22-rdf-syntax-ns#\">\n   <cc:Work>\n    <dc:type rdf:resource=\"http://purl.org/dc/dcmitype/StillImage\"/>\n    <dc:date>2021-05-31T12:27:10.622383</dc:date>\n    <dc:format>image/svg+xml</dc:format>\n    <dc:creator>\n     <cc:Agent>\n      <dc:title>Matplotlib v3.3.4, https://matplotlib.org/</dc:title>\n     </cc:Agent>\n    </dc:creator>\n   </cc:Work>\n  </rdf:RDF>\n </metadata>\n <defs>\n  <style type=\"text/css\">*{stroke-linecap:butt;stroke-linejoin:round;}</style>\n </defs>\n <g id=\"figure_1\">\n  <g id=\"patch_1\">\n   <path d=\"M 0 465.958125 \nL 706.903125 465.958125 \nL 706.903125 0 \nL 0 0 \nz\n\" style=\"fill:none;\"/>\n  </g>\n  <g id=\"axes_1\">\n   <g id=\"patch_2\">\n    <path d=\"M 30.103125 442.08 \nL 699.703125 442.08 \nL 699.703125 7.2 \nL 30.103125 7.2 \nz\n\" style=\"fill:#ffffff;\"/>\n   </g>\n   <g id=\"patch_3\">\n    <path clip-path=\"url(#p0bdef7990c)\" d=\"M 60.539489 442.08 \nL 75.75767 442.08 \nL 75.75767 359.821671 \nL 60.539489 359.821671 \nz\n\" style=\"fill:#1f77b4;\"/>\n   </g>\n   <g id=\"patch_4\">\n    <path clip-path=\"url(#p0bdef7990c)\" d=\"M 75.75767 442.08 \nL 90.975852 442.08 \nL 90.975852 245.633314 \nL 75.75767 245.633314 \nz\n\" style=\"fill:#1f77b4;\"/>\n   </g>\n   <g id=\"patch_5\">\n    <path clip-path=\"url(#p0bdef7990c)\" d=\"M 90.975852 442.08 \nL 106.194034 442.08 \nL 106.194034 174.1305 \nL 90.975852 174.1305 \nz\n\" style=\"fill:#1f77b4;\"/>\n   </g>\n   <g id=\"patch_6\">\n    <path clip-path=\"url(#p0bdef7990c)\" d=\"M 106.194034 442.08 \nL 121.412216 442.08 \nL 121.412216 128.681657 \nL 106.194034 128.681657 \nz\n\" style=\"fill:#1f77b4;\"/>\n   </g>\n   <g id=\"patch_7\">\n    <path clip-path=\"url(#p0bdef7990c)\" d=\"M 121.412216 442.08 \nL 136.630398 442.08 \nL 136.630398 98.945443 \nL 121.412216 98.945443 \nz\n\" style=\"fill:#1f77b4;\"/>\n   </g>\n   <g id=\"patch_8\">\n    <path clip-path=\"url(#p0bdef7990c)\" d=\"M 136.630398 442.08 \nL 151.84858 442.08 \nL 151.84858 78.922843 \nL 136.630398 78.922843 \nz\n\" style=\"fill:#1f77b4;\"/>\n   </g>\n   <g id=\"patch_9\">\n    <path clip-path=\"url(#p0bdef7990c)\" d=\"M 151.84858 442.08 \nL 167.066761 442.08 \nL 167.066761 65.061043 \nL 151.84858 65.061043 \nz\n\" style=\"fill:#1f77b4;\"/>\n   </g>\n   <g id=\"patch_10\">\n    <path clip-path=\"url(#p0bdef7990c)\" d=\"M 167.066761 442.08 \nL 182.284943 442.08 \nL 182.284943 54.726171 \nL 167.066761 54.726171 \nz\n\" style=\"fill:#1f77b4;\"/>\n   </g>\n   <g id=\"patch_11\">\n    <path clip-path=\"url(#p0bdef7990c)\" d=\"M 182.284943 442.08 \nL 197.503125 442.08 \nL 197.503125 47.911757 \nL 182.284943 47.911757 \nz\n\" style=\"fill:#1f77b4;\"/>\n   </g>\n   <g id=\"patch_12\">\n    <path clip-path=\"url(#p0bdef7990c)\" d=\"M 197.503125 442.08 \nL 212.721307 442.08 \nL 212.721307 43.051714 \nL 197.503125 43.051714 \nz\n\" style=\"fill:#1f77b4;\"/>\n   </g>\n   <g id=\"patch_13\">\n    <path clip-path=\"url(#p0bdef7990c)\" d=\"M 212.721307 442.08 \nL 227.939489 442.08 \nL 227.939489 39.401829 \nL 212.721307 39.401829 \nz\n\" style=\"fill:#1f77b4;\"/>\n   </g>\n   <g id=\"patch_14\">\n    <path clip-path=\"url(#p0bdef7990c)\" d=\"M 227.939489 442.08 \nL 243.15767 442.08 \nL 243.15767 36.392614 \nL 227.939489 36.392614 \nz\n\" style=\"fill:#1f77b4;\"/>\n   </g>\n   <g id=\"patch_15\">\n    <path clip-path=\"url(#p0bdef7990c)\" d=\"M 243.15767 442.08 \nL 258.375852 442.08 \nL 258.375852 34.4253 \nL 243.15767 34.4253 \nz\n\" style=\"fill:#1f77b4;\"/>\n   </g>\n   <g id=\"patch_16\">\n    <path clip-path=\"url(#p0bdef7990c)\" d=\"M 258.375852 442.08 \nL 273.594034 442.08 \nL 273.594034 32.995114 \nL 258.375852 32.995114 \nz\n\" style=\"fill:#1f77b4;\"/>\n   </g>\n   <g id=\"patch_17\">\n    <path clip-path=\"url(#p0bdef7990c)\" d=\"M 273.594034 442.08 \nL 288.812216 442.08 \nL 288.812216 31.649057 \nL 273.594034 31.649057 \nz\n\" style=\"fill:#1f77b4;\"/>\n   </g>\n   <g id=\"patch_18\">\n    <path clip-path=\"url(#p0bdef7990c)\" d=\"M 288.812216 442.08 \nL 304.030398 442.08 \nL 304.030398 30.820714 \nL 288.812216 30.820714 \nz\n\" style=\"fill:#1f77b4;\"/>\n   </g>\n   <g id=\"patch_19\">\n    <path clip-path=\"url(#p0bdef7990c)\" d=\"M 304.030398 442.08 \nL 319.24858 442.08 \nL 319.24858 30.057086 \nL 304.030398 30.057086 \nz\n\" style=\"fill:#1f77b4;\"/>\n   </g>\n   <g id=\"patch_20\">\n    <path clip-path=\"url(#p0bdef7990c)\" d=\"M 319.24858 442.08 \nL 334.466761 442.08 \nL 334.466761 29.565257 \nL 319.24858 29.565257 \nz\n\" style=\"fill:#1f77b4;\"/>\n   </g>\n   <g id=\"patch_21\">\n    <path clip-path=\"url(#p0bdef7990c)\" d=\"M 334.466761 442.08 \nL 349.684943 442.08 \nL 349.684943 29.157557 \nL 334.466761 29.157557 \nz\n\" style=\"fill:#1f77b4;\"/>\n   </g>\n   <g id=\"patch_22\">\n    <path clip-path=\"url(#p0bdef7990c)\" d=\"M 349.684943 442.08 \nL 364.903125 442.08 \nL 364.903125 28.879286 \nL 349.684943 28.879286 \nz\n\" style=\"fill:#1f77b4;\"/>\n   </g>\n   <g id=\"patch_23\">\n    <path clip-path=\"url(#p0bdef7990c)\" d=\"M 364.903125 442.08 \nL 380.121307 442.08 \nL 380.121307 28.639843 \nL 364.903125 28.639843 \nz\n\" style=\"fill:#1f77b4;\"/>\n   </g>\n   <g id=\"patch_24\">\n    <path clip-path=\"url(#p0bdef7990c)\" d=\"M 380.121307 442.08 \nL 395.339489 442.08 \nL 395.339489 28.497471 \nL 380.121307 28.497471 \nz\n\" style=\"fill:#1f77b4;\"/>\n   </g>\n   <g id=\"patch_25\">\n    <path clip-path=\"url(#p0bdef7990c)\" d=\"M 395.339489 442.08 \nL 410.55767 442.08 \nL 410.55767 28.413343 \nL 395.339489 28.413343 \nz\n\" style=\"fill:#1f77b4;\"/>\n   </g>\n   <g id=\"patch_26\">\n    <path clip-path=\"url(#p0bdef7990c)\" d=\"M 410.55767 442.08 \nL 425.775852 442.08 \nL 425.775852 28.251557 \nL 410.55767 28.251557 \nz\n\" style=\"fill:#1f77b4;\"/>\n   </g>\n   <g id=\"patch_27\">\n    <path clip-path=\"url(#p0bdef7990c)\" d=\"M 425.775852 442.08 \nL 440.994034 442.08 \nL 440.994034 28.193314 \nL 425.775852 28.193314 \nz\n\" style=\"fill:#1f77b4;\"/>\n   </g>\n   <g id=\"patch_28\">\n    <path clip-path=\"url(#p0bdef7990c)\" d=\"M 440.994034 442.08 \nL 456.212216 442.08 \nL 456.212216 28.122129 \nL 440.994034 28.122129 \nz\n\" style=\"fill:#1f77b4;\"/>\n   </g>\n   <g id=\"patch_29\">\n    <path clip-path=\"url(#p0bdef7990c)\" d=\"M 456.212216 442.08 \nL 471.430398 442.08 \nL 471.430398 28.089771 \nL 456.212216 28.089771 \nz\n\" style=\"fill:#1f77b4;\"/>\n   </g>\n   <g id=\"patch_30\">\n    <path clip-path=\"url(#p0bdef7990c)\" d=\"M 471.430398 442.08 \nL 486.64858 442.08 \nL 486.64858 28.044471 \nL 471.430398 28.044471 \nz\n\" style=\"fill:#1f77b4;\"/>\n   </g>\n   <g id=\"patch_31\">\n    <path clip-path=\"url(#p0bdef7990c)\" d=\"M 486.64858 442.08 \nL 501.866761 442.08 \nL 501.866761 28.018586 \nL 486.64858 28.018586 \nz\n\" style=\"fill:#1f77b4;\"/>\n   </g>\n   <g id=\"patch_32\">\n    <path clip-path=\"url(#p0bdef7990c)\" d=\"M 501.866761 442.08 \nL 517.084943 442.08 \nL 517.084943 27.986229 \nL 501.866761 27.986229 \nz\n\" style=\"fill:#1f77b4;\"/>\n   </g>\n   <g id=\"patch_33\">\n    <path clip-path=\"url(#p0bdef7990c)\" d=\"M 517.084943 442.08 \nL 532.303125 442.08 \nL 532.303125 27.973286 \nL 517.084943 27.973286 \nz\n\" style=\"fill:#1f77b4;\"/>\n   </g>\n   <g id=\"patch_34\">\n    <path clip-path=\"url(#p0bdef7990c)\" d=\"M 532.303125 442.08 \nL 547.521307 442.08 \nL 547.521307 27.960343 \nL 532.303125 27.960343 \nz\n\" style=\"fill:#1f77b4;\"/>\n   </g>\n   <g id=\"patch_35\">\n    <path clip-path=\"url(#p0bdef7990c)\" d=\"M 547.521307 442.08 \nL 562.739489 442.08 \nL 562.739489 27.934457 \nL 547.521307 27.934457 \nz\n\" style=\"fill:#1f77b4;\"/>\n   </g>\n   <g id=\"patch_36\">\n    <path clip-path=\"url(#p0bdef7990c)\" d=\"M 562.739489 442.08 \nL 577.95767 442.08 \nL 577.95767 27.927986 \nL 562.739489 27.927986 \nz\n\" style=\"fill:#1f77b4;\"/>\n   </g>\n   <g id=\"patch_37\">\n    <path clip-path=\"url(#p0bdef7990c)\" d=\"M 577.95767 442.08 \nL 593.175852 442.08 \nL 593.175852 27.927986 \nL 577.95767 27.927986 \nz\n\" style=\"fill:#1f77b4;\"/>\n   </g>\n   <g id=\"patch_38\">\n    <path clip-path=\"url(#p0bdef7990c)\" d=\"M 593.175852 442.08 \nL 608.394034 442.08 \nL 608.394034 27.921514 \nL 593.175852 27.921514 \nz\n\" style=\"fill:#1f77b4;\"/>\n   </g>\n   <g id=\"patch_39\">\n    <path clip-path=\"url(#p0bdef7990c)\" d=\"M 608.394034 442.08 \nL 623.612216 442.08 \nL 623.612216 27.921514 \nL 608.394034 27.921514 \nz\n\" style=\"fill:#1f77b4;\"/>\n   </g>\n   <g id=\"patch_40\">\n    <path clip-path=\"url(#p0bdef7990c)\" d=\"M 623.612216 442.08 \nL 638.830398 442.08 \nL 638.830398 27.915043 \nL 623.612216 27.915043 \nz\n\" style=\"fill:#1f77b4;\"/>\n   </g>\n   <g id=\"patch_41\">\n    <path clip-path=\"url(#p0bdef7990c)\" d=\"M 638.830398 442.08 \nL 654.04858 442.08 \nL 654.04858 27.915043 \nL 638.830398 27.915043 \nz\n\" style=\"fill:#1f77b4;\"/>\n   </g>\n   <g id=\"patch_42\">\n    <path clip-path=\"url(#p0bdef7990c)\" d=\"M 654.04858 442.08 \nL 669.266761 442.08 \nL 669.266761 27.908571 \nL 654.04858 27.908571 \nz\n\" style=\"fill:#1f77b4;\"/>\n   </g>\n   <g id=\"PathCollection_1\">\n    <defs>\n     <path d=\"M 0 -5.477226 \nL -1.229714 -1.692556 \nL -5.209151 -1.692556 \nL -1.989719 0.646499 \nL -3.219432 4.431169 \nL -0 2.092114 \nL 3.219432 4.431169 \nL 1.989719 0.646499 \nL 5.209151 -1.692556 \nL 1.229714 -1.692556 \nz\n\" id=\"m33adc6ae9e\" style=\"stroke:#ff0000;\"/>\n    </defs>\n    <g clip-path=\"url(#p0bdef7990c)\">\n     <use style=\"fill:#ff0000;stroke:#ff0000;\" x=\"157.880306\" xlink:href=\"#m33adc6ae9e\" y=\"69.325714\"/>\n     <use style=\"fill:#ff0000;stroke:#ff0000;\" x=\"190.910004\" xlink:href=\"#m33adc6ae9e\" y=\"48.617143\"/>\n     <use style=\"fill:#ff0000;stroke:#ff0000;\" x=\"272.904781\" xlink:href=\"#m33adc6ae9e\" y=\"32.050286\"/>\n    </g>\n   </g>\n   <g id=\"matplotlib.axis_1\">\n    <g id=\"xtick_1\">\n     <g id=\"line2d_1\">\n      <defs>\n       <path d=\"M 0 0 \nL 0 3.5 \n\" id=\"m8821934bd5\" style=\"stroke:#000000;stroke-width:0.8;\"/>\n      </defs>\n      <g>\n       <use style=\"stroke:#000000;stroke-width:0.8;\" x=\"57.342542\" xlink:href=\"#m8821934bd5\" y=\"442.08\"/>\n      </g>\n     </g>\n     <g id=\"text_1\">\n      <!-- 0.0 -->\n      <g transform=\"translate(49.390979 456.678437)scale(0.1 -0.1)\">\n       <defs>\n        <path d=\"M 31.78125 66.40625 \nQ 24.171875 66.40625 20.328125 58.90625 \nQ 16.5 51.421875 16.5 36.375 \nQ 16.5 21.390625 20.328125 13.890625 \nQ 24.171875 6.390625 31.78125 6.390625 \nQ 39.453125 6.390625 43.28125 13.890625 \nQ 47.125 21.390625 47.125 36.375 \nQ 47.125 51.421875 43.28125 58.90625 \nQ 39.453125 66.40625 31.78125 66.40625 \nz\nM 31.78125 74.21875 \nQ 44.046875 74.21875 50.515625 64.515625 \nQ 56.984375 54.828125 56.984375 36.375 \nQ 56.984375 17.96875 50.515625 8.265625 \nQ 44.046875 -1.421875 31.78125 -1.421875 \nQ 19.53125 -1.421875 13.0625 8.265625 \nQ 6.59375 17.96875 6.59375 36.375 \nQ 6.59375 54.828125 13.0625 64.515625 \nQ 19.53125 74.21875 31.78125 74.21875 \nz\n\" id=\"DejaVuSans-48\"/>\n        <path d=\"M 10.6875 12.40625 \nL 21 12.40625 \nL 21 0 \nL 10.6875 0 \nz\n\" id=\"DejaVuSans-46\"/>\n       </defs>\n       <use xlink:href=\"#DejaVuSans-48\"/>\n       <use x=\"63.623047\" xlink:href=\"#DejaVuSans-46\"/>\n       <use x=\"95.410156\" xlink:href=\"#DejaVuSans-48\"/>\n      </g>\n     </g>\n    </g>\n    <g id=\"xtick_2\">\n     <g id=\"line2d_2\">\n      <g>\n       <use style=\"stroke:#000000;stroke-width:0.8;\" x=\"202.209638\" xlink:href=\"#m8821934bd5\" y=\"442.08\"/>\n      </g>\n     </g>\n     <g id=\"text_2\">\n      <!-- 0.5 -->\n      <g transform=\"translate(194.258075 456.678437)scale(0.1 -0.1)\">\n       <defs>\n        <path d=\"M 10.796875 72.90625 \nL 49.515625 72.90625 \nL 49.515625 64.59375 \nL 19.828125 64.59375 \nL 19.828125 46.734375 \nQ 21.96875 47.46875 24.109375 47.828125 \nQ 26.265625 48.1875 28.421875 48.1875 \nQ 40.625 48.1875 47.75 41.5 \nQ 54.890625 34.8125 54.890625 23.390625 \nQ 54.890625 11.625 47.5625 5.09375 \nQ 40.234375 -1.421875 26.90625 -1.421875 \nQ 22.3125 -1.421875 17.546875 -0.640625 \nQ 12.796875 0.140625 7.71875 1.703125 \nL 7.71875 11.625 \nQ 12.109375 9.234375 16.796875 8.0625 \nQ 21.484375 6.890625 26.703125 6.890625 \nQ 35.15625 6.890625 40.078125 11.328125 \nQ 45.015625 15.765625 45.015625 23.390625 \nQ 45.015625 31 40.078125 35.4375 \nQ 35.15625 39.890625 26.703125 39.890625 \nQ 22.75 39.890625 18.8125 39.015625 \nQ 14.890625 38.140625 10.796875 36.28125 \nz\n\" id=\"DejaVuSans-53\"/>\n       </defs>\n       <use xlink:href=\"#DejaVuSans-48\"/>\n       <use x=\"63.623047\" xlink:href=\"#DejaVuSans-46\"/>\n       <use x=\"95.410156\" xlink:href=\"#DejaVuSans-53\"/>\n      </g>\n     </g>\n    </g>\n    <g id=\"xtick_3\">\n     <g id=\"line2d_3\">\n      <g>\n       <use style=\"stroke:#000000;stroke-width:0.8;\" x=\"347.076734\" xlink:href=\"#m8821934bd5\" y=\"442.08\"/>\n      </g>\n     </g>\n     <g id=\"text_3\">\n      <!-- 1.0 -->\n      <g transform=\"translate(339.125172 456.678437)scale(0.1 -0.1)\">\n       <defs>\n        <path d=\"M 12.40625 8.296875 \nL 28.515625 8.296875 \nL 28.515625 63.921875 \nL 10.984375 60.40625 \nL 10.984375 69.390625 \nL 28.421875 72.90625 \nL 38.28125 72.90625 \nL 38.28125 8.296875 \nL 54.390625 8.296875 \nL 54.390625 0 \nL 12.40625 0 \nz\n\" id=\"DejaVuSans-49\"/>\n       </defs>\n       <use xlink:href=\"#DejaVuSans-49\"/>\n       <use x=\"63.623047\" xlink:href=\"#DejaVuSans-46\"/>\n       <use x=\"95.410156\" xlink:href=\"#DejaVuSans-48\"/>\n      </g>\n     </g>\n    </g>\n    <g id=\"xtick_4\">\n     <g id=\"line2d_4\">\n      <g>\n       <use style=\"stroke:#000000;stroke-width:0.8;\" x=\"491.94383\" xlink:href=\"#m8821934bd5\" y=\"442.08\"/>\n      </g>\n     </g>\n     <g id=\"text_4\">\n      <!-- 1.5 -->\n      <g transform=\"translate(483.992268 456.678437)scale(0.1 -0.1)\">\n       <use xlink:href=\"#DejaVuSans-49\"/>\n       <use x=\"63.623047\" xlink:href=\"#DejaVuSans-46\"/>\n       <use x=\"95.410156\" xlink:href=\"#DejaVuSans-53\"/>\n      </g>\n     </g>\n    </g>\n    <g id=\"xtick_5\">\n     <g id=\"line2d_5\">\n      <g>\n       <use style=\"stroke:#000000;stroke-width:0.8;\" x=\"636.810927\" xlink:href=\"#m8821934bd5\" y=\"442.08\"/>\n      </g>\n     </g>\n     <g id=\"text_5\">\n      <!-- 2.0 -->\n      <g transform=\"translate(628.859364 456.678437)scale(0.1 -0.1)\">\n       <defs>\n        <path d=\"M 19.1875 8.296875 \nL 53.609375 8.296875 \nL 53.609375 0 \nL 7.328125 0 \nL 7.328125 8.296875 \nQ 12.9375 14.109375 22.625 23.890625 \nQ 32.328125 33.6875 34.8125 36.53125 \nQ 39.546875 41.84375 41.421875 45.53125 \nQ 43.3125 49.21875 43.3125 52.78125 \nQ 43.3125 58.59375 39.234375 62.25 \nQ 35.15625 65.921875 28.609375 65.921875 \nQ 23.96875 65.921875 18.8125 64.3125 \nQ 13.671875 62.703125 7.8125 59.421875 \nL 7.8125 69.390625 \nQ 13.765625 71.78125 18.9375 73 \nQ 24.125 74.21875 28.421875 74.21875 \nQ 39.75 74.21875 46.484375 68.546875 \nQ 53.21875 62.890625 53.21875 53.421875 \nQ 53.21875 48.921875 51.53125 44.890625 \nQ 49.859375 40.875 45.40625 35.40625 \nQ 44.1875 33.984375 37.640625 27.21875 \nQ 31.109375 20.453125 19.1875 8.296875 \nz\n\" id=\"DejaVuSans-50\"/>\n       </defs>\n       <use xlink:href=\"#DejaVuSans-50\"/>\n       <use x=\"63.623047\" xlink:href=\"#DejaVuSans-46\"/>\n       <use x=\"95.410156\" xlink:href=\"#DejaVuSans-48\"/>\n      </g>\n     </g>\n    </g>\n   </g>\n   <g id=\"matplotlib.axis_2\">\n    <g id=\"ytick_1\">\n     <g id=\"line2d_6\">\n      <defs>\n       <path d=\"M 0 0 \nL -3.5 0 \n\" id=\"m4b6fdc3d94\" style=\"stroke:#000000;stroke-width:0.8;\"/>\n      </defs>\n      <g>\n       <use style=\"stroke:#000000;stroke-width:0.8;\" x=\"30.103125\" xlink:href=\"#m4b6fdc3d94\" y=\"442.08\"/>\n      </g>\n     </g>\n     <g id=\"text_6\">\n      <!-- 0.0 -->\n      <g transform=\"translate(7.2 445.879219)scale(0.1 -0.1)\">\n       <use xlink:href=\"#DejaVuSans-48\"/>\n       <use x=\"63.623047\" xlink:href=\"#DejaVuSans-46\"/>\n       <use x=\"95.410156\" xlink:href=\"#DejaVuSans-48\"/>\n      </g>\n     </g>\n    </g>\n    <g id=\"ytick_2\">\n     <g id=\"line2d_7\">\n      <g>\n       <use style=\"stroke:#000000;stroke-width:0.8;\" x=\"30.103125\" xlink:href=\"#m4b6fdc3d94\" y=\"359.245714\"/>\n      </g>\n     </g>\n     <g id=\"text_7\">\n      <!-- 0.2 -->\n      <g transform=\"translate(7.2 363.044933)scale(0.1 -0.1)\">\n       <use xlink:href=\"#DejaVuSans-48\"/>\n       <use x=\"63.623047\" xlink:href=\"#DejaVuSans-46\"/>\n       <use x=\"95.410156\" xlink:href=\"#DejaVuSans-50\"/>\n      </g>\n     </g>\n    </g>\n    <g id=\"ytick_3\">\n     <g id=\"line2d_8\">\n      <g>\n       <use style=\"stroke:#000000;stroke-width:0.8;\" x=\"30.103125\" xlink:href=\"#m4b6fdc3d94\" y=\"276.411429\"/>\n      </g>\n     </g>\n     <g id=\"text_8\">\n      <!-- 0.4 -->\n      <g transform=\"translate(7.2 280.210647)scale(0.1 -0.1)\">\n       <defs>\n        <path d=\"M 37.796875 64.3125 \nL 12.890625 25.390625 \nL 37.796875 25.390625 \nz\nM 35.203125 72.90625 \nL 47.609375 72.90625 \nL 47.609375 25.390625 \nL 58.015625 25.390625 \nL 58.015625 17.1875 \nL 47.609375 17.1875 \nL 47.609375 0 \nL 37.796875 0 \nL 37.796875 17.1875 \nL 4.890625 17.1875 \nL 4.890625 26.703125 \nz\n\" id=\"DejaVuSans-52\"/>\n       </defs>\n       <use xlink:href=\"#DejaVuSans-48\"/>\n       <use x=\"63.623047\" xlink:href=\"#DejaVuSans-46\"/>\n       <use x=\"95.410156\" xlink:href=\"#DejaVuSans-52\"/>\n      </g>\n     </g>\n    </g>\n    <g id=\"ytick_4\">\n     <g id=\"line2d_9\">\n      <g>\n       <use style=\"stroke:#000000;stroke-width:0.8;\" x=\"30.103125\" xlink:href=\"#m4b6fdc3d94\" y=\"193.577143\"/>\n      </g>\n     </g>\n     <g id=\"text_9\">\n      <!-- 0.6 -->\n      <g transform=\"translate(7.2 197.376362)scale(0.1 -0.1)\">\n       <defs>\n        <path d=\"M 33.015625 40.375 \nQ 26.375 40.375 22.484375 35.828125 \nQ 18.609375 31.296875 18.609375 23.390625 \nQ 18.609375 15.53125 22.484375 10.953125 \nQ 26.375 6.390625 33.015625 6.390625 \nQ 39.65625 6.390625 43.53125 10.953125 \nQ 47.40625 15.53125 47.40625 23.390625 \nQ 47.40625 31.296875 43.53125 35.828125 \nQ 39.65625 40.375 33.015625 40.375 \nz\nM 52.59375 71.296875 \nL 52.59375 62.3125 \nQ 48.875 64.0625 45.09375 64.984375 \nQ 41.3125 65.921875 37.59375 65.921875 \nQ 27.828125 65.921875 22.671875 59.328125 \nQ 17.53125 52.734375 16.796875 39.40625 \nQ 19.671875 43.65625 24.015625 45.921875 \nQ 28.375 48.1875 33.59375 48.1875 \nQ 44.578125 48.1875 50.953125 41.515625 \nQ 57.328125 34.859375 57.328125 23.390625 \nQ 57.328125 12.15625 50.6875 5.359375 \nQ 44.046875 -1.421875 33.015625 -1.421875 \nQ 20.359375 -1.421875 13.671875 8.265625 \nQ 6.984375 17.96875 6.984375 36.375 \nQ 6.984375 53.65625 15.1875 63.9375 \nQ 23.390625 74.21875 37.203125 74.21875 \nQ 40.921875 74.21875 44.703125 73.484375 \nQ 48.484375 72.75 52.59375 71.296875 \nz\n\" id=\"DejaVuSans-54\"/>\n       </defs>\n       <use xlink:href=\"#DejaVuSans-48\"/>\n       <use x=\"63.623047\" xlink:href=\"#DejaVuSans-46\"/>\n       <use x=\"95.410156\" xlink:href=\"#DejaVuSans-54\"/>\n      </g>\n     </g>\n    </g>\n    <g id=\"ytick_5\">\n     <g id=\"line2d_10\">\n      <g>\n       <use style=\"stroke:#000000;stroke-width:0.8;\" x=\"30.103125\" xlink:href=\"#m4b6fdc3d94\" y=\"110.742857\"/>\n      </g>\n     </g>\n     <g id=\"text_10\">\n      <!-- 0.8 -->\n      <g transform=\"translate(7.2 114.542076)scale(0.1 -0.1)\">\n       <defs>\n        <path d=\"M 31.78125 34.625 \nQ 24.75 34.625 20.71875 30.859375 \nQ 16.703125 27.09375 16.703125 20.515625 \nQ 16.703125 13.921875 20.71875 10.15625 \nQ 24.75 6.390625 31.78125 6.390625 \nQ 38.8125 6.390625 42.859375 10.171875 \nQ 46.921875 13.96875 46.921875 20.515625 \nQ 46.921875 27.09375 42.890625 30.859375 \nQ 38.875 34.625 31.78125 34.625 \nz\nM 21.921875 38.8125 \nQ 15.578125 40.375 12.03125 44.71875 \nQ 8.5 49.078125 8.5 55.328125 \nQ 8.5 64.0625 14.71875 69.140625 \nQ 20.953125 74.21875 31.78125 74.21875 \nQ 42.671875 74.21875 48.875 69.140625 \nQ 55.078125 64.0625 55.078125 55.328125 \nQ 55.078125 49.078125 51.53125 44.71875 \nQ 48 40.375 41.703125 38.8125 \nQ 48.828125 37.15625 52.796875 32.3125 \nQ 56.78125 27.484375 56.78125 20.515625 \nQ 56.78125 9.90625 50.3125 4.234375 \nQ 43.84375 -1.421875 31.78125 -1.421875 \nQ 19.734375 -1.421875 13.25 4.234375 \nQ 6.78125 9.90625 6.78125 20.515625 \nQ 6.78125 27.484375 10.78125 32.3125 \nQ 14.796875 37.15625 21.921875 38.8125 \nz\nM 18.3125 54.390625 \nQ 18.3125 48.734375 21.84375 45.5625 \nQ 25.390625 42.390625 31.78125 42.390625 \nQ 38.140625 42.390625 41.71875 45.5625 \nQ 45.3125 48.734375 45.3125 54.390625 \nQ 45.3125 60.0625 41.71875 63.234375 \nQ 38.140625 66.40625 31.78125 66.40625 \nQ 25.390625 66.40625 21.84375 63.234375 \nQ 18.3125 60.0625 18.3125 54.390625 \nz\n\" id=\"DejaVuSans-56\"/>\n       </defs>\n       <use xlink:href=\"#DejaVuSans-48\"/>\n       <use x=\"63.623047\" xlink:href=\"#DejaVuSans-46\"/>\n       <use x=\"95.410156\" xlink:href=\"#DejaVuSans-56\"/>\n      </g>\n     </g>\n    </g>\n    <g id=\"ytick_6\">\n     <g id=\"line2d_11\">\n      <g>\n       <use style=\"stroke:#000000;stroke-width:0.8;\" x=\"30.103125\" xlink:href=\"#m4b6fdc3d94\" y=\"27.908571\"/>\n      </g>\n     </g>\n     <g id=\"text_11\">\n      <!-- 1.0 -->\n      <g transform=\"translate(7.2 31.70779)scale(0.1 -0.1)\">\n       <use xlink:href=\"#DejaVuSans-49\"/>\n       <use x=\"63.623047\" xlink:href=\"#DejaVuSans-46\"/>\n       <use x=\"95.410156\" xlink:href=\"#DejaVuSans-48\"/>\n      </g>\n     </g>\n    </g>\n   </g>\n   <g id=\"patch_43\">\n    <path d=\"M 30.103125 442.08 \nL 30.103125 7.2 \n\" style=\"fill:none;stroke:#000000;stroke-linecap:square;stroke-linejoin:miter;stroke-width:0.8;\"/>\n   </g>\n   <g id=\"patch_44\">\n    <path d=\"M 699.703125 442.08 \nL 699.703125 7.2 \n\" style=\"fill:none;stroke:#000000;stroke-linecap:square;stroke-linejoin:miter;stroke-width:0.8;\"/>\n   </g>\n   <g id=\"patch_45\">\n    <path d=\"M 30.103125 442.08 \nL 699.703125 442.08 \n\" style=\"fill:none;stroke:#000000;stroke-linecap:square;stroke-linejoin:miter;stroke-width:0.8;\"/>\n   </g>\n   <g id=\"patch_46\">\n    <path d=\"M 30.103125 7.2 \nL 699.703125 7.2 \n\" style=\"fill:none;stroke:#000000;stroke-linecap:square;stroke-linejoin:miter;stroke-width:0.8;\"/>\n   </g>\n  </g>\n </g>\n <defs>\n  <clipPath id=\"p0bdef7990c\">\n   <rect height=\"434.88\" width=\"669.6\" x=\"30.103125\" y=\"7.2\"/>\n  </clipPath>\n </defs>\n</svg>\n",
      "image/png": "[encoded data removed]"
     },
     "metadata": {
      "needs_background": "light"
     }
    }
   ],
   "source": [
    "sample_num = 64_000\n",
    "\n",
    "momega_vs = [mises_omega(0, 1, 200, Fy_deduced) for _ in range(sample_num)]\n",
    "plt.hist(momega_vs, bins=40, cumulative=True, density=True, zorder=-1)\n",
    "\n",
    "plt.scatter([momega_090, momega_095, momega_099], [0.90, 0.95, 0.99], color='red', marker='*', s=120)\n",
    "\n",
    "plt.show()"
   ]
  }
 ]
}