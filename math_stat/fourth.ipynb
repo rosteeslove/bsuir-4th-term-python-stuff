{
 "metadata": {
  "language_info": {
   "codemirror_mode": {
    "name": "ipython",
    "version": 3
   },
   "file_extension": ".py",
   "mimetype": "text/x-python",
   "name": "python",
   "nbconvert_exporter": "python",
   "pygments_lexer": "ipython3",
   "version": "3.8.8"
  },
  "orig_nbformat": 2,
  "kernelspec": {
   "name": "python388jvsc74a57bd0ce2db10f4ff34e0b876ddfba269948e5918580ad074a00f37d2b1d6068e9f6c7",
   "display_name": "Python 3.8.8 64-bit ('base': conda)"
  },
  "metadata": {
   "interpreter": {
    "hash": "ce2db10f4ff34e0b876ddfba269948e5918580ad074a00f37d2b1d6068e9f6c7"
   }
  }
 },
 "nbformat": 4,
 "nbformat_minor": 2,
 "cells": [
  {
   "source": [
    "# ТВиМС Задание 4\n",
    "\n",
    "## Вариант 14\n",
    "\n",
    "Проверка статистических гипотез.\n",
    "Критерии согласия Пирсона, Колмогорова, Мизеса."
   ],
   "cell_type": "markdown",
   "metadata": {}
  },
  {
   "cell_type": "code",
   "execution_count": 1,
   "metadata": {},
   "outputs": [],
   "source": [
    "import math\n",
    "import random\n",
    "import numpy as np\n",
    "import matplotlib.pyplot as plt\n",
    "\n",
    "from ipywidgets import interact"
   ]
  },
  {
   "cell_type": "code",
   "execution_count": 2,
   "metadata": {},
   "outputs": [],
   "source": [
    "plt.rcParams['figure.figsize'] = [12, 8]"
   ]
  },
  {
   "cell_type": "code",
   "execution_count": 3,
   "metadata": {},
   "outputs": [],
   "source": [
    "a = 0\n",
    "b = math.pi / 4"
   ]
  },
  {
   "cell_type": "code",
   "execution_count": 4,
   "metadata": {},
   "outputs": [],
   "source": [
    "def get_x():\n",
    "    return  + random.random()*(b-a)\n",
    "\n",
    "def y_func(x):\n",
    "    return math.tan(x)\n",
    "\n",
    "def get_y():\n",
    "    return y_func(get_x())"
   ]
  },
  {
   "cell_type": "code",
   "execution_count": 5,
   "metadata": {},
   "outputs": [],
   "source": [
    "def generate_varseries(n):\n",
    "    ys = []\n",
    "\n",
    "    for i in range(n):\n",
    "        ys.append(get_y())\n",
    "\n",
    "    ys.sort()\n",
    "    return ys"
   ]
  },
  {
   "cell_type": "code",
   "execution_count": 6,
   "metadata": {},
   "outputs": [],
   "source": [
    "def Fy_deduced(y):\n",
    "    if y < 0:\n",
    "        return 0\n",
    "    elif y > 1:\n",
    "        return 1\n",
    "    else:\n",
    "        return 4 / math.pi * math.atan(y)\n",
    "\n",
    "def fy_deduced(y):\n",
    "    if y < 0 or y > 1:\n",
    "        return 0\n",
    "    else:\n",
    "        return 4 / (math.pi * (1 + y**2))"
   ]
  },
  {
   "source": [
    "***"
   ],
   "cell_type": "markdown",
   "metadata": {}
  },
  {
   "cell_type": "code",
   "execution_count": 7,
   "metadata": {},
   "outputs": [],
   "source": [
    "# (copied from second_and_third.ipynb with slight modifications)\n",
    "def histogram_data_beta(a, b, vs, group_num, normalize=True):\n",
    "    \"\"\"Return data needed for type 2 histogram\n",
    "    as a list of tuples each being:\n",
    "    (a bin's left bound, a bin's occurrences count)\n",
    "    \n",
    "    Each bin's interval has its left bound included\n",
    "    and right excluded, e.g. [0, 1), [1, 2), [3, 4), ...\n",
    "\n",
    "    Примечание: работает только для НСВ с почти-лишь-только-один-раз-встречающимися\n",
    "    элементами вариационного ряда (здесь вар-ряд = выборка из-за *высокой степени\n",
    "    уникальности* элементов выборки, т.е. элементы списка 'vs' могут повторяться,\n",
    "    но это очень маловероятно, если число b-a неотрицательного порядка/\n",
    "    однозначного отрицательного порядка - порядок условно от -9 до 10+)\n",
    "    \"\"\"\n",
    "    bin_capacity = len(vs) // group_num\n",
    "\n",
    "    hdata = [[a, 0]]\n",
    "    for i in range(len(vs)):\n",
    "        hdata[-1][1] += 1\n",
    "        last_bin_empty = False\n",
    "\n",
    "        # if the last bin is full:\n",
    "        if hdata[-1][1] == bin_capacity:\n",
    "            # calculate its right bound:\n",
    "            if i == len(vs) - 1:\n",
    "                right_bound = b\n",
    "            else:\n",
    "                right_bound = (vs[i] + vs[i+1]) / 2\n",
    "\n",
    "            # add a new empty bin:\n",
    "            hdata.append([right_bound, 0])\n",
    "            last_bin_empty = True\n",
    "\n",
    "    if last_bin_empty:\n",
    "        del hdata[-1]\n",
    "\n",
    "    if normalize:\n",
    "        square = 0\n",
    "        for i in range(len(hdata) - 1):\n",
    "            # calculating local density and updating square:\n",
    "            hdata[i][1] = hdata[i][1] / (hdata[i+1][0] - hdata[i][0])\n",
    "            square += hdata[i][1] * (hdata[i+1][0] - hdata[i][0])\n",
    "        \n",
    "        hdata[-1][1] = hdata[-1][1] / (b - hdata[-1][0])\n",
    "        square += hdata[-1][1] * (b - hdata[-1][0])\n",
    "\n",
    "        for hd in hdata:\n",
    "            hd[1] /= square\n",
    "    else:\n",
    "        for hd in hdata:\n",
    "            hd[1] /= len(vs)\n",
    "\n",
    "    hdata.append([b, hdata[-1][1]])\n",
    "            \n",
    "    return hdata"
   ]
  },
  {
   "cell_type": "code",
   "execution_count": 8,
   "metadata": {},
   "outputs": [],
   "source": [
    "# plotting histogram beta (copied from second_and_third.ipynb)\n",
    "def plot_histogram_beta_and_polygon_and_fy(a, b, n, group_num, normalize=True):\n",
    "    vs = generate_varseries(n)\n",
    "    hdata = histogram_data_beta(a, b, vs, group_num, normalize)\n",
    "    ps = [(hdata[i][0] + hdata[i+1][0]) / 2 for i in range(len(hdata) - 1)]\n",
    "\n",
    "    # plotting histogram:\n",
    "    plt.step([hd[0] for hd in hdata],\n",
    "             [hd[1] for hd in hdata],\n",
    "             where='post')\n",
    "    \n",
    "    # plotting polygon:\n",
    "    plt.scatter(ps,\n",
    "                [hd[1] for hd in hdata[:-1]])\n",
    "    plt.plot(ps,\n",
    "             [hd[1] for hd in hdata[:-1]],\n",
    "             label='полигон распределения')\n",
    "\n",
    "    # plotting analytic:\n",
    "    xs = np.linspace(a, b, 1000)\n",
    "    plt.plot(xs,\n",
    "             [fy_deduced(x) for x in xs],\n",
    "             label='аналитическая функция плотности')\n",
    "\n",
    "    plt.legend()\n",
    "    plt.show()"
   ]
  },
  {
   "source": [
    "***"
   ],
   "cell_type": "markdown",
   "metadata": {}
  },
  {
   "source": [
    "### Критерий согласия Пирсона"
   ],
   "cell_type": "markdown",
   "metadata": {}
  },
  {
   "cell_type": "code",
   "execution_count": 9,
   "metadata": {},
   "outputs": [],
   "source": [
    "def xi_squared_criteria(a, b, n, group_num, f_hypothesis):\n",
    "    vs = generate_varseries(n)\n",
    "    hdata = histogram_data_beta(a, b, vs, group_num, normalize=False)\n",
    "\n",
    "    hypothesis_ys = [Fy_deduced(hdata[i+1][0]) - Fy_deduced(hdata[i][0])\n",
    "                     for i in range(group_num)]\n",
    "    histogram_ys = [hd[1] for hd in hdata[:-1]]\n",
    "\n",
    "    # checking the condition:\n",
    "    # assert abs(1 - sum(hypothesis_ys)) <= 0.01\n",
    "\n",
    "    summands = []\n",
    "    for i in range(group_num):\n",
    "        summand = ((histogram_ys[i] - hypothesis_ys[i])**2\n",
    "                   / (hypothesis_ys[i]))\n",
    "        summands.append(summand)\n",
    "\n",
    "    xi_squared = n*sum(summands)\n",
    "    return xi_squared"
   ]
  },
  {
   "cell_type": "code",
   "execution_count": 10,
   "metadata": {},
   "outputs": [
    {
     "output_type": "stream",
     "name": "stdout",
     "text": [
      "0.05703024893966979\n12.462342483864251\n0.02612977184648224\n17.037422621450084\n0.037669259411235556\n16.905030029471916\n0.037457349383090865\n9.582068891932932\n0.053126465461681316\n13.843765562467105\n0.038672725749551384\n20.28927589575924\n0.030873293437593263\n11.375500769892513\n0.03562061220597368\n29.21524163690558\n0.04067354329222339\n14.003212869969078\n0.048539558321992415\n12.067028982283801\n0.05104566362084184\n7.268878987971209\n0.04665237934169775\n16.50363653509717\n0.040245561438695954\n9.66404738793056\n0.04655760853331059\n17.809598551274835\n0.05275271461240583\n9.27321974231645\n0.020487467540579618\n14.037200636003805\n0.04705588283598605\n15.50558758230488\n0.027880403480073146\n7.671374308572039\n0.062105375034691046\n16.568371936235238\n0.040212588914818825\n11.732062238176031\n"
     ]
    }
   ],
   "source": [
    "# test xi_squared 20 times\n",
    "\n",
    "for i in range(20):\n",
    "    xi = xi_squared_criteria(0, 1, 200, 16, fy_deduced)\n",
    "    print(xi)"
   ]
  },
  {
   "source": [
    "***"
   ],
   "cell_type": "markdown",
   "metadata": {}
  },
  {
   "source": [
    "### Критерий согласия Колмогорова"
   ],
   "cell_type": "markdown",
   "metadata": {}
  },
  {
   "source": [],
   "cell_type": "code",
   "metadata": {},
   "execution_count": null,
   "outputs": []
  },
  {
   "source": [
    "***"
   ],
   "cell_type": "markdown",
   "metadata": {}
  },
  {
   "source": [
    "### Критерий согласия Мизеса"
   ],
   "cell_type": "markdown",
   "metadata": {}
  },
  {
   "cell_type": "code",
   "execution_count": null,
   "metadata": {},
   "outputs": [],
   "source": []
  }
 ]
}