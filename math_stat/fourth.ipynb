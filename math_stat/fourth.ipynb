{
 "metadata": {
  "language_info": {
   "codemirror_mode": {
    "name": "ipython",
    "version": 3
   },
   "file_extension": ".py",
   "mimetype": "text/x-python",
   "name": "python",
   "nbconvert_exporter": "python",
   "pygments_lexer": "ipython3",
   "version": "3.8.8"
  },
  "orig_nbformat": 2,
  "kernelspec": {
   "name": "python388jvsc74a57bd0ce2db10f4ff34e0b876ddfba269948e5918580ad074a00f37d2b1d6068e9f6c7",
   "display_name": "Python 3.8.8 64-bit ('base': conda)"
  },
  "metadata": {
   "interpreter": {
    "hash": "ce2db10f4ff34e0b876ddfba269948e5918580ad074a00f37d2b1d6068e9f6c7"
   }
  }
 },
 "nbformat": 4,
 "nbformat_minor": 2,
 "cells": [
  {
   "source": [
    "# ТВиМС Задание 4\n",
    "\n",
    "## Вариант 14\n",
    "\n",
    "Проверка статистических гипотез.\n",
    "Критерии согласия Пирсона, Колмогорова, Мизеса."
   ],
   "cell_type": "markdown",
   "metadata": {}
  },
  {
   "cell_type": "code",
   "execution_count": 1,
   "metadata": {},
   "outputs": [],
   "source": [
    "import math\n",
    "import random\n",
    "import numpy as np\n",
    "import matplotlib.pyplot as plt\n",
    "\n",
    "from ipywidgets import interact"
   ]
  },
  {
   "cell_type": "code",
   "execution_count": 2,
   "metadata": {},
   "outputs": [],
   "source": [
    "plt.rcParams['figure.figsize'] = [12, 8]"
   ]
  },
  {
   "cell_type": "code",
   "execution_count": 3,
   "metadata": {},
   "outputs": [],
   "source": [
    "a = 0\n",
    "b = math.pi / 4"
   ]
  },
  {
   "cell_type": "code",
   "execution_count": 4,
   "metadata": {},
   "outputs": [],
   "source": [
    "def get_x():\n",
    "    return  + random.random()*(b-a)\n",
    "\n",
    "def y_func(x):\n",
    "    return math.tan(x)\n",
    "\n",
    "def get_y():\n",
    "    return y_func(get_x())"
   ]
  },
  {
   "cell_type": "code",
   "execution_count": 5,
   "metadata": {},
   "outputs": [],
   "source": [
    "def generate_varseries(n):\n",
    "    ys = []\n",
    "\n",
    "    for i in range(n):\n",
    "        ys.append(get_y())\n",
    "\n",
    "    ys.sort()\n",
    "    return ys"
   ]
  },
  {
   "cell_type": "code",
   "execution_count": 6,
   "metadata": {},
   "outputs": [],
   "source": [
    "def Fy_deduced(y):\n",
    "    if y < 0:\n",
    "        return 0\n",
    "    elif y > 1:\n",
    "        return 1\n",
    "    else:\n",
    "        return 4 / math.pi * math.atan(y)\n",
    "\n",
    "def fy_deduced(y):\n",
    "    if y < 0 or y > 1:\n",
    "        return 0\n",
    "    else:\n",
    "        return 4 / (math.pi * (1 + y**2))"
   ]
  },
  {
   "source": [
    "***"
   ],
   "cell_type": "markdown",
   "metadata": {}
  },
  {
   "cell_type": "code",
   "execution_count": 7,
   "metadata": {},
   "outputs": [],
   "source": [
    "# (copied from second_and_third.ipynb with slight modifications)\n",
    "def histogram_data_beta(a, b, vs, group_num, normalize=True):\n",
    "    \"\"\"Return data needed for type 2 histogram\n",
    "    as a list of tuples each being:\n",
    "    (a bin's left bound, a bin's occurrences count)\n",
    "    \n",
    "    Each bin's interval has its left bound included\n",
    "    and right excluded, e.g. [0, 1), [1, 2), [3, 4), ...\n",
    "\n",
    "    Примечание: работает только для НСВ с почти-лишь-только-один-раз-встречающимися\n",
    "    элементами вариационного ряда (здесь вар-ряд = выборка из-за *высокой степени\n",
    "    уникальности* элементов выборки, т.е. элементы списка 'vs' могут повторяться,\n",
    "    но это очень маловероятно, если число b-a неотрицательного порядка/\n",
    "    однозначного отрицательного порядка - порядок условно от -9 до 10+)\n",
    "    \"\"\"\n",
    "    bin_capacity = len(vs) // group_num + (1 if len(vs) % group_num != 0 else 0)\n",
    "\n",
    "    hdata = [[a, 0]]\n",
    "    for i in range(len(vs)):\n",
    "        hdata[-1][1] += 1\n",
    "        last_bin_empty = False\n",
    "\n",
    "        # if the last bin is full:\n",
    "        if hdata[-1][1] == bin_capacity:\n",
    "            # calculate its right bound:\n",
    "            if i == len(vs) - 1:\n",
    "                right_bound = b\n",
    "            else:\n",
    "                right_bound = (vs[i] + vs[i+1]) / 2\n",
    "\n",
    "            # add a new empty bin:\n",
    "            hdata.append([right_bound, 0])\n",
    "            last_bin_empty = True\n",
    "\n",
    "    if last_bin_empty:\n",
    "        del hdata[-1]\n",
    "\n",
    "    if normalize:\n",
    "        square = 0\n",
    "        for i in range(len(hdata) - 1):\n",
    "            # calculating local density and updating square:\n",
    "            hdata[i][1] = hdata[i][1] / (hdata[i+1][0] - hdata[i][0])\n",
    "            square += hdata[i][1] * (hdata[i+1][0] - hdata[i][0])\n",
    "        \n",
    "        hdata[-1][1] = hdata[-1][1] / (b - hdata[-1][0])\n",
    "        square += hdata[-1][1] * (b - hdata[-1][0])\n",
    "\n",
    "        for hd in hdata:\n",
    "            hd[1] /= square\n",
    "    else:\n",
    "        for hd in hdata:\n",
    "            hd[1] /= len(vs)\n",
    "\n",
    "    hdata.append([b, hdata[-1][1]])\n",
    "            \n",
    "    return hdata"
   ]
  },
  {
   "source": [
    "***"
   ],
   "cell_type": "markdown",
   "metadata": {}
  },
  {
   "source": [
    "### Критерий согласия Пирсона"
   ],
   "cell_type": "markdown",
   "metadata": {}
  },
  {
   "cell_type": "code",
   "execution_count": 8,
   "metadata": {},
   "outputs": [],
   "source": [
    "def xi_squared_criteria(a, b, n, group_num, f_hypothesis):\n",
    "    vs = generate_varseries(n)\n",
    "    hdata = histogram_data_beta(a, b, vs, group_num, normalize=False)\n",
    "\n",
    "    hypothesis_ys = [Fy_deduced(hdata[i+1][0]) - Fy_deduced(hdata[i][0])\n",
    "                     for i in range(group_num)]\n",
    "    histogram_ys = [hd[1] for hd in hdata[:-1]]\n",
    "\n",
    "    # checking this weird condition from bsuir docs:\n",
    "    assert abs(1 - sum(hypothesis_ys)) <= 0.01\n",
    "\n",
    "    summands = []\n",
    "    for i in range(group_num):\n",
    "        summand = ((histogram_ys[i] - hypothesis_ys[i])**2\n",
    "                   / (hypothesis_ys[i]))\n",
    "        summands.append(summand)\n",
    "\n",
    "    xi_squared = n*sum(summands)\n",
    "    return xi_squared"
   ]
  },
  {
   "cell_type": "code",
   "execution_count": 9,
   "metadata": {},
   "outputs": [
    {
     "output_type": "stream",
     "name": "stdout",
     "text": [
      "12.147471245187196\n24.758291872104323\n19.435945602215217\n26.935429505819684\n17.844365445209913\n16.657564162466766\n12.186848754604936\n9.027263449920724\n7.670505098490077\n5.776419199708265\n14.822185163736021\n7.784501279324518\n12.938471064536655\n16.03222293600119\n18.771913881655227\n9.402115553670843\n16.53203655866503\n16.437405528541486\n9.044587600475758\n13.598295751041112\n"
     ]
    }
   ],
   "source": [
    "# test xi_squared 20 times\n",
    "\n",
    "for i in range(20):\n",
    "    xi = xi_squared_criteria(0, 1, 200, 16, fy_deduced)\n",
    "    print(xi)"
   ]
  },
  {
   "cell_type": "code",
   "execution_count": 10,
   "metadata": {},
   "outputs": [],
   "source": [
    "# xi-table data for k = 16:\n",
    "\n",
    "xi_090 = 23.542\n",
    "xi_095 = 26.296\n",
    "xi_099 = 32.000"
   ]
  },
  {
   "cell_type": "code",
   "execution_count": 11,
   "metadata": {},
   "outputs": [
    {
     "output_type": "stream",
     "name": "stdout",
     "text": [
      "Observed xi squared is less than xi squared 0.90 in 89.9812% of cases.\n",
      "Observed xi squared is less than xi squared 0.95 in 94.43575% of cases.\n",
      "Observed xi squared is less than xi squared 0.99 in 98.4538% of cases.\n"
     ]
    }
   ],
   "source": [
    "# how often empirical xi squared is less than xi squared 0.90?\n",
    "\n",
    "sample_num = 2_000_000\n",
    "answer = 0\n",
    "for _ in range(sample_num):\n",
    "    xi = xi_squared_criteria(0, 1, 200, 16, fy_deduced)\n",
    "    if xi < xi_090:\n",
    "        answer += 1\n",
    "\n",
    "answer /= sample_num\n",
    "print(f'Observed xi squared is less than xi squared 0.90 in {answer*100}% of cases.')\n",
    "\n",
    "# how often empirical xi squared is less than xi squared 0.95?\n",
    "answer = 0\n",
    "for _ in range(sample_num):\n",
    "    xi = xi_squared_criteria(0, 1, 200, 16, fy_deduced)\n",
    "    if xi < xi_095:\n",
    "        answer += 1\n",
    "\n",
    "answer /= sample_num\n",
    "print(f'Observed xi squared is less than xi squared 0.95 in {answer*100}% of cases.')\n",
    "\n",
    "# how often empirical xi squared is less than xi squared 0.99?\n",
    "answer = 0\n",
    "for _ in range(sample_num):\n",
    "    xi = xi_squared_criteria(0, 1, 200, 16, fy_deduced)\n",
    "    if xi < xi_099:\n",
    "        answer += 1\n",
    "\n",
    "answer /= sample_num\n",
    "print(f'Observed xi squared is less than xi squared 0.99 in {answer*100}% of cases.')"
   ]
  },
  {
   "cell_type": "code",
   "execution_count": 13,
   "metadata": {},
   "outputs": [
    {
     "output_type": "display_data",
     "data": {
      "text/plain": "<Figure size 864x576 with 1 Axes>",
      "image/svg+xml": "<?xml version=\"1.0\" encoding=\"utf-8\" standalone=\"no\"?>\n<!DOCTYPE svg PUBLIC \"-//W3C//DTD SVG 1.1//EN\"\n  \"http://www.w3.org/Graphics/SVG/1.1/DTD/svg11.dtd\">\n<!-- Created with matplotlib (https://matplotlib.org/) -->\n<svg height=\"465.958125pt\" version=\"1.1\" viewBox=\"0 0 706.903125 465.958125\" width=\"706.903125pt\" xmlns=\"http://www.w3.org/2000/svg\" xmlns:xlink=\"http://www.w3.org/1999/xlink\">\n <metadata>\n  <rdf:RDF xmlns:cc=\"http://creativecommons.org/ns#\" xmlns:dc=\"http://purl.org/dc/elements/1.1/\" xmlns:rdf=\"http://www.w3.org/1999/02/22-rdf-syntax-ns#\">\n   <cc:Work>\n    <dc:type rdf:resource=\"http://purl.org/dc/dcmitype/StillImage\"/>\n    <dc:date>2021-05-31T01:49:44.047520</dc:date>\n    <dc:format>image/svg+xml</dc:format>\n    <dc:creator>\n     <cc:Agent>\n      <dc:title>Matplotlib v3.3.4, https://matplotlib.org/</dc:title>\n     </cc:Agent>\n    </dc:creator>\n   </cc:Work>\n  </rdf:RDF>\n </metadata>\n <defs>\n  <style type=\"text/css\">*{stroke-linecap:butt;stroke-linejoin:round;}</style>\n </defs>\n <g id=\"figure_1\">\n  <g id=\"patch_1\">\n   <path d=\"M 0 465.958125 \nL 706.903125 465.958125 \nL 706.903125 0 \nL 0 0 \nz\n\" style=\"fill:none;\"/>\n  </g>\n  <g id=\"axes_1\">\n   <g id=\"patch_2\">\n    <path d=\"M 30.103125 442.08 \nL 699.703125 442.08 \nL 699.703125 7.2 \nL 30.103125 7.2 \nz\n\" style=\"fill:#ffffff;\"/>\n   </g>\n   <g id=\"patch_3\">\n    <path clip-path=\"url(#p64d3c92af4)\" d=\"M 60.539489 442.08 \nL 75.75767 442.08 \nL 75.75767 441.801729 \nL 60.539489 441.801729 \nz\n\" style=\"fill:#1f77b4;\"/>\n   </g>\n   <g id=\"patch_4\">\n    <path clip-path=\"url(#p64d3c92af4)\" d=\"M 75.75767 442.08 \nL 90.975852 442.08 \nL 90.975852 438.960771 \nL 75.75767 438.960771 \nz\n\" style=\"fill:#1f77b4;\"/>\n   </g>\n   <g id=\"patch_5\">\n    <path clip-path=\"url(#p64d3c92af4)\" d=\"M 90.975852 442.08 \nL 106.194034 442.08 \nL 106.194034 428.7165 \nL 90.975852 428.7165 \nz\n\" style=\"fill:#1f77b4;\"/>\n   </g>\n   <g id=\"patch_6\">\n    <path clip-path=\"url(#p64d3c92af4)\" d=\"M 106.194034 442.08 \nL 121.412216 442.08 \nL 121.412216 406.978971 \nL 106.194034 406.978971 \nz\n\" style=\"fill:#1f77b4;\"/>\n   </g>\n   <g id=\"patch_7\">\n    <path clip-path=\"url(#p64d3c92af4)\" d=\"M 121.412216 442.08 \nL 136.630398 442.08 \nL 136.630398 372.156214 \nL 121.412216 372.156214 \nz\n\" style=\"fill:#1f77b4;\"/>\n   </g>\n   <g id=\"patch_8\">\n    <path clip-path=\"url(#p64d3c92af4)\" d=\"M 136.630398 442.08 \nL 151.84858 442.08 \nL 151.84858 326.888571 \nL 136.630398 326.888571 \nz\n\" style=\"fill:#1f77b4;\"/>\n   </g>\n   <g id=\"patch_9\">\n    <path clip-path=\"url(#p64d3c92af4)\" d=\"M 151.84858 442.08 \nL 167.066761 442.08 \nL 167.066761 276.819129 \nL 151.84858 276.819129 \nz\n\" style=\"fill:#1f77b4;\"/>\n   </g>\n   <g id=\"patch_10\">\n    <path clip-path=\"url(#p64d3c92af4)\" d=\"M 167.066761 442.08 \nL 182.284943 442.08 \nL 182.284943 227.183271 \nL 167.066761 227.183271 \nz\n\" style=\"fill:#1f77b4;\"/>\n   </g>\n   <g id=\"patch_11\">\n    <path clip-path=\"url(#p64d3c92af4)\" d=\"M 182.284943 442.08 \nL 197.503125 442.08 \nL 197.503125 182.200371 \nL 182.284943 182.200371 \nz\n\" style=\"fill:#1f77b4;\"/>\n   </g>\n   <g id=\"patch_12\">\n    <path clip-path=\"url(#p64d3c92af4)\" d=\"M 197.503125 442.08 \nL 212.721307 442.08 \nL 212.721307 144.336043 \nL 197.503125 144.336043 \nz\n\" style=\"fill:#1f77b4;\"/>\n   </g>\n   <g id=\"patch_13\">\n    <path clip-path=\"url(#p64d3c92af4)\" d=\"M 212.721307 442.08 \nL 227.939489 442.08 \nL 227.939489 113.622643 \nL 212.721307 113.622643 \nz\n\" style=\"fill:#1f77b4;\"/>\n   </g>\n   <g id=\"patch_14\">\n    <path clip-path=\"url(#p64d3c92af4)\" d=\"M 227.939489 442.08 \nL 243.15767 442.08 \nL 243.15767 90.513171 \nL 227.939489 90.513171 \nz\n\" style=\"fill:#1f77b4;\"/>\n   </g>\n   <g id=\"patch_15\">\n    <path clip-path=\"url(#p64d3c92af4)\" d=\"M 243.15767 442.08 \nL 258.375852 442.08 \nL 258.375852 72.7038 \nL 243.15767 72.7038 \nz\n\" style=\"fill:#1f77b4;\"/>\n   </g>\n   <g id=\"patch_16\">\n    <path clip-path=\"url(#p64d3c92af4)\" d=\"M 258.375852 442.08 \nL 273.594034 442.08 \nL 273.594034 59.948614 \nL 258.375852 59.948614 \nz\n\" style=\"fill:#1f77b4;\"/>\n   </g>\n   <g id=\"patch_17\">\n    <path clip-path=\"url(#p64d3c92af4)\" d=\"M 273.594034 442.08 \nL 288.812216 442.08 \nL 288.812216 50.299714 \nL 273.594034 50.299714 \nz\n\" style=\"fill:#1f77b4;\"/>\n   </g>\n   <g id=\"patch_18\">\n    <path clip-path=\"url(#p64d3c92af4)\" d=\"M 288.812216 442.08 \nL 304.030398 442.08 \nL 304.030398 43.200557 \nL 288.812216 43.200557 \nz\n\" style=\"fill:#1f77b4;\"/>\n   </g>\n   <g id=\"patch_19\">\n    <path clip-path=\"url(#p64d3c92af4)\" d=\"M 304.030398 442.08 \nL 319.24858 442.08 \nL 319.24858 38.204614 \nL 304.030398 38.204614 \nz\n\" style=\"fill:#1f77b4;\"/>\n   </g>\n   <g id=\"patch_20\">\n    <path clip-path=\"url(#p64d3c92af4)\" d=\"M 319.24858 442.08 \nL 334.466761 442.08 \nL 334.466761 35.072443 \nL 319.24858 35.072443 \nz\n\" style=\"fill:#1f77b4;\"/>\n   </g>\n   <g id=\"patch_21\">\n    <path clip-path=\"url(#p64d3c92af4)\" d=\"M 334.466761 442.08 \nL 349.684943 442.08 \nL 349.684943 32.800971 \nL 334.466761 32.800971 \nz\n\" style=\"fill:#1f77b4;\"/>\n   </g>\n   <g id=\"patch_22\">\n    <path clip-path=\"url(#p64d3c92af4)\" d=\"M 349.684943 442.08 \nL 364.903125 442.08 \nL 364.903125 31.111929 \nL 349.684943 31.111929 \nz\n\" style=\"fill:#1f77b4;\"/>\n   </g>\n   <g id=\"patch_23\">\n    <path clip-path=\"url(#p64d3c92af4)\" d=\"M 364.903125 442.08 \nL 380.121307 442.08 \nL 380.121307 30.057086 \nL 364.903125 30.057086 \nz\n\" style=\"fill:#1f77b4;\"/>\n   </g>\n   <g id=\"patch_24\">\n    <path clip-path=\"url(#p64d3c92af4)\" d=\"M 380.121307 442.08 \nL 395.339489 442.08 \nL 395.339489 29.403471 \nL 380.121307 29.403471 \nz\n\" style=\"fill:#1f77b4;\"/>\n   </g>\n   <g id=\"patch_25\">\n    <path clip-path=\"url(#p64d3c92af4)\" d=\"M 395.339489 442.08 \nL 410.55767 442.08 \nL 410.55767 28.859871 \nL 395.339489 28.859871 \nz\n\" style=\"fill:#1f77b4;\"/>\n   </g>\n   <g id=\"patch_26\">\n    <path clip-path=\"url(#p64d3c92af4)\" d=\"M 410.55767 442.08 \nL 425.775852 442.08 \nL 425.775852 28.529829 \nL 410.55767 28.529829 \nz\n\" style=\"fill:#1f77b4;\"/>\n   </g>\n   <g id=\"patch_27\">\n    <path clip-path=\"url(#p64d3c92af4)\" d=\"M 425.775852 442.08 \nL 440.994034 442.08 \nL 440.994034 28.290386 \nL 425.775852 28.290386 \nz\n\" style=\"fill:#1f77b4;\"/>\n   </g>\n   <g id=\"patch_28\">\n    <path clip-path=\"url(#p64d3c92af4)\" d=\"M 440.994034 442.08 \nL 456.212216 442.08 \nL 456.212216 28.167429 \nL 440.994034 28.167429 \nz\n\" style=\"fill:#1f77b4;\"/>\n   </g>\n   <g id=\"patch_29\">\n    <path clip-path=\"url(#p64d3c92af4)\" d=\"M 456.212216 442.08 \nL 471.430398 442.08 \nL 471.430398 28.076829 \nL 456.212216 28.076829 \nz\n\" style=\"fill:#1f77b4;\"/>\n   </g>\n   <g id=\"patch_30\">\n    <path clip-path=\"url(#p64d3c92af4)\" d=\"M 471.430398 442.08 \nL 486.64858 442.08 \nL 486.64858 28.005643 \nL 471.430398 28.005643 \nz\n\" style=\"fill:#1f77b4;\"/>\n   </g>\n   <g id=\"patch_31\">\n    <path clip-path=\"url(#p64d3c92af4)\" d=\"M 486.64858 442.08 \nL 501.866761 442.08 \nL 501.866761 27.986229 \nL 486.64858 27.986229 \nz\n\" style=\"fill:#1f77b4;\"/>\n   </g>\n   <g id=\"patch_32\">\n    <path clip-path=\"url(#p64d3c92af4)\" d=\"M 501.866761 442.08 \nL 517.084943 442.08 \nL 517.084943 27.973286 \nL 501.866761 27.973286 \nz\n\" style=\"fill:#1f77b4;\"/>\n   </g>\n   <g id=\"patch_33\">\n    <path clip-path=\"url(#p64d3c92af4)\" d=\"M 517.084943 442.08 \nL 532.303125 442.08 \nL 532.303125 27.953871 \nL 517.084943 27.953871 \nz\n\" style=\"fill:#1f77b4;\"/>\n   </g>\n   <g id=\"patch_34\">\n    <path clip-path=\"url(#p64d3c92af4)\" d=\"M 532.303125 442.08 \nL 547.521307 442.08 \nL 547.521307 27.9474 \nL 532.303125 27.9474 \nz\n\" style=\"fill:#1f77b4;\"/>\n   </g>\n   <g id=\"patch_35\">\n    <path clip-path=\"url(#p64d3c92af4)\" d=\"M 547.521307 442.08 \nL 562.739489 442.08 \nL 562.739489 27.934457 \nL 547.521307 27.934457 \nz\n\" style=\"fill:#1f77b4;\"/>\n   </g>\n   <g id=\"patch_36\">\n    <path clip-path=\"url(#p64d3c92af4)\" d=\"M 562.739489 442.08 \nL 577.95767 442.08 \nL 577.95767 27.915043 \nL 562.739489 27.915043 \nz\n\" style=\"fill:#1f77b4;\"/>\n   </g>\n   <g id=\"patch_37\">\n    <path clip-path=\"url(#p64d3c92af4)\" d=\"M 577.95767 442.08 \nL 593.175852 442.08 \nL 593.175852 27.915043 \nL 577.95767 27.915043 \nz\n\" style=\"fill:#1f77b4;\"/>\n   </g>\n   <g id=\"patch_38\">\n    <path clip-path=\"url(#p64d3c92af4)\" d=\"M 593.175852 442.08 \nL 608.394034 442.08 \nL 608.394034 27.915043 \nL 593.175852 27.915043 \nz\n\" style=\"fill:#1f77b4;\"/>\n   </g>\n   <g id=\"patch_39\">\n    <path clip-path=\"url(#p64d3c92af4)\" d=\"M 608.394034 442.08 \nL 623.612216 442.08 \nL 623.612216 27.915043 \nL 608.394034 27.915043 \nz\n\" style=\"fill:#1f77b4;\"/>\n   </g>\n   <g id=\"patch_40\">\n    <path clip-path=\"url(#p64d3c92af4)\" d=\"M 623.612216 442.08 \nL 638.830398 442.08 \nL 638.830398 27.915043 \nL 623.612216 27.915043 \nz\n\" style=\"fill:#1f77b4;\"/>\n   </g>\n   <g id=\"patch_41\">\n    <path clip-path=\"url(#p64d3c92af4)\" d=\"M 638.830398 442.08 \nL 654.04858 442.08 \nL 654.04858 27.915043 \nL 638.830398 27.915043 \nz\n\" style=\"fill:#1f77b4;\"/>\n   </g>\n   <g id=\"patch_42\">\n    <path clip-path=\"url(#p64d3c92af4)\" d=\"M 654.04858 442.08 \nL 669.266761 442.08 \nL 669.266761 27.908571 \nL 654.04858 27.908571 \nz\n\" style=\"fill:#1f77b4;\"/>\n   </g>\n   <g id=\"PathCollection_1\">\n    <defs>\n     <path d=\"M 0 -5.477226 \nL -1.229714 -1.692556 \nL -5.209151 -1.692556 \nL -1.989719 0.646499 \nL -3.219432 4.431169 \nL -0 2.092114 \nL 3.219432 4.431169 \nL 1.989719 0.646499 \nL 5.209151 -1.692556 \nL 1.229714 -1.692556 \nz\n\" id=\"mf53b96b82a\" style=\"stroke:#ff0000;\"/>\n    </defs>\n    <g clip-path=\"url(#p64d3c92af4)\">\n     <use style=\"fill:#ff0000;stroke:#ff0000;\" x=\"261.484393\" xlink:href=\"#mf53b96b82a\" y=\"69.325714\"/>\n     <use style=\"fill:#ff0000;stroke:#ff0000;\" x=\"286.538795\" xlink:href=\"#mf53b96b82a\" y=\"48.617143\"/>\n     <use style=\"fill:#ff0000;stroke:#ff0000;\" x=\"338.430701\" xlink:href=\"#mf53b96b82a\" y=\"32.050286\"/>\n    </g>\n   </g>\n   <g id=\"matplotlib.axis_1\">\n    <g id=\"xtick_1\">\n     <g id=\"line2d_1\">\n      <defs>\n       <path d=\"M 0 0 \nL 0 3.5 \n\" id=\"m567745e97a\" style=\"stroke:#000000;stroke-width:0.8;\"/>\n      </defs>\n      <g>\n       <use style=\"stroke:#000000;stroke-width:0.8;\" x=\"47.312013\" xlink:href=\"#m567745e97a\" y=\"442.08\"/>\n      </g>\n     </g>\n     <g id=\"text_1\">\n      <!-- 0 -->\n      <g transform=\"translate(44.130763 456.678437)scale(0.1 -0.1)\">\n       <defs>\n        <path d=\"M 31.78125 66.40625 \nQ 24.171875 66.40625 20.328125 58.90625 \nQ 16.5 51.421875 16.5 36.375 \nQ 16.5 21.390625 20.328125 13.890625 \nQ 24.171875 6.390625 31.78125 6.390625 \nQ 39.453125 6.390625 43.28125 13.890625 \nQ 47.125 21.390625 47.125 36.375 \nQ 47.125 51.421875 43.28125 58.90625 \nQ 39.453125 66.40625 31.78125 66.40625 \nz\nM 31.78125 74.21875 \nQ 44.046875 74.21875 50.515625 64.515625 \nQ 56.984375 54.828125 56.984375 36.375 \nQ 56.984375 17.96875 50.515625 8.265625 \nQ 44.046875 -1.421875 31.78125 -1.421875 \nQ 19.53125 -1.421875 13.0625 8.265625 \nQ 6.59375 17.96875 6.59375 36.375 \nQ 6.59375 54.828125 13.0625 64.515625 \nQ 19.53125 74.21875 31.78125 74.21875 \nz\n\" id=\"DejaVuSans-48\"/>\n       </defs>\n       <use xlink:href=\"#DejaVuSans-48\"/>\n      </g>\n     </g>\n    </g>\n    <g id=\"xtick_2\">\n     <g id=\"line2d_2\">\n      <g>\n       <use style=\"stroke:#000000;stroke-width:0.8;\" x=\"138.286603\" xlink:href=\"#m567745e97a\" y=\"442.08\"/>\n      </g>\n     </g>\n     <g id=\"text_2\">\n      <!-- 10 -->\n      <g transform=\"translate(131.924103 456.678437)scale(0.1 -0.1)\">\n       <defs>\n        <path d=\"M 12.40625 8.296875 \nL 28.515625 8.296875 \nL 28.515625 63.921875 \nL 10.984375 60.40625 \nL 10.984375 69.390625 \nL 28.421875 72.90625 \nL 38.28125 72.90625 \nL 38.28125 8.296875 \nL 54.390625 8.296875 \nL 54.390625 0 \nL 12.40625 0 \nz\n\" id=\"DejaVuSans-49\"/>\n       </defs>\n       <use xlink:href=\"#DejaVuSans-49\"/>\n       <use x=\"63.623047\" xlink:href=\"#DejaVuSans-48\"/>\n      </g>\n     </g>\n    </g>\n    <g id=\"xtick_3\">\n     <g id=\"line2d_3\">\n      <g>\n       <use style=\"stroke:#000000;stroke-width:0.8;\" x=\"229.261193\" xlink:href=\"#m567745e97a\" y=\"442.08\"/>\n      </g>\n     </g>\n     <g id=\"text_3\">\n      <!-- 20 -->\n      <g transform=\"translate(222.898693 456.678437)scale(0.1 -0.1)\">\n       <defs>\n        <path d=\"M 19.1875 8.296875 \nL 53.609375 8.296875 \nL 53.609375 0 \nL 7.328125 0 \nL 7.328125 8.296875 \nQ 12.9375 14.109375 22.625 23.890625 \nQ 32.328125 33.6875 34.8125 36.53125 \nQ 39.546875 41.84375 41.421875 45.53125 \nQ 43.3125 49.21875 43.3125 52.78125 \nQ 43.3125 58.59375 39.234375 62.25 \nQ 35.15625 65.921875 28.609375 65.921875 \nQ 23.96875 65.921875 18.8125 64.3125 \nQ 13.671875 62.703125 7.8125 59.421875 \nL 7.8125 69.390625 \nQ 13.765625 71.78125 18.9375 73 \nQ 24.125 74.21875 28.421875 74.21875 \nQ 39.75 74.21875 46.484375 68.546875 \nQ 53.21875 62.890625 53.21875 53.421875 \nQ 53.21875 48.921875 51.53125 44.890625 \nQ 49.859375 40.875 45.40625 35.40625 \nQ 44.1875 33.984375 37.640625 27.21875 \nQ 31.109375 20.453125 19.1875 8.296875 \nz\n\" id=\"DejaVuSans-50\"/>\n       </defs>\n       <use xlink:href=\"#DejaVuSans-50\"/>\n       <use x=\"63.623047\" xlink:href=\"#DejaVuSans-48\"/>\n      </g>\n     </g>\n    </g>\n    <g id=\"xtick_4\">\n     <g id=\"line2d_4\">\n      <g>\n       <use style=\"stroke:#000000;stroke-width:0.8;\" x=\"320.235783\" xlink:href=\"#m567745e97a\" y=\"442.08\"/>\n      </g>\n     </g>\n     <g id=\"text_4\">\n      <!-- 30 -->\n      <g transform=\"translate(313.873283 456.678437)scale(0.1 -0.1)\">\n       <defs>\n        <path d=\"M 40.578125 39.3125 \nQ 47.65625 37.796875 51.625 33 \nQ 55.609375 28.21875 55.609375 21.1875 \nQ 55.609375 10.40625 48.1875 4.484375 \nQ 40.765625 -1.421875 27.09375 -1.421875 \nQ 22.515625 -1.421875 17.65625 -0.515625 \nQ 12.796875 0.390625 7.625 2.203125 \nL 7.625 11.71875 \nQ 11.71875 9.328125 16.59375 8.109375 \nQ 21.484375 6.890625 26.8125 6.890625 \nQ 36.078125 6.890625 40.9375 10.546875 \nQ 45.796875 14.203125 45.796875 21.1875 \nQ 45.796875 27.640625 41.28125 31.265625 \nQ 36.765625 34.90625 28.71875 34.90625 \nL 20.21875 34.90625 \nL 20.21875 43.015625 \nL 29.109375 43.015625 \nQ 36.375 43.015625 40.234375 45.921875 \nQ 44.09375 48.828125 44.09375 54.296875 \nQ 44.09375 59.90625 40.109375 62.90625 \nQ 36.140625 65.921875 28.71875 65.921875 \nQ 24.65625 65.921875 20.015625 65.03125 \nQ 15.375 64.15625 9.8125 62.3125 \nL 9.8125 71.09375 \nQ 15.4375 72.65625 20.34375 73.4375 \nQ 25.25 74.21875 29.59375 74.21875 \nQ 40.828125 74.21875 47.359375 69.109375 \nQ 53.90625 64.015625 53.90625 55.328125 \nQ 53.90625 49.265625 50.4375 45.09375 \nQ 46.96875 40.921875 40.578125 39.3125 \nz\n\" id=\"DejaVuSans-51\"/>\n       </defs>\n       <use xlink:href=\"#DejaVuSans-51\"/>\n       <use x=\"63.623047\" xlink:href=\"#DejaVuSans-48\"/>\n      </g>\n     </g>\n    </g>\n    <g id=\"xtick_5\">\n     <g id=\"line2d_5\">\n      <g>\n       <use style=\"stroke:#000000;stroke-width:0.8;\" x=\"411.210373\" xlink:href=\"#m567745e97a\" y=\"442.08\"/>\n      </g>\n     </g>\n     <g id=\"text_5\">\n      <!-- 40 -->\n      <g transform=\"translate(404.847873 456.678437)scale(0.1 -0.1)\">\n       <defs>\n        <path d=\"M 37.796875 64.3125 \nL 12.890625 25.390625 \nL 37.796875 25.390625 \nz\nM 35.203125 72.90625 \nL 47.609375 72.90625 \nL 47.609375 25.390625 \nL 58.015625 25.390625 \nL 58.015625 17.1875 \nL 47.609375 17.1875 \nL 47.609375 0 \nL 37.796875 0 \nL 37.796875 17.1875 \nL 4.890625 17.1875 \nL 4.890625 26.703125 \nz\n\" id=\"DejaVuSans-52\"/>\n       </defs>\n       <use xlink:href=\"#DejaVuSans-52\"/>\n       <use x=\"63.623047\" xlink:href=\"#DejaVuSans-48\"/>\n      </g>\n     </g>\n    </g>\n    <g id=\"xtick_6\">\n     <g id=\"line2d_6\">\n      <g>\n       <use style=\"stroke:#000000;stroke-width:0.8;\" x=\"502.184964\" xlink:href=\"#m567745e97a\" y=\"442.08\"/>\n      </g>\n     </g>\n     <g id=\"text_6\">\n      <!-- 50 -->\n      <g transform=\"translate(495.822464 456.678437)scale(0.1 -0.1)\">\n       <defs>\n        <path d=\"M 10.796875 72.90625 \nL 49.515625 72.90625 \nL 49.515625 64.59375 \nL 19.828125 64.59375 \nL 19.828125 46.734375 \nQ 21.96875 47.46875 24.109375 47.828125 \nQ 26.265625 48.1875 28.421875 48.1875 \nQ 40.625 48.1875 47.75 41.5 \nQ 54.890625 34.8125 54.890625 23.390625 \nQ 54.890625 11.625 47.5625 5.09375 \nQ 40.234375 -1.421875 26.90625 -1.421875 \nQ 22.3125 -1.421875 17.546875 -0.640625 \nQ 12.796875 0.140625 7.71875 1.703125 \nL 7.71875 11.625 \nQ 12.109375 9.234375 16.796875 8.0625 \nQ 21.484375 6.890625 26.703125 6.890625 \nQ 35.15625 6.890625 40.078125 11.328125 \nQ 45.015625 15.765625 45.015625 23.390625 \nQ 45.015625 31 40.078125 35.4375 \nQ 35.15625 39.890625 26.703125 39.890625 \nQ 22.75 39.890625 18.8125 39.015625 \nQ 14.890625 38.140625 10.796875 36.28125 \nz\n\" id=\"DejaVuSans-53\"/>\n       </defs>\n       <use xlink:href=\"#DejaVuSans-53\"/>\n       <use x=\"63.623047\" xlink:href=\"#DejaVuSans-48\"/>\n      </g>\n     </g>\n    </g>\n    <g id=\"xtick_7\">\n     <g id=\"line2d_7\">\n      <g>\n       <use style=\"stroke:#000000;stroke-width:0.8;\" x=\"593.159554\" xlink:href=\"#m567745e97a\" y=\"442.08\"/>\n      </g>\n     </g>\n     <g id=\"text_7\">\n      <!-- 60 -->\n      <g transform=\"translate(586.797054 456.678437)scale(0.1 -0.1)\">\n       <defs>\n        <path d=\"M 33.015625 40.375 \nQ 26.375 40.375 22.484375 35.828125 \nQ 18.609375 31.296875 18.609375 23.390625 \nQ 18.609375 15.53125 22.484375 10.953125 \nQ 26.375 6.390625 33.015625 6.390625 \nQ 39.65625 6.390625 43.53125 10.953125 \nQ 47.40625 15.53125 47.40625 23.390625 \nQ 47.40625 31.296875 43.53125 35.828125 \nQ 39.65625 40.375 33.015625 40.375 \nz\nM 52.59375 71.296875 \nL 52.59375 62.3125 \nQ 48.875 64.0625 45.09375 64.984375 \nQ 41.3125 65.921875 37.59375 65.921875 \nQ 27.828125 65.921875 22.671875 59.328125 \nQ 17.53125 52.734375 16.796875 39.40625 \nQ 19.671875 43.65625 24.015625 45.921875 \nQ 28.375 48.1875 33.59375 48.1875 \nQ 44.578125 48.1875 50.953125 41.515625 \nQ 57.328125 34.859375 57.328125 23.390625 \nQ 57.328125 12.15625 50.6875 5.359375 \nQ 44.046875 -1.421875 33.015625 -1.421875 \nQ 20.359375 -1.421875 13.671875 8.265625 \nQ 6.984375 17.96875 6.984375 36.375 \nQ 6.984375 53.65625 15.1875 63.9375 \nQ 23.390625 74.21875 37.203125 74.21875 \nQ 40.921875 74.21875 44.703125 73.484375 \nQ 48.484375 72.75 52.59375 71.296875 \nz\n\" id=\"DejaVuSans-54\"/>\n       </defs>\n       <use xlink:href=\"#DejaVuSans-54\"/>\n       <use x=\"63.623047\" xlink:href=\"#DejaVuSans-48\"/>\n      </g>\n     </g>\n    </g>\n    <g id=\"xtick_8\">\n     <g id=\"line2d_8\">\n      <g>\n       <use style=\"stroke:#000000;stroke-width:0.8;\" x=\"684.134144\" xlink:href=\"#m567745e97a\" y=\"442.08\"/>\n      </g>\n     </g>\n     <g id=\"text_8\">\n      <!-- 70 -->\n      <g transform=\"translate(677.771644 456.678437)scale(0.1 -0.1)\">\n       <defs>\n        <path d=\"M 8.203125 72.90625 \nL 55.078125 72.90625 \nL 55.078125 68.703125 \nL 28.609375 0 \nL 18.3125 0 \nL 43.21875 64.59375 \nL 8.203125 64.59375 \nz\n\" id=\"DejaVuSans-55\"/>\n       </defs>\n       <use xlink:href=\"#DejaVuSans-55\"/>\n       <use x=\"63.623047\" xlink:href=\"#DejaVuSans-48\"/>\n      </g>\n     </g>\n    </g>\n   </g>\n   <g id=\"matplotlib.axis_2\">\n    <g id=\"ytick_1\">\n     <g id=\"line2d_9\">\n      <defs>\n       <path d=\"M 0 0 \nL -3.5 0 \n\" id=\"m30045a50d4\" style=\"stroke:#000000;stroke-width:0.8;\"/>\n      </defs>\n      <g>\n       <use style=\"stroke:#000000;stroke-width:0.8;\" x=\"30.103125\" xlink:href=\"#m30045a50d4\" y=\"442.08\"/>\n      </g>\n     </g>\n     <g id=\"text_9\">\n      <!-- 0.0 -->\n      <g transform=\"translate(7.2 445.879219)scale(0.1 -0.1)\">\n       <defs>\n        <path d=\"M 10.6875 12.40625 \nL 21 12.40625 \nL 21 0 \nL 10.6875 0 \nz\n\" id=\"DejaVuSans-46\"/>\n       </defs>\n       <use xlink:href=\"#DejaVuSans-48\"/>\n       <use x=\"63.623047\" xlink:href=\"#DejaVuSans-46\"/>\n       <use x=\"95.410156\" xlink:href=\"#DejaVuSans-48\"/>\n      </g>\n     </g>\n    </g>\n    <g id=\"ytick_2\">\n     <g id=\"line2d_10\">\n      <g>\n       <use style=\"stroke:#000000;stroke-width:0.8;\" x=\"30.103125\" xlink:href=\"#m30045a50d4\" y=\"359.245714\"/>\n      </g>\n     </g>\n     <g id=\"text_10\">\n      <!-- 0.2 -->\n      <g transform=\"translate(7.2 363.044933)scale(0.1 -0.1)\">\n       <use xlink:href=\"#DejaVuSans-48\"/>\n       <use x=\"63.623047\" xlink:href=\"#DejaVuSans-46\"/>\n       <use x=\"95.410156\" xlink:href=\"#DejaVuSans-50\"/>\n      </g>\n     </g>\n    </g>\n    <g id=\"ytick_3\">\n     <g id=\"line2d_11\">\n      <g>\n       <use style=\"stroke:#000000;stroke-width:0.8;\" x=\"30.103125\" xlink:href=\"#m30045a50d4\" y=\"276.411429\"/>\n      </g>\n     </g>\n     <g id=\"text_11\">\n      <!-- 0.4 -->\n      <g transform=\"translate(7.2 280.210647)scale(0.1 -0.1)\">\n       <use xlink:href=\"#DejaVuSans-48\"/>\n       <use x=\"63.623047\" xlink:href=\"#DejaVuSans-46\"/>\n       <use x=\"95.410156\" xlink:href=\"#DejaVuSans-52\"/>\n      </g>\n     </g>\n    </g>\n    <g id=\"ytick_4\">\n     <g id=\"line2d_12\">\n      <g>\n       <use style=\"stroke:#000000;stroke-width:0.8;\" x=\"30.103125\" xlink:href=\"#m30045a50d4\" y=\"193.577143\"/>\n      </g>\n     </g>\n     <g id=\"text_12\">\n      <!-- 0.6 -->\n      <g transform=\"translate(7.2 197.376362)scale(0.1 -0.1)\">\n       <use xlink:href=\"#DejaVuSans-48\"/>\n       <use x=\"63.623047\" xlink:href=\"#DejaVuSans-46\"/>\n       <use x=\"95.410156\" xlink:href=\"#DejaVuSans-54\"/>\n      </g>\n     </g>\n    </g>\n    <g id=\"ytick_5\">\n     <g id=\"line2d_13\">\n      <g>\n       <use style=\"stroke:#000000;stroke-width:0.8;\" x=\"30.103125\" xlink:href=\"#m30045a50d4\" y=\"110.742857\"/>\n      </g>\n     </g>\n     <g id=\"text_13\">\n      <!-- 0.8 -->\n      <g transform=\"translate(7.2 114.542076)scale(0.1 -0.1)\">\n       <defs>\n        <path d=\"M 31.78125 34.625 \nQ 24.75 34.625 20.71875 30.859375 \nQ 16.703125 27.09375 16.703125 20.515625 \nQ 16.703125 13.921875 20.71875 10.15625 \nQ 24.75 6.390625 31.78125 6.390625 \nQ 38.8125 6.390625 42.859375 10.171875 \nQ 46.921875 13.96875 46.921875 20.515625 \nQ 46.921875 27.09375 42.890625 30.859375 \nQ 38.875 34.625 31.78125 34.625 \nz\nM 21.921875 38.8125 \nQ 15.578125 40.375 12.03125 44.71875 \nQ 8.5 49.078125 8.5 55.328125 \nQ 8.5 64.0625 14.71875 69.140625 \nQ 20.953125 74.21875 31.78125 74.21875 \nQ 42.671875 74.21875 48.875 69.140625 \nQ 55.078125 64.0625 55.078125 55.328125 \nQ 55.078125 49.078125 51.53125 44.71875 \nQ 48 40.375 41.703125 38.8125 \nQ 48.828125 37.15625 52.796875 32.3125 \nQ 56.78125 27.484375 56.78125 20.515625 \nQ 56.78125 9.90625 50.3125 4.234375 \nQ 43.84375 -1.421875 31.78125 -1.421875 \nQ 19.734375 -1.421875 13.25 4.234375 \nQ 6.78125 9.90625 6.78125 20.515625 \nQ 6.78125 27.484375 10.78125 32.3125 \nQ 14.796875 37.15625 21.921875 38.8125 \nz\nM 18.3125 54.390625 \nQ 18.3125 48.734375 21.84375 45.5625 \nQ 25.390625 42.390625 31.78125 42.390625 \nQ 38.140625 42.390625 41.71875 45.5625 \nQ 45.3125 48.734375 45.3125 54.390625 \nQ 45.3125 60.0625 41.71875 63.234375 \nQ 38.140625 66.40625 31.78125 66.40625 \nQ 25.390625 66.40625 21.84375 63.234375 \nQ 18.3125 60.0625 18.3125 54.390625 \nz\n\" id=\"DejaVuSans-56\"/>\n       </defs>\n       <use xlink:href=\"#DejaVuSans-48\"/>\n       <use x=\"63.623047\" xlink:href=\"#DejaVuSans-46\"/>\n       <use x=\"95.410156\" xlink:href=\"#DejaVuSans-56\"/>\n      </g>\n     </g>\n    </g>\n    <g id=\"ytick_6\">\n     <g id=\"line2d_14\">\n      <g>\n       <use style=\"stroke:#000000;stroke-width:0.8;\" x=\"30.103125\" xlink:href=\"#m30045a50d4\" y=\"27.908571\"/>\n      </g>\n     </g>\n     <g id=\"text_14\">\n      <!-- 1.0 -->\n      <g transform=\"translate(7.2 31.70779)scale(0.1 -0.1)\">\n       <use xlink:href=\"#DejaVuSans-49\"/>\n       <use x=\"63.623047\" xlink:href=\"#DejaVuSans-46\"/>\n       <use x=\"95.410156\" xlink:href=\"#DejaVuSans-48\"/>\n      </g>\n     </g>\n    </g>\n   </g>\n   <g id=\"patch_43\">\n    <path d=\"M 30.103125 442.08 \nL 30.103125 7.2 \n\" style=\"fill:none;stroke:#000000;stroke-linecap:square;stroke-linejoin:miter;stroke-width:0.8;\"/>\n   </g>\n   <g id=\"patch_44\">\n    <path d=\"M 699.703125 442.08 \nL 699.703125 7.2 \n\" style=\"fill:none;stroke:#000000;stroke-linecap:square;stroke-linejoin:miter;stroke-width:0.8;\"/>\n   </g>\n   <g id=\"patch_45\">\n    <path d=\"M 30.103125 442.08 \nL 699.703125 442.08 \n\" style=\"fill:none;stroke:#000000;stroke-linecap:square;stroke-linejoin:miter;stroke-width:0.8;\"/>\n   </g>\n   <g id=\"patch_46\">\n    <path d=\"M 30.103125 7.2 \nL 699.703125 7.2 \n\" style=\"fill:none;stroke:#000000;stroke-linecap:square;stroke-linejoin:miter;stroke-width:0.8;\"/>\n   </g>\n  </g>\n </g>\n <defs>\n  <clipPath id=\"p64d3c92af4\">\n   <rect height=\"434.88\" width=\"669.6\" x=\"30.103125\" y=\"7.2\"/>\n  </clipPath>\n </defs>\n</svg>\n",
      "image/png": "[encoded data removed]"
     },
     "metadata": {
      "needs_background": "light"
     }
    }
   ],
   "source": [
    "sample_num = 64_000\n",
    "\n",
    "xis_vs = [xi_squared_criteria(0, 1, 200, 16, fy_deduced) for _ in range(sample_num)]\n",
    "plt.hist(xis_vs, bins=40, cumulative=True, density=True, zorder=-1)\n",
    "\n",
    "plt.scatter([xi_090, xi_095, xi_099], [0.90, 0.95, 0.99], color='red', marker='*', s=120)\n",
    "\n",
    "plt.show()"
   ]
  },
  {
   "source": [
    "***"
   ],
   "cell_type": "markdown",
   "metadata": {}
  },
  {
   "source": [
    "### Критерий согласия Колмогорова"
   ],
   "cell_type": "markdown",
   "metadata": {}
  },
  {
   "source": [],
   "cell_type": "code",
   "metadata": {},
   "execution_count": null,
   "outputs": []
  },
  {
   "source": [
    "***"
   ],
   "cell_type": "markdown",
   "metadata": {}
  },
  {
   "source": [
    "### Критерий согласия Мизеса"
   ],
   "cell_type": "markdown",
   "metadata": {}
  },
  {
   "cell_type": "code",
   "execution_count": null,
   "metadata": {},
   "outputs": [],
   "source": []
  }
 ]
}