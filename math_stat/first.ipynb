{
 "metadata": {
  "language_info": {
   "codemirror_mode": {
    "name": "ipython",
    "version": 3
   },
   "file_extension": ".py",
   "mimetype": "text/x-python",
   "name": "python",
   "nbconvert_exporter": "python",
   "pygments_lexer": "ipython3",
   "version": "3.8.8"
  },
  "orig_nbformat": 2,
  "kernelspec": {
   "name": "python388jvsc74a57bd0ce2db10f4ff34e0b876ddfba269948e5918580ad074a00f37d2b1d6068e9f6c7",
   "display_name": "Python 3.8.8 64-bit ('base': conda)"
  },
  "metadata": {
   "interpreter": {
    "hash": "ce2db10f4ff34e0b876ddfba269948e5918580ad074a00f37d2b1d6068e9f6c7"
   }
  }
 },
 "nbformat": 4,
 "nbformat_minor": 2,
 "cells": [
  {
   "source": [
    "# ТВиМС задание 1\n",
    "\n",
    "## Вариант 14"
   ],
   "cell_type": "markdown",
   "metadata": {}
  },
  {
   "source": [
    "***"
   ],
   "cell_type": "markdown",
   "metadata": {}
  },
  {
   "cell_type": "code",
   "execution_count": 1,
   "metadata": {},
   "outputs": [],
   "source": [
    "import math\n",
    "import random\n",
    "import numpy as np\n",
    "import matplotlib.pyplot as plt\n",
    "\n",
    "from ipywidgets import interact"
   ]
  },
  {
   "cell_type": "code",
   "execution_count": 2,
   "metadata": {},
   "outputs": [],
   "source": [
    "plt.rcParams['figure.figsize'] = [12, 8]"
   ]
  },
  {
   "cell_type": "code",
   "execution_count": 3,
   "metadata": {},
   "outputs": [],
   "source": [
    "a = 0\n",
    "b = math.pi / 4"
   ]
  },
  {
   "cell_type": "code",
   "execution_count": 4,
   "metadata": {},
   "outputs": [],
   "source": [
    "def get_x():\n",
    "    return a + random.random()*(b-a)\n",
    "\n",
    "def y_func(x):\n",
    "    return math.tan(x)\n",
    "\n",
    "def get_y():\n",
    "    return y_func(get_x())"
   ]
  },
  {
   "cell_type": "code",
   "execution_count": 5,
   "metadata": {},
   "outputs": [],
   "source": [
    "def generate_varseries(n):\n",
    "    ys = []\n",
    "\n",
    "    for i in range(n):\n",
    "        ys.append(get_y())\n",
    "\n",
    "    ys.sort()\n",
    "    return ys\n",
    "\n",
    "def output_verseries(n):\n",
    "    vs = generate_varseries(n)\n",
    "    return [round(v, 3) for v in vs]\n",
    "    \n",
    "\n",
    "def plot_empirical(n):\n",
    "    vs = generate_varseries(n)\n",
    "    plt.step([0] + [y for y in vs] + [1], [0] + [index/ len(vs) for index in range(len(vs))] + [1])\n",
    "    plt.show()"
   ]
  },
  {
   "source": [
    "## Вариационный ряд:"
   ],
   "cell_type": "markdown",
   "metadata": {}
  },
  {
   "cell_type": "code",
   "execution_count": 6,
   "metadata": {},
   "outputs": [
    {
     "output_type": "display_data",
     "data": {
      "text/plain": "interactive(children=(IntSlider(value=30, description='n', max=60, min=1), Output()), _dom_classes=('widget-in…",
      "application/vnd.jupyter.widget-view+json": {
       "version_major": 2,
       "version_minor": 0,
       "model_id": "2f933d9b7450484188b91b1e24e40ff6"
      }
     },
     "metadata": {}
    },
    {
     "output_type": "execute_result",
     "data": {
      "text/plain": [
       "<function __main__.output_verseries(n)>"
      ]
     },
     "metadata": {},
     "execution_count": 6
    }
   ],
   "source": [
    "interact(output_verseries, n=(1, 60))"
   ]
  },
  {
   "source": [
    "## Эмпирическая функция распределения:"
   ],
   "cell_type": "markdown",
   "metadata": {}
  },
  {
   "cell_type": "code",
   "execution_count": 7,
   "metadata": {},
   "outputs": [
    {
     "output_type": "display_data",
     "data": {
      "text/plain": "interactive(children=(IntSlider(value=50000, description='n', max=100000, min=1), Output()), _dom_classes=('wi…",
      "application/vnd.jupyter.widget-view+json": {
       "version_major": 2,
       "version_minor": 0,
       "model_id": "7704145e412543449b08744c11acf846"
      }
     },
     "metadata": {}
    },
    {
     "output_type": "execute_result",
     "data": {
      "text/plain": [
       "<function __main__.plot_empirical(n)>"
      ]
     },
     "metadata": {},
     "execution_count": 7
    }
   ],
   "source": [
    "interact(plot_empirical, n=(1, 100000))"
   ]
  },
  {
   "source": [
    "## Аналитически найденная функция распределения $Y(X)$:\n",
    "\n"
   ],
   "cell_type": "markdown",
   "metadata": {}
  },
  {
   "source": [
    "![title](imgs/img1.jpg)"
   ],
   "cell_type": "markdown",
   "metadata": {}
  },
  {
   "cell_type": "code",
   "execution_count": 8,
   "metadata": {},
   "outputs": [],
   "source": [
    "def Fy_deduced(y):\n",
    "    if y < 0:\n",
    "        return 0\n",
    "    elif y > 1:\n",
    "        return 1\n",
    "    else:\n",
    "        return 4 / math.pi * math.atan(y)"
   ]
  },
  {
   "cell_type": "code",
   "execution_count": 9,
   "metadata": {},
   "outputs": [],
   "source": [
    "def plot_Fs(n):\n",
    "    vs = generate_varseries(n)\n",
    "    plt.step([0] + [y for y in vs] + [1], [0] + [index/ len(vs) for index in range(len(vs))] + [1], label='эмпирическая функция распределения')\n",
    "\n",
    "    ys = np.linspace(0, 1, 1000)\n",
    "    plt.plot(ys, [Fy_deduced(y) for y in ys], label='аналитическая функция распределения')\n",
    "\n",
    "    plt.show()"
   ]
  },
  {
   "source": [
    "## Сравнение аналитической и эмпиричекой функций:"
   ],
   "cell_type": "markdown",
   "metadata": {}
  },
  {
   "cell_type": "code",
   "execution_count": 10,
   "metadata": {},
   "outputs": [
    {
     "output_type": "display_data",
     "data": {
      "text/plain": "interactive(children=(IntSlider(value=50000, description='n', max=100000, min=1), Output()), _dom_classes=('wi…",
      "application/vnd.jupyter.widget-view+json": {
       "version_major": 2,
       "version_minor": 0,
       "model_id": "e514f84fd0eb4afc9e46de6868df7600"
      }
     },
     "metadata": {}
    },
    {
     "output_type": "execute_result",
     "data": {
      "text/plain": [
       "<function __main__.plot_Fs(n)>"
      ]
     },
     "metadata": {},
     "execution_count": 10
    }
   ],
   "source": [
    "interact(plot_Fs, n=(1, 100000))"
   ]
  }
 ]
}