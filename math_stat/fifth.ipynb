{
 "cells": [
  {
   "cell_type": "markdown",
   "metadata": {},
   "source": [
    "# ТВиМС задание 1\n",
    "\n",
    "## Вариант 14\n",
    "\n",
    "Интервальные оценки"
   ]
  },
  {
   "cell_type": "markdown",
   "metadata": {},
   "source": [
    "***"
   ]
  },
  {
   "cell_type": "markdown",
   "metadata": {},
   "source": [
    "## Setup:"
   ]
  },
  {
   "cell_type": "code",
   "execution_count": 1,
   "metadata": {},
   "outputs": [],
   "source": [
    "import math\n",
    "import matplotlib.pyplot as plt\n",
    "\n",
    "import base\n",
    "import vs_analysis\n",
    "import taskdata\n",
    "\n",
    "from ipywidgets import interact, interact_manual, fixed"
   ]
  },
  {
   "cell_type": "code",
   "execution_count": 2,
   "metadata": {},
   "outputs": [],
   "source": [
    "# change this to set the best plot appearance on your display\n",
    "plt.rcParams['figure.figsize'] = [18, 10]"
   ]
  },
  {
   "cell_type": "markdown",
   "metadata": {},
   "source": [
    "## Точечные оценки:"
   ]
  },
  {
   "cell_type": "markdown",
   "metadata": {},
   "source": [
    "### Матожидание и дисперсия выборки в зависимости от ее размера:"
   ]
  },
  {
   "cell_type": "code",
   "execution_count": 3,
   "metadata": {},
   "outputs": [],
   "source": [
    "def get_mu_and_s_squared_for_varseries(n):\n",
    "    vs = base.generate_varseries(taskdata.get_y, n)\n",
    "    mu = vs_analysis.expected_value(vs)\n",
    "    s_sq = vs_analysis.variance(vs)\n",
    "    return mu, s_sq"
   ]
  },
  {
   "cell_type": "code",
   "execution_count": 4,
   "metadata": {},
   "outputs": [
    {
     "data": {
      "application/vnd.jupyter.widget-view+json": {
       "model_id": "50370c3be894472b8d5a93b9557d4fb8",
       "version_major": 2,
       "version_minor": 0
      },
      "text/plain": [
       "interactive(children=(IntSlider(value=500001, description='n', max=1000000, min=2), Output()), _dom_classes=('…"
      ]
     },
     "metadata": {},
     "output_type": "display_data"
    },
    {
     "data": {
      "text/plain": [
       "<function __main__.get_mu_and_s_squared_for_varseries(n)>"
      ]
     },
     "execution_count": 4,
     "metadata": {},
     "output_type": "execute_result"
    }
   ],
   "source": [
    "interact(get_mu_and_s_squared_for_varseries, n=(2, 1_000_000))"
   ]
  },
  {
   "cell_type": "markdown",
   "metadata": {},
   "source": [
    "### Аналитические расчеты матожидания и дисперсии:"
   ]
  },
  {
   "cell_type": "markdown",
   "metadata": {},
   "source": [
    "![title](imgs/img3.jpg)"
   ]
  },
  {
   "cell_type": "code",
   "execution_count": 5,
   "metadata": {},
   "outputs": [
    {
     "name": "stdout",
     "output_type": "stream",
     "text": [
      "0.4412712003053032\n"
     ]
    }
   ],
   "source": [
    "mu = 2*math.log(2) / math.pi\n",
    "print(mu)"
   ]
  },
  {
   "cell_type": "code",
   "execution_count": 6,
   "metadata": {},
   "outputs": [
    {
     "name": "stdout",
     "output_type": "stream",
     "text": [
      "0.07851927251627977\n"
     ]
    }
   ],
   "source": [
    "var = 4/math.pi - 1 - 4/math.pi**2 * math.log(2)**2\n",
    "print(var)"
   ]
  },
  {
   "cell_type": "markdown",
   "metadata": {},
   "source": [
    "### Зависимость величины отклонений от размера выборки:"
   ]
  },
  {
   "cell_type": "code",
   "execution_count": 7,
   "metadata": {},
   "outputs": [
    {
     "data": {
      "application/vnd.jupyter.widget-view+json": {
       "model_id": "840b62a4a5af4cbdbb6bd8eb4e6913c7",
       "version_major": 2,
       "version_minor": 0
      },
      "text/plain": [
       "interactive(children=(IntSlider(value=500001, description='n', max=1000000, min=2), Output()), _dom_classes=('…"
      ]
     },
     "metadata": {},
     "output_type": "display_data"
    },
    {
     "data": {
      "text/plain": [
       "<function __main__.deviations(n)>"
      ]
     },
     "execution_count": 7,
     "metadata": {},
     "output_type": "execute_result"
    }
   ],
   "source": [
    "def deviations(n):\n",
    "    vs_mu, vs_s_sq = get_mu_and_s_squared_for_varseries(n)\n",
    "    return abs(mu - vs_mu), abs(var - vs_s_sq)\n",
    "\n",
    "interact(deviations, n=(2, 1_000_000))"
   ]
  },
  {
   "cell_type": "markdown",
   "metadata": {},
   "source": [
    "## Интервальные оценки:"
   ]
  },
  {
   "cell_type": "code",
   "execution_count": 16,
   "metadata": {},
   "outputs": [
    {
     "data": {
      "application/vnd.jupyter.widget-view+json": {
       "model_id": "fd3066fdd75e41dcb09fd7272b3cff74",
       "version_major": 2,
       "version_minor": 0
      },
      "text/plain": [
       "interactive(children=(IntSlider(value=502, description='n', max=1000, min=5), FloatSlider(value=0.5, descripti…"
      ]
     },
     "metadata": {},
     "output_type": "display_data"
    },
    {
     "data": {
      "text/plain": [
       "<function __main__.get_mu_interval(n, confidence, param)>"
      ]
     },
     "execution_count": 16,
     "metadata": {},
     "output_type": "execute_result"
    }
   ],
   "source": [
    "def get_mu_interval(n, confidence, param):\n",
    "    vs = base.generate_varseries(taskdata.get_y, n)\n",
    "    a, b = vs_analysis.confidence_interval(vs, confidence, param)\n",
    "    return a, b\n",
    "\n",
    "interact(get_mu_interval, n=(5, 1000), confidence=(0.01, 0.99, 0.01), param=['матожидание', 'дисперсия'])"
   ]
  },
  {
   "cell_type": "code",
   "execution_count": 8,
   "metadata": {},
   "outputs": [],
   "source": [
    "def plot_mu_stuff(n, var_known=True):\n",
    "    vs = base.generate_varseries(taskdata.get_y, n)\n",
    "    \n",
    "    confidences = [0.01*i for i in range(101)]\n",
    "\n",
    "    if var_known:\n",
    "        intervals = [vs_analysis.confidence_interval(vs, confidence, 'матожидание', var=var) for confidence in confidences]\n",
    "    else:\n",
    "        intervals = [vs_analysis.confidence_interval(vs, confidence, 'матожидание') for confidence in confidences]\n",
    "\n",
    "    intervals_lower_bounds = [interval[0] for interval in intervals]\n",
    "    intervals_upper_bounds = [interval[1] for interval in intervals]\n",
    "\n",
    "    # fig, ax = plt.subplots(figsize=(12, 8))\n",
    "    plt.ylim(taskdata.y_a, taskdata.y_b)\n",
    "    plt.plot([0, 1], [mu, mu], 'k--', label='аналитическое матожидание')\n",
    "    plt.scatter(confidences, intervals_lower_bounds, label='нижние границы интервалов')\n",
    "    plt.scatter(confidences, intervals_upper_bounds, label='верхние границы интервалов')\n",
    "    plt.legend()\n",
    "    plt.show()\n",
    "\n",
    "\n",
    "def plot_var_stuff(n, mu_known=True):\n",
    "    vs = base.generate_varseries(taskdata.get_y, n)\n",
    "\n",
    "    confidences = [0.01*i for i in range(101)]\n",
    "\n",
    "    if mu_known:\n",
    "        intervals = [vs_analysis.confidence_interval(vs, confidence, 'дисперсия', mu=mu) for confidence in confidences]\n",
    "    else:\n",
    "        intervals = [vs_analysis.confidence_interval(vs, confidence, 'дисперсия') for confidence in confidences]\n",
    "\n",
    "    intervals_lower_bounds = [interval[0] for interval in intervals]\n",
    "    intervals_upper_bounds = [interval[1] for interval in intervals]\n",
    "\n",
    "    plt.ylim(0, 3*var)\n",
    "    plt.plot([0, 1], [var, var], 'k--', label='аналитическая дисперсия')\n",
    "    plt.scatter(confidences, intervals_lower_bounds, label='нижние границы интервалов')\n",
    "    plt.scatter(confidences, intervals_upper_bounds, label='верхние границы интервалов')\n",
    "    plt.legend()\n",
    "    plt.show()\n"
   ]
  },
  {
   "cell_type": "markdown",
   "metadata": {},
   "source": [
    "### Доверительные интервалы (матожидание):"
   ]
  },
  {
   "cell_type": "code",
   "execution_count": 15,
   "metadata": {},
   "outputs": [
    {
     "data": {
      "application/vnd.jupyter.widget-view+json": {
       "model_id": "cc1b2630c85b4d3eb13e878eca992844",
       "version_major": 2,
       "version_minor": 0
      },
      "text/plain": [
       "interactive(children=(IntSlider(value=502, description='n', max=1000, min=5), Dropdown(description='var_known'…"
      ]
     },
     "metadata": {},
     "output_type": "display_data"
    },
    {
     "data": {
      "text/plain": [
       "<function __main__.plot_mu_stuff(n, var_known=True)>"
      ]
     },
     "execution_count": 15,
     "metadata": {},
     "output_type": "execute_result"
    }
   ],
   "source": [
    "interact_manual(plot_mu_stuff, n=(5, 1000), var_known=[True, False])"
   ]
  },
  {
   "cell_type": "markdown",
   "metadata": {},
   "source": [
    "### Доверительные интервалы (дисперсия):"
   ]
  },
  {
   "cell_type": "code",
   "execution_count": 10,
   "metadata": {},
   "outputs": [
    {
     "data": {
      "application/vnd.jupyter.widget-view+json": {
       "model_id": "d1a0610681ba435d8d44ade4596bf715",
       "version_major": 2,
       "version_minor": 0
      },
      "text/plain": [
       "interactive(children=(IntSlider(value=502, description='n', max=1000, min=5), Dropdown(description='mu_known',…"
      ]
     },
     "metadata": {},
     "output_type": "display_data"
    },
    {
     "data": {
      "text/plain": [
       "<function __main__.plot_var_stuff(n, mu_known=True)>"
      ]
     },
     "execution_count": 10,
     "metadata": {},
     "output_type": "execute_result"
    }
   ],
   "source": [
    "interact_manual(plot_var_stuff, n=(5, 1000), mu_known=[True, False])"
   ]
  },
  {
   "cell_type": "markdown",
   "metadata": {},
   "source": [
    "### Завсисимость величины доверительных интервалов от объема выборки при фиксированной доверительной вероятности:"
   ]
  },
  {
   "cell_type": "code",
   "execution_count": 11,
   "metadata": {},
   "outputs": [],
   "source": [
    "def intlen_mu(n, confidence, var_known=True):\n",
    "    vs = base.generate_varseries(taskdata.get_y, n)\n",
    "    interval = vs_analysis.confidence_interval(vs, confidence, 'матожидание', var=(var if var_known else None))\n",
    "    return interval[1] - interval[0]\n",
    "\n",
    "\n",
    "def intlen_var(n, confidence, mu_known=True):\n",
    "    vs = base.generate_varseries(taskdata.get_y, n)\n",
    "    interval = vs_analysis.confidence_interval(vs, confidence, 'дисперсия', mu=(mu if mu_known else None))\n",
    "    return interval[1] - interval[0]\n",
    "\n",
    "\n",
    "SAMPLE_NUM = 64\n",
    "\n",
    "\n",
    "def plot_more_mu_stuff(n_min, n_max, n_step, confidence, var_known=True):\n",
    "    ns = [n for n in range(n_min, n_max+1, n_step)]\n",
    "    intlens = [0]*len(ns)\n",
    "    for (i, n) in enumerate(ns):\n",
    "        for _ in range(SAMPLE_NUM):\n",
    "            intlens[i] += intlen_mu(n, confidence, var_known=var_known)\n",
    "        intlens[i] /= SAMPLE_NUM\n",
    "\n",
    "    plt.scatter(ns, intlens)\n",
    "    plt.show()\n",
    "\n",
    "\n",
    "def plot_more_var_stuff(n_min, n_max, n_step, confidence, mu_known=True):\n",
    "    ns = [n for n in range(n_min, n_max+1, n_step)]\n",
    "    intlens = [0]*len(ns)\n",
    "    for (i, n) in enumerate(ns):\n",
    "        for _ in range(SAMPLE_NUM):\n",
    "            intlens[i] += intlen_var(n, confidence, mu_known=mu_known)\n",
    "        intlens[i] /= SAMPLE_NUM\n",
    "\n",
    "    plt.scatter(ns, intlens)\n",
    "    plt.show()"
   ]
  },
  {
   "cell_type": "code",
   "execution_count": 12,
   "metadata": {},
   "outputs": [
    {
     "data": {
      "application/vnd.jupyter.widget-view+json": {
       "model_id": "4839f376ab274d369486633354db16f1",
       "version_major": 2,
       "version_minor": 0
      },
      "text/plain": [
       "interactive(children=(FloatSlider(value=0.5, description='confidence', max=0.99, min=0.01, step=0.01), Dropdow…"
      ]
     },
     "metadata": {},
     "output_type": "display_data"
    },
    {
     "data": {
      "text/plain": [
       "<function __main__.plot_more_mu_stuff(n_min, n_max, n_step, confidence, var_known=True)>"
      ]
     },
     "execution_count": 12,
     "metadata": {},
     "output_type": "execute_result"
    }
   ],
   "source": [
    "interact_manual(plot_more_mu_stuff, n_min=fixed(5), n_max=fixed(105), n_step=fixed(1), confidence=(0.01, 0.99, 0.01), var_known=[True, False])"
   ]
  },
  {
   "cell_type": "code",
   "execution_count": 13,
   "metadata": {},
   "outputs": [
    {
     "data": {
      "application/vnd.jupyter.widget-view+json": {
       "model_id": "326c511e844f4a9e9177baa6f6033d11",
       "version_major": 2,
       "version_minor": 0
      },
      "text/plain": [
       "interactive(children=(FloatSlider(value=0.5, description='confidence', max=0.99, min=0.01, step=0.01), Dropdow…"
      ]
     },
     "metadata": {},
     "output_type": "display_data"
    },
    {
     "data": {
      "text/plain": [
       "<function __main__.plot_more_var_stuff(n_min, n_max, n_step, confidence, mu_known=True)>"
      ]
     },
     "execution_count": 13,
     "metadata": {},
     "output_type": "execute_result"
    }
   ],
   "source": [
    "interact_manual(plot_more_var_stuff, n_min=fixed(5), n_max=fixed(105), n_step=fixed(1), confidence=(0.01, 0.99, 0.01), mu_known=[True, False])"
   ]
  }
 ],
 "metadata": {
  "interpreter": {
   "hash": "ce2db10f4ff34e0b876ddfba269948e5918580ad074a00f37d2b1d6068e9f6c7"
  },
  "kernelspec": {
   "display_name": "Python 3.8.8 64-bit ('base': conda)",
   "name": "python3"
  },
  "language_info": {
   "codemirror_mode": {
    "name": "ipython",
    "version": 3
   },
   "file_extension": ".py",
   "mimetype": "text/x-python",
   "name": "python",
   "nbconvert_exporter": "python",
   "pygments_lexer": "ipython3",
   "version": "3.8.8"
  },
  "metadata": {
   "interpreter": {
    "hash": "ce2db10f4ff34e0b876ddfba269948e5918580ad074a00f37d2b1d6068e9f6c7"
   }
  },
  "orig_nbformat": 2
 },
 "nbformat": 4,
 "nbformat_minor": 2
}