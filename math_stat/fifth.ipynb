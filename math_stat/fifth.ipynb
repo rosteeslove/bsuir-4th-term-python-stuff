{
 "cells": [
  {
   "cell_type": "markdown",
   "metadata": {},
   "source": [
    "# ТВиМС задание 1\n",
    "\n",
    "## Вариант 14\n",
    "\n",
    "Интервальные оценки"
   ]
  },
  {
   "cell_type": "markdown",
   "metadata": {},
   "source": [
    "***"
   ]
  },
  {
   "cell_type": "markdown",
   "metadata": {},
   "source": [
    "## Setup:"
   ]
  },
  {
   "cell_type": "code",
   "execution_count": 1,
   "metadata": {},
   "outputs": [],
   "source": [
    "import math\n",
    "import matplotlib.pyplot as plt\n",
    "\n",
    "import base\n",
    "import vs_analysis\n",
    "import taskdata\n",
    "\n",
    "from ipywidgets import interact, interact_manual, fixed"
   ]
  },
  {
   "cell_type": "code",
   "execution_count": 2,
   "metadata": {},
   "outputs": [],
   "source": [
    "# change this to set the best plot appearance on your display\n",
    "plt.rcParams['figure.figsize'] = [18, 10]"
   ]
  },
  {
   "cell_type": "markdown",
   "metadata": {},
   "source": [
    "## Точечные оценки:"
   ]
  },
  {
   "cell_type": "markdown",
   "metadata": {},
   "source": [
    "### Матожидание и дисперсия выборки в зависимости от ее размера:"
   ]
  },
  {
   "cell_type": "code",
   "execution_count": 3,
   "metadata": {},
   "outputs": [],
   "source": [
    "def get_mu_and_s_squared_for_varseries(n):\n",
    "    vs = base.generate_varseries(taskdata.get_y, n)\n",
    "    mu = vs_analysis.expected_value(vs)\n",
    "    s_sq = vs_analysis.variance(vs)\n",
    "    return mu, s_sq"
   ]
  },
  {
   "cell_type": "code",
   "execution_count": 4,
   "metadata": {},
   "outputs": [
    {
     "data": {
      "application/vnd.jupyter.widget-view+json": {
       "model_id": "6564fa3cba5b4833b735b8d729881646",
       "version_major": 2,
       "version_minor": 0
      },
      "text/plain": [
       "interactive(children=(IntSlider(value=500001, description='n', max=1000000, min=2), Output()), _dom_classes=('…"
      ]
     },
     "metadata": {},
     "output_type": "display_data"
    },
    {
     "data": {
      "text/plain": [
       "<function __main__.get_mu_and_s_squared_for_varseries(n)>"
      ]
     },
     "execution_count": 4,
     "metadata": {},
     "output_type": "execute_result"
    }
   ],
   "source": [
    "interact(get_mu_and_s_squared_for_varseries, n=(2, 1_000_000))"
   ]
  },
  {
   "cell_type": "markdown",
   "metadata": {},
   "source": [
    "### Аналитические расчеты матожидания и дисперсии:"
   ]
  },
  {
   "cell_type": "markdown",
   "metadata": {},
   "source": [
    "![title](imgs/img3.jpg)"
   ]
  },
  {
   "cell_type": "code",
   "execution_count": 5,
   "metadata": {},
   "outputs": [
    {
     "name": "stdout",
     "output_type": "stream",
     "text": [
      "0.4412712003053032\n"
     ]
    }
   ],
   "source": [
    "mu = 2*math.log(2) / math.pi\n",
    "print(mu)"
   ]
  },
  {
   "cell_type": "code",
   "execution_count": 6,
   "metadata": {},
   "outputs": [
    {
     "name": "stdout",
     "output_type": "stream",
     "text": [
      "0.07851927251627977\n"
     ]
    }
   ],
   "source": [
    "var = 4/math.pi - 1 - 4/math.pi**2 * math.log(2)**2\n",
    "print(var)"
   ]
  },
  {
   "cell_type": "markdown",
   "metadata": {},
   "source": [
    "### Зависимость величины отклонений от размера выборки:"
   ]
  },
  {
   "cell_type": "code",
   "execution_count": 7,
   "metadata": {},
   "outputs": [
    {
     "data": {
      "application/vnd.jupyter.widget-view+json": {
       "model_id": "5f57ec138f6045fb82af7d0275035d49",
       "version_major": 2,
       "version_minor": 0
      },
      "text/plain": [
       "interactive(children=(IntSlider(value=500001, description='n', max=1000000, min=2), Output()), _dom_classes=('…"
      ]
     },
     "metadata": {},
     "output_type": "display_data"
    },
    {
     "data": {
      "text/plain": [
       "<function __main__.deviations(n)>"
      ]
     },
     "execution_count": 7,
     "metadata": {},
     "output_type": "execute_result"
    }
   ],
   "source": [
    "def deviations(n):\n",
    "    vs_mu, vs_s_sq = get_mu_and_s_squared_for_varseries(n)\n",
    "    return abs(mu - vs_mu), abs(var - vs_s_sq)\n",
    "\n",
    "interact(deviations, n=(2, 1_000_000))"
   ]
  },
  {
   "cell_type": "markdown",
   "metadata": {},
   "source": [
    "## Интервальные оценки:"
   ]
  },
  {
   "cell_type": "code",
   "execution_count": 8,
   "metadata": {},
   "outputs": [],
   "source": [
    "def plot_mu_stuff(n, var_known=True):\n",
    "    vs = base.generate_varseries(taskdata.get_y, n)\n",
    "    \n",
    "    confidences = [0.01*i for i in range(101)]\n",
    "\n",
    "    if var_known:\n",
    "        intervals = [vs_analysis.confidence_interval(vs, confidence, 'матожидание', var=var) for confidence in confidences]\n",
    "    else:\n",
    "        intervals = [vs_analysis.confidence_interval(vs, confidence, 'матожидание') for confidence in confidences]\n",
    "\n",
    "    intervals_lower_bounds = [interval[0] for interval in intervals]\n",
    "    intervals_upper_bounds = [interval[1] for interval in intervals]\n",
    "\n",
    "    # fig, ax = plt.subplots(figsize=(12, 8))\n",
    "    plt.ylim(taskdata.y_a, taskdata.y_b)\n",
    "    plt.plot([0, 1], [mu, mu], 'k--', label='аналитическое матожидание')\n",
    "    plt.scatter(confidences, intervals_lower_bounds, label='нижние границы интервалов')\n",
    "    plt.scatter(confidences, intervals_upper_bounds, label='верхние границы интервалов')\n",
    "    plt.legend()\n",
    "    plt.show()\n",
    "\n",
    "\n",
    "def plot_var_stuff(n, mu_known=False):\n",
    "    vs = base.generate_varseries(taskdata.get_y, n)\n",
    "\n",
    "    confidences = [0.01*i for i in range(101)]\n",
    "\n",
    "    if mu_known:\n",
    "        intervals = [vs_analysis.confidence_interval(vs, confidence, 'дисперсия', mu=mu) for confidence in confidences]\n",
    "    else:\n",
    "        intervals = [vs_analysis.confidence_interval(vs, confidence, 'дисперсия') for confidence in confidences]\n",
    "\n",
    "    intervals_lower_bounds = [interval[0] for interval in intervals]\n",
    "    intervals_upper_bounds = [interval[1] for interval in intervals]\n",
    "\n",
    "    plt.ylim(0, 3*var)\n",
    "    plt.plot([0, 1], [var, var], 'k--', label='аналитическая дисперсия')\n",
    "    plt.scatter(confidences, intervals_lower_bounds, label='нижние границы интервалов')\n",
    "    plt.scatter(confidences, intervals_upper_bounds, label='верхние границы интервалов')\n",
    "    plt.legend()\n",
    "    plt.show()\n"
   ]
  },
  {
   "cell_type": "markdown",
   "metadata": {},
   "source": [
    "### Доверительные интервалы (матожидание):"
   ]
  },
  {
   "cell_type": "code",
   "execution_count": 9,
   "metadata": {},
   "outputs": [
    {
     "data": {
      "application/vnd.jupyter.widget-view+json": {
       "model_id": "792279ff4a154b6699fbc6639765fe1d",
       "version_major": 2,
       "version_minor": 0
      },
      "text/plain": [
       "interactive(children=(IntSlider(value=502, description='n', max=1000, min=5), Dropdown(description='var_known'…"
      ]
     },
     "metadata": {},
     "output_type": "display_data"
    },
    {
     "data": {
      "text/plain": [
       "<function __main__.plot_mu_stuff(n, var_known=True)>"
      ]
     },
     "execution_count": 9,
     "metadata": {},
     "output_type": "execute_result"
    }
   ],
   "source": [
    "interact_manual(plot_mu_stuff, n=(5, 1000), var_known=[True, False])"
   ]
  },
  {
   "cell_type": "markdown",
   "metadata": {},
   "source": [
    "### Доверительные интервалы (дисперсия):"
   ]
  },
  {
   "cell_type": "code",
   "execution_count": 10,
   "metadata": {},
   "outputs": [
    {
     "data": {
      "application/vnd.jupyter.widget-view+json": {
       "model_id": "51fb5e0d1b3242cba1008e8e4fd6f336",
       "version_major": 2,
       "version_minor": 0
      },
      "text/plain": [
       "interactive(children=(IntSlider(value=502, description='n', max=1000, min=5), Dropdown(description='mu_known',…"
      ]
     },
     "metadata": {},
     "output_type": "display_data"
    },
    {
     "data": {
      "text/plain": [
       "<function __main__.plot_var_stuff(n, mu_known=False)>"
      ]
     },
     "execution_count": 10,
     "metadata": {},
     "output_type": "execute_result"
    }
   ],
   "source": [
    "interact_manual(plot_var_stuff, n=(5, 1000), mu_known=[True, False])"
   ]
  }
 ],
 "metadata": {
  "interpreter": {
   "hash": "ce2db10f4ff34e0b876ddfba269948e5918580ad074a00f37d2b1d6068e9f6c7"
  },
  "kernelspec": {
   "display_name": "Python 3.8.8 64-bit ('base': conda)",
   "name": "python3"
  },
  "language_info": {
   "codemirror_mode": {
    "name": "ipython",
    "version": 3
   },
   "file_extension": ".py",
   "mimetype": "text/x-python",
   "name": "python",
   "nbconvert_exporter": "python",
   "pygments_lexer": "ipython3",
   "version": "3.8.8"
  },
  "metadata": {
   "interpreter": {
    "hash": "ce2db10f4ff34e0b876ddfba269948e5918580ad074a00f37d2b1d6068e9f6c7"
   }
  },
  "orig_nbformat": 2
 },
 "nbformat": 4,
 "nbformat_minor": 2
}